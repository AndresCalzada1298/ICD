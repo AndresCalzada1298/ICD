{
 "cells": [
  {
   "cell_type": "code",
   "execution_count": 1,
   "id": "5df9824e-ec57-48dc-85de-4dcf616f2353",
   "metadata": {
    "tags": []
   },
   "outputs": [],
   "source": [
    "import pandas as pd\n",
    "import re\n",
    "import spacy as spc\n",
    "import nltk\n",
    "from nltk.corpus import stopwords\n",
    "from nltk.tokenize import word_tokenize\n",
    "from sklearn.feature_extraction.text import CountVectorizer"
   ]
  },
  {
   "cell_type": "code",
   "execution_count": 2,
   "id": "6d226ede-3916-4d29-9239-9022683acf17",
   "metadata": {
    "tags": []
   },
   "outputs": [
    {
     "name": "stdout",
     "output_type": "stream",
     "text": [
      "@Mar18blink Estoy buscando un producto genial por menos de 50. He encontrado muchos en https://t.co/FI1ShlDozc. ¿Qué opinas? Quiero comprarlo ya!!!\n"
     ]
    }
   ],
   "source": [
    "oracion = \"@Mar18blink Estoy buscando un producto genial por menos de 50. He encontrado muchos en https://t.co/FI1ShlDozc. ¿Qué opinas? Quiero comprarlo ya!!!\"\n",
    "print(oracion)"
   ]
  },
  {
   "cell_type": "code",
   "execution_count": 3,
   "id": "98e55862-1f26-4087-b5d6-6004ca35971e",
   "metadata": {
    "tags": []
   },
   "outputs": [
    {
     "name": "stdout",
     "output_type": "stream",
     "text": [
      " estoy buscando un producto genial por menos de  he encontrado muchos en  qué opinas quiero comprarlo ya\n"
     ]
    }
   ],
   "source": [
    "oracion = oracion.lower()\n",
    "oracion = re.sub(r\"@\\S+\", \"\", oracion)  # Eliminar menciones a usuarios\n",
    "oracion = re.sub(\"http[s]?\\://\\S+\", \"\", oracion)  # Eliminar enlaces\n",
    "oracion = re.sub(r\"#\\S+\", \"\", oracion)  # Eliminar hashtags\n",
    "oracion = re.sub(r\"[0-9]\", \"\", oracion)  # Eliminar números\n",
    "oracion = re.sub(r\"(\\(.*\\))|(\\[.*\\])\", \"\", oracion)  # Eliminar paréntesis y corchetes\n",
    "oracion = re.sub(r\"\\n\", \"\", oracion)  # Eliminar caracteres de nueva línea\n",
    "oracion = re.sub(r\"(http[s]?\\://\\S+)|([\\[\\(].*[\\)\\]])|([#@]\\S+)|\\n\", \"\", oracion)  # Eliminar varios patrones\n",
    "oracion = re.sub(r\"(\\.)|(,)\", \"\", oracion)  # Eliminar puntos y comas\n",
    "oracion = re.sub(r\"[¡!]\", \"\", oracion)  # Eliminar signos de admiración \n",
    "oracion = re.sub(r\"[¿?]\", \"\", oracion)  # Eliminar signos de exclamación\n",
    "print(oracion)"
   ]
  },
  {
   "cell_type": "markdown",
   "id": "7b1b044f-b25c-43ef-81c3-ee8dcf1e89ae",
   "metadata": {},
   "source": [
    "Tokenización"
   ]
  },
  {
   "cell_type": "code",
   "execution_count": 5,
   "id": "85037da7-d652-48f5-be53-db3bbbeb0526",
   "metadata": {
    "tags": []
   },
   "outputs": [
    {
     "name": "stderr",
     "output_type": "stream",
     "text": [
      "[nltk_data] Downloading package punkt to\n",
      "[nltk_data]     C:\\Users\\IGLCH\\AppData\\Roaming\\nltk_data...\n",
      "[nltk_data]   Unzipping tokenizers\\punkt.zip.\n"
     ]
    },
    {
     "data": {
      "text/plain": [
       "True"
      ]
     },
     "execution_count": 5,
     "metadata": {},
     "output_type": "execute_result"
    }
   ],
   "source": [
    "nltk.download('punkt')  #Sólo una vez ¿en el código o en general?"
   ]
  },
  {
   "cell_type": "code",
   "execution_count": 6,
   "id": "6b59d00b-fdc2-4fd3-aaf1-27f4afd62843",
   "metadata": {
    "tags": []
   },
   "outputs": [
    {
     "name": "stdout",
     "output_type": "stream",
     "text": [
      "['estoy', 'buscando', 'un', 'producto', 'genial', 'por', 'menos', 'de', 'he', 'encontrado', 'muchos', 'en', 'qué', 'opinas', 'quiero', 'comprarlo', 'ya']\n"
     ]
    }
   ],
   "source": [
    "#nltk.download('punkt')\n",
    "tokens = word_tokenize(oracion)\n",
    "print(tokens)"
   ]
  },
  {
   "cell_type": "code",
   "execution_count": null,
   "id": "232565ea-95b3-46b3-82d8-a25b4ba94082",
   "metadata": {},
   "outputs": [],
   "source": [
    "nltk.download('stopwords')    #Esta solo una vez en el código "
   ]
  },
  {
   "cell_type": "code",
   "execution_count": 8,
   "id": "5652f99c-5a30-461f-99bc-9d6d1016162e",
   "metadata": {
    "tags": []
   },
   "outputs": [
    {
     "name": "stdout",
     "output_type": "stream",
     "text": [
      "['buscando', 'producto', 'genial', 'menos', 'encontrado', 'opinas', 'quiero', 'comprarlo']\n"
     ]
    }
   ],
   "source": [
    "#nltk.download('stopwords')\n",
    "spanish_stopwords = stopwords.words('spanish')\n",
    "palabras_filtradas = [palabra for palabra in tokens if palabra not in spanish_stopwords]\n",
    "print(palabras_filtradas)"
   ]
  },
  {
   "cell_type": "code",
   "execution_count": 15,
   "id": "437783f7-88a5-4a42-96e2-4f21e1898773",
   "metadata": {
    "tags": []
   },
   "outputs": [],
   "source": [
    "#sudo python3 -m spacy download es   'solo instalar spacy dowland es'"
   ]
  },
  {
   "cell_type": "code",
   "execution_count": 12,
   "id": "1811b75e-2a24-485d-920b-7b0e2c0e74d9",
   "metadata": {
    "tags": []
   },
   "outputs": [
    {
     "name": "stdout",
     "output_type": "stream",
     "text": [
      "buscar producto genial menos encontrado opina querer comprar él\n"
     ]
    }
   ],
   "source": [
    "nlp = spc.load(\"es_core_news_sm\")\n",
    "lema = nlp(\" \".join(palabras_filtradas))\n",
    "oracion_lematizada = \" \".join([token.lemma_ for token in lema])\n",
    "print(oracion_lematizada)"
   ]
  },
  {
   "cell_type": "code",
   "execution_count": 13,
   "id": "60fcaea5-2a7c-4863-9727-c077f207d5cb",
   "metadata": {
    "tags": []
   },
   "outputs": [],
   "source": [
    "vectorizador = CountVectorizer()\n",
    "vectores = vectorizador.fit_transform([oracion_lematizada])\n",
    "vocabulario = vectorizador.get_feature_names_out()"
   ]
  },
  {
   "cell_type": "code",
   "execution_count": 14,
   "id": "edf0dd84-7f28-42a1-a263-4877029e6d2d",
   "metadata": {
    "tags": []
   },
   "outputs": [
    {
     "name": "stdout",
     "output_type": "stream",
     "text": [
      "Oración de entrada:  estoy buscando un producto genial por menos de  he encontrado muchos en  qué opinas quiero comprarlo ya\n",
      "Oración lematizada: buscar producto genial menos encontrado opina querer comprar él\n",
      "Vectores Bag of Words: [[1 1 1 1 1 1 1 1 1]]\n",
      "Vocabulario: ['buscar' 'comprar' 'encontrado' 'genial' 'menos' 'opina' 'producto'\n",
      " 'querer' 'él']\n"
     ]
    }
   ],
   "source": [
    "print(\"Oración de entrada:\", oracion)\n",
    "print(\"Oración lematizada:\", oracion_lematizada)\n",
    "print(\"Vectores Bag of Words:\", vectores.toarray())\n",
    "print(\"Vocabulario:\", vocabulario)"
   ]
  },
  {
   "cell_type": "code",
   "execution_count": 16,
   "id": "7f7bda04-3464-44f0-8d2e-1f5221e84708",
   "metadata": {
    "tags": []
   },
   "outputs": [
    {
     "data": {
      "text/html": [
       "<div>\n",
       "<style scoped>\n",
       "    .dataframe tbody tr th:only-of-type {\n",
       "        vertical-align: middle;\n",
       "    }\n",
       "\n",
       "    .dataframe tbody tr th {\n",
       "        vertical-align: top;\n",
       "    }\n",
       "\n",
       "    .dataframe thead th {\n",
       "        text-align: right;\n",
       "    }\n",
       "</style>\n",
       "<table border=\"1\" class=\"dataframe\">\n",
       "  <thead>\n",
       "    <tr style=\"text-align: right;\">\n",
       "      <th></th>\n",
       "      <th>buscar</th>\n",
       "      <th>comprar</th>\n",
       "      <th>encontrado</th>\n",
       "      <th>genial</th>\n",
       "      <th>menos</th>\n",
       "      <th>opina</th>\n",
       "      <th>producto</th>\n",
       "      <th>querer</th>\n",
       "      <th>él</th>\n",
       "    </tr>\n",
       "  </thead>\n",
       "  <tbody>\n",
       "    <tr>\n",
       "      <th>0</th>\n",
       "      <td>1</td>\n",
       "      <td>1</td>\n",
       "      <td>1</td>\n",
       "      <td>1</td>\n",
       "      <td>1</td>\n",
       "      <td>1</td>\n",
       "      <td>1</td>\n",
       "      <td>1</td>\n",
       "      <td>1</td>\n",
       "    </tr>\n",
       "  </tbody>\n",
       "</table>\n",
       "</div>"
      ],
      "text/plain": [
       "   buscar  comprar  encontrado  genial  menos  opina  producto  querer  él\n",
       "0       1        1           1       1      1      1         1       1   1"
      ]
     },
     "execution_count": 16,
     "metadata": {},
     "output_type": "execute_result"
    }
   ],
   "source": [
    "df_bw = pd.DataFrame.sparse.from_spmatrix(vectores,columns = vocabulario)\n",
    "df_bw.head()"
   ]
  },
  {
   "cell_type": "markdown",
   "id": "a2ac4b69-562d-4897-ba3d-0a4e9e379903",
   "metadata": {},
   "source": [
    "# que aparezcan en el data frame una nota deportiva y una nota politica "
   ]
  }
 ],
 "metadata": {
  "kernelspec": {
   "display_name": "Python 3 (ipykernel)",
   "language": "python",
   "name": "python3"
  },
  "language_info": {
   "codemirror_mode": {
    "name": "ipython",
    "version": 3
   },
   "file_extension": ".py",
   "mimetype": "text/x-python",
   "name": "python",
   "nbconvert_exporter": "python",
   "pygments_lexer": "ipython3",
   "version": "3.11.4"
  }
 },
 "nbformat": 4,
 "nbformat_minor": 5
}

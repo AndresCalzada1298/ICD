{
 "cells": [
  {
   "cell_type": "markdown",
   "id": "4a983ba4-b023-4e48-9334-321a0f698acd",
   "metadata": {},
   "source": [
    "## Calzada Jasso Andres Geovani *<span style = \"color : Blue\" > 23265539 </span>*"
   ]
  },
  {
   "cell_type": "markdown",
   "id": "4b9e6414-d7cb-4ff2-82ef-1b8325fac61c",
   "metadata": {},
   "source": [
    "### **Practica 3** *<span style = \"color : #E3182E\" > Regresión lineal </span>*\n",
    "\n",
    "<img src=https://economipedia.com/wp-content/uploads/Regresi%C3%B3n-lineal.png>"
   ]
  },
  {
   "cell_type": "code",
   "execution_count": 1,
   "id": "7fae5fe2-76f3-4461-b1f9-6bca738e9cb7",
   "metadata": {
    "tags": []
   },
   "outputs": [],
   "source": [
    "import pandas as pd\n",
    "import numpy as np\n",
    "import matplotlib.pyplot as plt\n",
    "import matplotlib.axes as ax\n",
    "from sklearn.linear_model import LinearRegression"
   ]
  },
  {
   "cell_type": "markdown",
   "id": "c7dc484e-20a8-4179-96a5-9fbee06c85cb",
   "metadata": {},
   "source": [
    "#### **<span style=\"color:Blue\">Descripción del DataFrame para los datos</span>.**\n",
    "\n",
    "El conjunto de datos de entrenamiento es un archivo CSV con 700 pares de datos (x,y). Los valores de x son números entre 0 y 100. Los valores de y correspondientes se generaron utilizando la función de Excel NORMINV(RAND(), x, 3). \n",
    "En consecuencia, la mejor estimación de y debería ser x.\n"
   ]
  },
  {
   "cell_type": "code",
   "execution_count": 2,
   "id": "715c003a-2e1f-482d-aa29-4a89d0aa5445",
   "metadata": {
    "tags": []
   },
   "outputs": [
    {
     "data": {
      "text/plain": [
       "0      False\n",
       "1      False\n",
       "2      False\n",
       "3      False\n",
       "4      False\n",
       "       ...  \n",
       "695    False\n",
       "696    False\n",
       "697    False\n",
       "698    False\n",
       "699    False\n",
       "Length: 700, dtype: bool"
      ]
     },
     "execution_count": 2,
     "metadata": {},
     "output_type": "execute_result"
    }
   ],
   "source": [
    "#Cargamos nuestro DataSet de entrenamiento \n",
    "data = pd.read_csv('train.csv')\n",
    "\n",
    "#Verificamos la existencia de datos duplicados comp parte de la visualización de datos \n",
    "data.duplicated()"
   ]
  },
  {
   "cell_type": "code",
   "execution_count": 3,
   "id": "28bbafaa-122c-4576-9d6d-7633cba626f8",
   "metadata": {
    "tags": []
   },
   "outputs": [
    {
     "name": "stdout",
     "output_type": "stream",
     "text": [
      "<class 'pandas.core.frame.DataFrame'>\n",
      "Int64Index: 699 entries, 0 to 699\n",
      "Data columns (total 2 columns):\n",
      " #   Column  Non-Null Count  Dtype  \n",
      "---  ------  --------------  -----  \n",
      " 0   x       699 non-null    float64\n",
      " 1   y       699 non-null    float64\n",
      "dtypes: float64(2)\n",
      "memory usage: 16.4 KB\n"
     ]
    }
   ],
   "source": [
    "#Verificamos la existencia de valores NaN y los eliminamos \n",
    "data = data.dropna()\n",
    "data.info()"
   ]
  },
  {
   "cell_type": "code",
   "execution_count": 4,
   "id": "fc3294d6-0b81-4e9c-a07f-06a0e78ea8d3",
   "metadata": {
    "tags": []
   },
   "outputs": [
    {
     "data": {
      "text/html": [
       "<div>\n",
       "<style scoped>\n",
       "    .dataframe tbody tr th:only-of-type {\n",
       "        vertical-align: middle;\n",
       "    }\n",
       "\n",
       "    .dataframe tbody tr th {\n",
       "        vertical-align: top;\n",
       "    }\n",
       "\n",
       "    .dataframe thead th {\n",
       "        text-align: right;\n",
       "    }\n",
       "</style>\n",
       "<table border=\"1\" class=\"dataframe\">\n",
       "  <thead>\n",
       "    <tr style=\"text-align: right;\">\n",
       "      <th></th>\n",
       "      <th>x</th>\n",
       "      <th>y</th>\n",
       "    </tr>\n",
       "  </thead>\n",
       "  <tbody>\n",
       "    <tr>\n",
       "      <th>0</th>\n",
       "      <td>24.0</td>\n",
       "      <td>21.549452</td>\n",
       "    </tr>\n",
       "    <tr>\n",
       "      <th>1</th>\n",
       "      <td>50.0</td>\n",
       "      <td>47.464463</td>\n",
       "    </tr>\n",
       "    <tr>\n",
       "      <th>2</th>\n",
       "      <td>15.0</td>\n",
       "      <td>17.218656</td>\n",
       "    </tr>\n",
       "    <tr>\n",
       "      <th>3</th>\n",
       "      <td>38.0</td>\n",
       "      <td>36.586398</td>\n",
       "    </tr>\n",
       "    <tr>\n",
       "      <th>4</th>\n",
       "      <td>87.0</td>\n",
       "      <td>87.288984</td>\n",
       "    </tr>\n",
       "  </tbody>\n",
       "</table>\n",
       "</div>"
      ],
      "text/plain": [
       "      x          y\n",
       "0  24.0  21.549452\n",
       "1  50.0  47.464463\n",
       "2  15.0  17.218656\n",
       "3  38.0  36.586398\n",
       "4  87.0  87.288984"
      ]
     },
     "execution_count": 4,
     "metadata": {},
     "output_type": "execute_result"
    }
   ],
   "source": [
    "#Una vez que verificamos que no existen datos duplicados ni datos nulos procedemos a verificar como es la naturaleza de los datos \n",
    "data.head()"
   ]
  },
  {
   "cell_type": "code",
   "execution_count": 5,
   "id": "08cd185a-40ef-46cd-ac87-c0638aafa9dc",
   "metadata": {
    "tags": []
   },
   "outputs": [],
   "source": [
    "# Asiganamos nuestros datos de entrenamiento a las variables train_x y train_y \n",
    "# en este caso se usaran todas los datos para realizar el entrenamiento por lo que no se necesita realizar un reshape\n",
    "train_x = data[['x']]\n",
    "train_y = data['y']"
   ]
  },
  {
   "cell_type": "markdown",
   "id": "080928df-55a4-405e-b8da-8fd12c5df9c8",
   "metadata": {},
   "source": [
    "#### **<span style=\"color:Blue\">Cargamos los datos de prueba</span>.**\n",
    "\n",
    "El conjunto de datos de prueba es un archivo CSV con 300 pares de datos."
   ]
  },
  {
   "cell_type": "code",
   "execution_count": 6,
   "id": "5752a863-9bfa-4b51-b955-33e02f55dd19",
   "metadata": {
    "tags": []
   },
   "outputs": [
    {
     "data": {
      "text/plain": [
       "0      False\n",
       "1      False\n",
       "2      False\n",
       "3      False\n",
       "4      False\n",
       "       ...  \n",
       "295    False\n",
       "296    False\n",
       "297    False\n",
       "298    False\n",
       "299    False\n",
       "Length: 300, dtype: bool"
      ]
     },
     "execution_count": 6,
     "metadata": {},
     "output_type": "execute_result"
    }
   ],
   "source": [
    "#Cargamos nuestros DataSet de prueba \n",
    "data_test = pd.read_csv('test.csv')\n",
    "\n",
    "#Verificamos la existencia de datos duplicados \n",
    "data_test.duplicated()"
   ]
  },
  {
   "cell_type": "code",
   "execution_count": 7,
   "id": "fc83bc2a-5255-496a-929b-3820768b0a37",
   "metadata": {
    "tags": []
   },
   "outputs": [
    {
     "name": "stdout",
     "output_type": "stream",
     "text": [
      "<class 'pandas.core.frame.DataFrame'>\n",
      "RangeIndex: 300 entries, 0 to 299\n",
      "Data columns (total 2 columns):\n",
      " #   Column  Non-Null Count  Dtype  \n",
      "---  ------  --------------  -----  \n",
      " 0   x       300 non-null    int64  \n",
      " 1   y       300 non-null    float64\n",
      "dtypes: float64(1), int64(1)\n",
      "memory usage: 4.8 KB\n"
     ]
    }
   ],
   "source": [
    "#Verificamos la existencia de valores NaN y los eliminamos \n",
    "data_test = data_test.dropna()\n",
    "data_test.info()"
   ]
  },
  {
   "cell_type": "code",
   "execution_count": 8,
   "id": "eef893be-c1f7-402e-86dd-69f9bc276626",
   "metadata": {
    "tags": []
   },
   "outputs": [
    {
     "data": {
      "text/html": [
       "<div>\n",
       "<style scoped>\n",
       "    .dataframe tbody tr th:only-of-type {\n",
       "        vertical-align: middle;\n",
       "    }\n",
       "\n",
       "    .dataframe tbody tr th {\n",
       "        vertical-align: top;\n",
       "    }\n",
       "\n",
       "    .dataframe thead th {\n",
       "        text-align: right;\n",
       "    }\n",
       "</style>\n",
       "<table border=\"1\" class=\"dataframe\">\n",
       "  <thead>\n",
       "    <tr style=\"text-align: right;\">\n",
       "      <th></th>\n",
       "      <th>x</th>\n",
       "      <th>y</th>\n",
       "    </tr>\n",
       "  </thead>\n",
       "  <tbody>\n",
       "    <tr>\n",
       "      <th>0</th>\n",
       "      <td>77</td>\n",
       "      <td>79.775152</td>\n",
       "    </tr>\n",
       "    <tr>\n",
       "      <th>1</th>\n",
       "      <td>21</td>\n",
       "      <td>23.177279</td>\n",
       "    </tr>\n",
       "    <tr>\n",
       "      <th>2</th>\n",
       "      <td>22</td>\n",
       "      <td>25.609262</td>\n",
       "    </tr>\n",
       "    <tr>\n",
       "      <th>3</th>\n",
       "      <td>20</td>\n",
       "      <td>17.857388</td>\n",
       "    </tr>\n",
       "    <tr>\n",
       "      <th>4</th>\n",
       "      <td>36</td>\n",
       "      <td>41.849864</td>\n",
       "    </tr>\n",
       "  </tbody>\n",
       "</table>\n",
       "</div>"
      ],
      "text/plain": [
       "    x          y\n",
       "0  77  79.775152\n",
       "1  21  23.177279\n",
       "2  22  25.609262\n",
       "3  20  17.857388\n",
       "4  36  41.849864"
      ]
     },
     "execution_count": 8,
     "metadata": {},
     "output_type": "execute_result"
    }
   ],
   "source": [
    "#Una vez que verificamos que no existen datos duplicados ni datos nulos procedemos a verificar como es la naturaleza de los datos \n",
    "data_test.head()"
   ]
  },
  {
   "cell_type": "code",
   "execution_count": 9,
   "id": "349d2621-4855-4abe-b280-7a56861e94fb",
   "metadata": {
    "tags": []
   },
   "outputs": [],
   "source": [
    "# Datos para entrenamiento asigandos a la variables test_x y test_y en el mismo caso, este DataFrame se usara completo para realizar la prueba \n",
    "test_x = data_test[['x']]  \n",
    "test_y = data_test['y']"
   ]
  },
  {
   "cell_type": "markdown",
   "id": "88d97042-75a2-40f4-9ef4-812c419d353a",
   "metadata": {},
   "source": [
    "#### Hacemos la regresión usando Sklearn\n",
    "\n",
    "#### Primero verificamos el tamaño de cada variable"
   ]
  },
  {
   "cell_type": "code",
   "execution_count": 10,
   "id": "767d399f-113e-470b-a708-b5607bd2095b",
   "metadata": {
    "tags": []
   },
   "outputs": [
    {
     "data": {
      "text/plain": [
       "699"
      ]
     },
     "execution_count": 10,
     "metadata": {},
     "output_type": "execute_result"
    }
   ],
   "source": [
    "train_x.size"
   ]
  },
  {
   "cell_type": "code",
   "execution_count": 11,
   "id": "f34ecb2a-6341-40cf-abfa-3eda506ea499",
   "metadata": {
    "tags": []
   },
   "outputs": [
    {
     "data": {
      "text/plain": [
       "699"
      ]
     },
     "execution_count": 11,
     "metadata": {},
     "output_type": "execute_result"
    }
   ],
   "source": [
    "train_y.size"
   ]
  },
  {
   "cell_type": "code",
   "execution_count": 12,
   "id": "fe07acc9-5e2e-4685-b77c-456dc17895c1",
   "metadata": {
    "tags": []
   },
   "outputs": [
    {
     "data": {
      "text/plain": [
       "300"
      ]
     },
     "execution_count": 12,
     "metadata": {},
     "output_type": "execute_result"
    }
   ],
   "source": [
    "test_x.size"
   ]
  },
  {
   "cell_type": "code",
   "execution_count": 13,
   "id": "83f61404-6eab-4d74-ab41-b6f7015cb782",
   "metadata": {
    "tags": []
   },
   "outputs": [
    {
     "data": {
      "text/plain": [
       "300"
      ]
     },
     "execution_count": 13,
     "metadata": {},
     "output_type": "execute_result"
    }
   ],
   "source": [
    "test_y.size"
   ]
  },
  {
   "cell_type": "code",
   "execution_count": 14,
   "id": "8e4b1493-3a8b-4bbd-87a2-47f0c0bd1dd9",
   "metadata": {
    "tags": []
   },
   "outputs": [
    {
     "name": "stdout",
     "output_type": "stream",
     "text": [
      "0.9907015319025518\n"
     ]
    }
   ],
   "source": [
    "#Aplicamos la regresión lineal\n",
    "reg = LinearRegression().fit(train_x, train_y)\n",
    "print(reg.score(train_x, train_y))\n",
    "\n",
    "#Observando que tenemos una correlación de 0.99"
   ]
  },
  {
   "cell_type": "code",
   "execution_count": 15,
   "id": "e1f95dac-28d4-42d1-b47f-9216d22e8696",
   "metadata": {
    "tags": []
   },
   "outputs": [
    {
     "name": "stdout",
     "output_type": "stream",
     "text": [
      "[1.00065638]\n",
      "-0.10726546430097272\n"
     ]
    }
   ],
   "source": [
    "# Hacemos la predicción con los datos de prueba\n",
    "print(reg.coef_)\n",
    "print(reg.intercept_)\n",
    "y_pred = reg.predict(test_x)"
   ]
  },
  {
   "cell_type": "code",
   "execution_count": 16,
   "id": "b91de90c-e9d4-4ab3-af5b-35f493e2d02d",
   "metadata": {
    "tags": []
   },
   "outputs": [
    {
     "data": {
      "image/png": "[encoded data removed]",
      "text/plain": [
       "<Figure size 640x480 with 1 Axes>"
      ]
     },
     "metadata": {},
     "output_type": "display_data"
    }
   ],
   "source": [
    "# Graficamos la regresión lineal \n",
    "plt.plot(test_x, test_y, '2', label='Actual values', color = '#6193F7')\n",
    "plt.plot(test_x, y_pred, label='Predicted values', color = '#9E5136')\n",
    "plt.xlabel('Test input')\n",
    "plt.ylabel('Test Output or Predicted output')\n",
    "plt.legend()\n",
    "plt.show()"
   ]
  },
  {
   "cell_type": "markdown",
   "id": "100a180e-8801-4147-9f2e-40b28ca3b951",
   "metadata": {},
   "source": [
    "### **<span style=\"color:#279AB0\">Conclusiones</span>.**\n",
    "\n",
    "En esta práctica se puede notar que al momento de realizar <span style=\"color:#BE5430\">Regresion Lineal</span> con datos artificiales obtenidos por medio de una función Random, podemos ver que lo esperado es muy bueno, debido a que los datos son \"casi\" perfectos o me atrevería a decir muy predecibles.\n",
    "\n",
    "Por lo que esto es una desventajas con trabajar con DataSets artificiales, ya que al momento de obtener DataSet's con datos reales el entrenamiento, la regresion lineal y la prueba puede variar demasiado, debido a que los datos pueden presentar diferentes comportamientos. Y con el simple echo de que exista un dato fuera del rango de los demas, la prediccón tendría un comportamiento que no es el esperado"
   ]
  },
  {
   "cell_type": "code",
   "execution_count": null,
   "id": "0a400418-6a98-4c90-9be7-a4d86a87a6f4",
   "metadata": {},
   "outputs": [],
   "source": []
  }
 ],
 "metadata": {
  "kernelspec": {
   "display_name": "Python 3 (ipykernel)",
   "language": "python",
   "name": "python3"
  },
  "language_info": {
   "codemirror_mode": {
    "name": "ipython",
    "version": 3
   },
   "file_extension": ".py",
   "mimetype": "text/x-python",
   "name": "python",
   "nbconvert_exporter": "python",
   "pygments_lexer": "ipython3",
   "version": "3.11.4"
  }
 },
 "nbformat": 4,
 "nbformat_minor": 5
}

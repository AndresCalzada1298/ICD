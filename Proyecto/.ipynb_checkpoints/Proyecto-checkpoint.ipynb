{
 "cells": [
  {
   "cell_type": "markdown",
   "id": "2516d9ab-1858-40ee-92ea-9e3ea3249353",
   "metadata": {},
   "source": [
    "CNN usando tensor flow "
   ]
  },
  {
   "cell_type": "code",
   "execution_count": 5,
   "id": "74bd8964-08df-431b-bfc1-f935be771f93",
   "metadata": {},
   "outputs": [],
   "source": [
    "import tensorflow as tf\n",
    "import numpy as np\n",
    "import os"
   ]
  },
  {
   "cell_type": "code",
   "execution_count": 7,
   "id": "778d3fee-ac4d-4fde-8705-c84e3bc87de1",
   "metadata": {},
   "outputs": [
    {
     "ename": "OSError",
     "evalue": "[WinError 123] El nombre de archivo, el nombre de directorio o la sintaxis de la etiqueta del volumen no son correctos: 'http://localhost:8888/lab/tree/OneDrive/Documentos/CUATRIMESTRE%20III/ICD/Proyecto/brain_tumor_mris/Testing/glioma'",
     "output_type": "error",
     "traceback": [
      "\u001b[1;31m---------------------------------------------------------------------------\u001b[0m",
      "\u001b[1;31mOSError\u001b[0m                                   Traceback (most recent call last)",
      "Cell \u001b[1;32mIn[7], line 7\u001b[0m\n\u001b[0;32m      5\u001b[0m images \u001b[38;5;241m=\u001b[39m []\n\u001b[0;32m      6\u001b[0m labels \u001b[38;5;241m=\u001b[39m []\n\u001b[1;32m----> 7\u001b[0m \u001b[38;5;28;01mfor\u001b[39;00m category \u001b[38;5;129;01min\u001b[39;00m os\u001b[38;5;241m.\u001b[39mlistdir(data_dir):\n\u001b[0;32m      8\u001b[0m   category_dir \u001b[38;5;241m=\u001b[39m os\u001b[38;5;241m.\u001b[39mpath\u001b[38;5;241m.\u001b[39mjoin(data_dir, category)\n\u001b[0;32m      9\u001b[0m   \u001b[38;5;28;01mfor\u001b[39;00m image_file \u001b[38;5;129;01min\u001b[39;00m os\u001b[38;5;241m.\u001b[39mlistdir(category_dir):\n",
      "\u001b[1;31mOSError\u001b[0m: [WinError 123] El nombre de archivo, el nombre de directorio o la sintaxis de la etiqueta del volumen no son correctos: 'http://localhost:8888/lab/tree/OneDrive/Documentos/CUATRIMESTRE%20III/ICD/Proyecto/brain_tumor_mris/Testing/glioma'"
     ]
    }
   ],
   "source": [
    "# Definimos la ruta a la carpeta que contiene las imágenes que se usaran para entrenar \n",
    "data_dir = '/OneDrive'\n",
    "/home/user/data/images\n",
    "http://localhost:8888/lab/tree/OneDrive/Documentos/CUATRIMESTRE%20III/ICD/Proyecto/brain_tumor_mris/Testing/glioma\n",
    "\n",
    "# Cargamos las imágenes que se usaran para entrenar \n",
    "images = []\n",
    "labels = []\n",
    "for category in os.listdir(data_dir):\n",
    "  category_dir = os.path.join(data_dir, category)\n",
    "  for image_file in os.listdir(category_dir):\n",
    "    image = cv2.imread(os.path.join(category_dir, image_file))\n",
    "    images.append(image)\n",
    "    labels.append(category)\n",
    "\n",
    "# Convertimos las imágenes a un formato compatible con TensorFlow\n",
    "images = np.array(images)\n",
    "images = images.astype(np.float32)"
   ]
  },
  {
   "cell_type": "code",
   "execution_count": null,
   "id": "8d0217e3-3197-4a31-82ce-d52208d46b70",
   "metadata": {},
   "outputs": [],
   "source": []
  }
 ],
 "metadata": {
  "kernelspec": {
   "display_name": "Python 3 (ipykernel)",
   "language": "python",
   "name": "python3"
  },
  "language_info": {
   "codemirror_mode": {
    "name": "ipython",
    "version": 3
   },
   "file_extension": ".py",
   "mimetype": "text/x-python",
   "name": "python",
   "nbconvert_exporter": "python",
   "pygments_lexer": "ipython3",
   "version": "3.11.4"
  }
 },
 "nbformat": 4,
 "nbformat_minor": 5
}

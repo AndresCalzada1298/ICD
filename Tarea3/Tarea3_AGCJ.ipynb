{
 "cells": [
  {
   "cell_type": "code",
   "execution_count": 1,
   "id": "690f132c-8ef3-47ad-8a1c-f6fabc6d793c",
   "metadata": {
    "tags": []
   },
   "outputs": [],
   "source": [
    "import numpy as np \n",
    "import pandas as pd\n",
    "import re\n",
    "import spacy as spc\n",
    "import nltk\n",
    "from nltk.corpus import stopwords\n",
    "from nltk.tokenize import word_tokenize\n",
    "from sklearn.feature_extraction.text import CountVectorizer\n",
    "from scipy.sparse import coo_matrix, hstack"
   ]
  },
  {
   "cell_type": "code",
   "execution_count": 2,
   "id": "46462dc8-bd9d-4ff2-9f45-88b8bf4b6bf3",
   "metadata": {
    "tags": []
   },
   "outputs": [
    {
     "name": "stdout",
     "output_type": "stream",
     "text": [
      "El presidente Andrés Manuel López Obrador anunció que tendrá una reunión con los padres de los 43 estudiantes desaparecidos de la Escuela Normal Rural de Ayotzinapa en los que les informará sobre los avances en la investigación.\n",
      "La gran incógnita en la previa del partido entre el equipo de Gerardo Martino y el Toronto FC sigue siendo la presencia o no de Lionel Messi en el equipo titular. Después de perderse el partido frente a Bolivia por las eliminatorias.\n"
     ]
    }
   ],
   "source": [
    "oracion_p = \"El presidente Andrés Manuel López Obrador anunció que tendrá una reunión con los padres de los 43 estudiantes desaparecidos de la Escuela Normal Rural de Ayotzinapa en los que les informará sobre los avances en la investigación.\"\n",
    "oracion_d = \"La gran incógnita en la previa del partido entre el equipo de Gerardo Martino y el Toronto FC sigue siendo la presencia o no de Lionel Messi en el equipo titular. Después de perderse el partido frente a Bolivia por las eliminatorias.\"\n",
    "print(oracion_p)\n",
    "print(oracion_d)\n",
    "#Se asigana la nota politica y de deporte a las varibales oracion_p y oracion_d"
   ]
  },
  {
   "cell_type": "markdown",
   "id": "ae193699-e22d-4f5c-9602-1cbbbfebdb24",
   "metadata": {},
   "source": [
    "#### **Procedemos a limpiar los datos de ambas oraciones de la siguiente manera**"
   ]
  },
  {
   "cell_type": "code",
   "execution_count": 3,
   "id": "afd99f49-935f-4bb5-9c99-8d05e760d017",
   "metadata": {
    "tags": []
   },
   "outputs": [
    {
     "name": "stdout",
     "output_type": "stream",
     "text": [
      "el presidente andrés manuel lópez obrador anunció que tendrá una reunión con los padres de los  estudiantes desaparecidos de la escuela normal rural de ayotzinapa en los que les informará sobre los avances en la investigación\n"
     ]
    }
   ],
   "source": [
    "oracion_p = oracion_p.lower()   #Vamos a cambiar las letras mayusculas por letras minusculas \n",
    "#Procedemos a limpiar la oración \n",
    "oracion_p = re.sub(r\"[0-9]\", \"\", oracion_p)  # Eliminar números\n",
    "oracion_p = re.sub(r\"\\n\", \"\", oracion_p)  # Eliminar caracteres de nueva línea\n",
    "oracion_p = re.sub(r\"(http[s]?\\://\\S+)|([\\[\\(].*[\\)\\]])|([#@]\\S+)|\\n\", \"\", oracion_p)  # Eliminar varios patrones\n",
    "oracion_p = re.sub(r\"(\\.)|(,)\", \"\", oracion_p)  # Eliminar puntos y comas\n",
    "print(oracion_p) #Mostramos la oracion que ya se encuentra limpia de los caracteres que nos puedan afectar "
   ]
  },
  {
   "cell_type": "code",
   "execution_count": 4,
   "id": "b316a367-5657-46c9-b99f-60409aa7f916",
   "metadata": {
    "tags": []
   },
   "outputs": [
    {
     "name": "stdout",
     "output_type": "stream",
     "text": [
      "la gran incógnita en la previa del partido entre el equipo de gerardo martino y el toronto fc sigue siendo la presencia o no de lionel messi en el equipo titular después de perderse el partido frente a bolivia por las eliminatorias\n"
     ]
    }
   ],
   "source": [
    "#Ahora procedemos a limpiar la segunda oracion de la misma manera \n",
    "oracion_d = oracion_d.lower()   #Vamos a cambiar las letras mayusculas por letras minusculas \n",
    "#Procedemos a limpiar la oración \n",
    "oracion_d = re.sub(r\"[0-9]\", \"\", oracion_d)  # Eliminar números\n",
    "oracion_d = re.sub(r\"\\n\", \"\", oracion_d)  # Eliminar caracteres de nueva línea\n",
    "oracion_d = re.sub(r\"(http[s]?\\://\\S+)|([\\[\\(].*[\\)\\]])|([#@]\\S+)|\\n\", \"\", oracion_d)  # Eliminar varios patrones\n",
    "oracion_d = re.sub(r\"(\\.)|(,)\", \"\", oracion_d)  # Eliminar puntos y comas\n",
    "print(oracion_d) #Mostramos la oracion que ya se encuentra limpia de los caracteres que nos puedan afectar "
   ]
  },
  {
   "cell_type": "markdown",
   "id": "72fce489-02a9-4fef-88db-674d44e07bc7",
   "metadata": {},
   "source": [
    "####  **Vamos a realizar una Tokenización**"
   ]
  },
  {
   "cell_type": "code",
   "execution_count": 5,
   "id": "4b7d983f-28ee-4b54-863c-dd74818f89e7",
   "metadata": {
    "tags": []
   },
   "outputs": [
    {
     "name": "stdout",
     "output_type": "stream",
     "text": [
      "['el', 'presidente', 'andrés', 'manuel', 'lópez', 'obrador', 'anunció', 'que', 'tendrá', 'una', 'reunión', 'con', 'los', 'padres', 'de', 'los', 'estudiantes', 'desaparecidos', 'de', 'la', 'escuela', 'normal', 'rural', 'de', 'ayotzinapa', 'en', 'los', 'que', 'les', 'informará', 'sobre', 'los', 'avances', 'en', 'la', 'investigación']\n",
      "['la', 'gran', 'incógnita', 'en', 'la', 'previa', 'del', 'partido', 'entre', 'el', 'equipo', 'de', 'gerardo', 'martino', 'y', 'el', 'toronto', 'fc', 'sigue', 'siendo', 'la', 'presencia', 'o', 'no', 'de', 'lionel', 'messi', 'en', 'el', 'equipo', 'titular', 'después', 'de', 'perderse', 'el', 'partido', 'frente', 'a', 'bolivia', 'por', 'las', 'eliminatorias']\n"
     ]
    }
   ],
   "source": [
    "#Tokenización de la oracion politica \n",
    "tokens_p = word_tokenize(oracion_p)\n",
    "#Tokenizacion de la oracion deportiva \n",
    "tokens_d = word_tokenize(oracion_d)\n",
    "\n",
    "#Imprimimos las oraciones tokenizadas\n",
    "print(tokens_p)\n",
    "print(tokens_d)"
   ]
  },
  {
   "cell_type": "code",
   "execution_count": 6,
   "id": "a0b22931-12c4-426c-bef0-1c3c9b6b749a",
   "metadata": {
    "tags": []
   },
   "outputs": [
    {
     "name": "stdout",
     "output_type": "stream",
     "text": [
      "['presidente', 'andrés', 'manuel', 'lópez', 'obrador', 'anunció', 'reunión', 'padres', 'estudiantes', 'desaparecidos', 'escuela', 'normal', 'rural', 'ayotzinapa', 'informará', 'avances', 'investigación']\n",
      "['gran', 'incógnita', 'previa', 'partido', 'equipo', 'gerardo', 'martino', 'toronto', 'fc', 'sigue', 'siendo', 'presencia', 'lionel', 'messi', 'equipo', 'titular', 'después', 'perderse', 'partido', 'frente', 'bolivia', 'eliminatorias']\n"
     ]
    }
   ],
   "source": [
    "#Eliminamos las Stopwords de la oracion politica \n",
    "\n",
    "spanish_stopwords = stopwords.words('spanish')\n",
    "palabras_filtradas_p = [palabra for palabra in tokens_p if palabra not in spanish_stopwords]\n",
    "print(palabras_filtradas_p)\n",
    "\n",
    "#Eliminamos las stopwords de la orcacion deportiva \n",
    "spanish_stopwords = stopwords.words('spanish')\n",
    "palabras_filtradas_d = [palabra for palabra in tokens_d if palabra not in spanish_stopwords]\n",
    "print(palabras_filtradas_d)"
   ]
  },
  {
   "cell_type": "markdown",
   "id": "d211c15b-6c03-46bb-9494-5fb9c52ff482",
   "metadata": {},
   "source": [
    "#### **Lematizacion**"
   ]
  },
  {
   "cell_type": "code",
   "execution_count": 7,
   "id": "86a8c555-d51c-416b-b0a8-ba50acc48d3a",
   "metadata": {
    "tags": []
   },
   "outputs": [
    {
     "name": "stdout",
     "output_type": "stream",
     "text": [
      "presidente andrés manuel lópez obrador anunciar reunión padre estudiante desaparecido escuela normal rural ayotzinapa informar avance investigación\n",
      "gran incógnita previo partido equipo gerardo martino toronto fc seguir ser presencia lionel messi equipo titular después perder él partido frente bolivia eliminatorio\n"
     ]
    }
   ],
   "source": [
    "#Realizamos la oracion lematizada para la oracion politica \n",
    "nlp = spc.load(\"es_core_news_sm\")\n",
    "lema_p = nlp(\" \".join(palabras_filtradas_p))\n",
    "oracion_lematizada_p = \" \".join([token.lemma_ for token in lema_p])\n",
    "\n",
    "#Realizamos la oracion lematizada para la oracion deportiva \n",
    "nlp = spc.load(\"es_core_news_sm\")\n",
    "lema_d = nlp(\" \".join(palabras_filtradas_d))\n",
    "oracion_lematizada_d = \" \".join([token.lemma_ for token in lema_d])\n",
    "\n",
    "print(oracion_lematizada_p)\n",
    "print(oracion_lematizada_d)"
   ]
  },
  {
   "cell_type": "markdown",
   "id": "a28e4877-a950-44cf-8588-8517171356de",
   "metadata": {},
   "source": [
    "#### **Realizamos el Bag of word (bolsa de palabras) para la oracion politica**"
   ]
  },
  {
   "cell_type": "code",
   "execution_count": 8,
   "id": "4ef7dde9-48a7-4990-bc62-2005c82b0605",
   "metadata": {
    "tags": []
   },
   "outputs": [],
   "source": [
    "vectorizador_p = CountVectorizer()\n",
    "vectores_p = vectorizador_p.fit_transform([oracion_lematizada_p])\n",
    "vocabulario_p = vectorizador_p.get_feature_names_out()"
   ]
  },
  {
   "cell_type": "markdown",
   "id": "8fd62f16-d846-41ea-b4c7-fc5fa8c82e4b",
   "metadata": {},
   "source": [
    "#### **Resultados para la oracion politica**"
   ]
  },
  {
   "cell_type": "code",
   "execution_count": 9,
   "id": "2d410ef9-1ed6-4f78-9f2b-985222247d49",
   "metadata": {
    "tags": []
   },
   "outputs": [
    {
     "name": "stdout",
     "output_type": "stream",
     "text": [
      "Oración de entrada: el presidente andrés manuel lópez obrador anunció que tendrá una reunión con los padres de los  estudiantes desaparecidos de la escuela normal rural de ayotzinapa en los que les informará sobre los avances en la investigación\n",
      "Oración lematizada: presidente andrés manuel lópez obrador anunciar reunión padre estudiante desaparecido escuela normal rural ayotzinapa informar avance investigación\n",
      "Vectores Bag of Words: [[1 1 1 1 1 1 1 1 1 1 1 1 1 1 1 1 1]]\n",
      "Vocabulario: ['andrés' 'anunciar' 'avance' 'ayotzinapa' 'desaparecido' 'escuela'\n",
      " 'estudiante' 'informar' 'investigación' 'lópez' 'manuel' 'normal'\n",
      " 'obrador' 'padre' 'presidente' 'reunión' 'rural']\n"
     ]
    }
   ],
   "source": [
    "print(\"Oración de entrada:\", oracion_p)\n",
    "print(\"Oración lematizada:\", oracion_lematizada_p)\n",
    "print(\"Vectores Bag of Words:\", vectores_p.toarray())\n",
    "print(\"Vocabulario:\", vocabulario_p)"
   ]
  },
  {
   "cell_type": "markdown",
   "id": "11f78b9c-bfba-45af-b953-885b1646c91b",
   "metadata": {},
   "source": [
    "#### **Realizamos el Bag of word (bolsa de palabras) para la oracion deportiva**"
   ]
  },
  {
   "cell_type": "code",
   "execution_count": 10,
   "id": "45411a2b-4d3b-471e-bc47-c2dd2d108064",
   "metadata": {
    "tags": []
   },
   "outputs": [],
   "source": [
    "vectorizador_d = CountVectorizer()\n",
    "vectores_d = vectorizador_d.fit_transform([oracion_lematizada_d])\n",
    "vocabulario_d = vectorizador_d.get_feature_names_out()"
   ]
  },
  {
   "cell_type": "markdown",
   "id": "ac06637d-13d4-4612-8af2-48aa1e0f7f65",
   "metadata": {},
   "source": [
    "#### **Resultados para la oracion deportiva**"
   ]
  },
  {
   "cell_type": "code",
   "execution_count": 11,
   "id": "dfba74c4-7c28-480a-8f37-222aaa37eba6",
   "metadata": {
    "tags": []
   },
   "outputs": [
    {
     "name": "stdout",
     "output_type": "stream",
     "text": [
      "Oración de entrada: la gran incógnita en la previa del partido entre el equipo de gerardo martino y el toronto fc sigue siendo la presencia o no de lionel messi en el equipo titular después de perderse el partido frente a bolivia por las eliminatorias\n",
      "Oración lematizada: gran incógnita previo partido equipo gerardo martino toronto fc seguir ser presencia lionel messi equipo titular después perder él partido frente bolivia eliminatorio\n",
      "Vectores Bag of Words: [[1 1 1 2 1 1 1 1 1 1 1 1 2 1 1 1 1 1 1 1 1]]\n",
      "Vocabulario: ['bolivia' 'después' 'eliminatorio' 'equipo' 'fc' 'frente' 'gerardo'\n",
      " 'gran' 'incógnita' 'lionel' 'martino' 'messi' 'partido' 'perder'\n",
      " 'presencia' 'previo' 'seguir' 'ser' 'titular' 'toronto' 'él']\n"
     ]
    }
   ],
   "source": [
    "print(\"Oración de entrada:\", oracion_d)\n",
    "print(\"Oración lematizada:\", oracion_lematizada_d)\n",
    "print(\"Vectores Bag of Words:\", vectores_d.toarray())\n",
    "print(\"Vocabulario:\", vocabulario_d)"
   ]
  },
  {
   "cell_type": "markdown",
   "id": "33af06f2-7d14-49ce-86e3-6cc352cfee41",
   "metadata": {},
   "source": [
    "#### **Construir Dataframe**"
   ]
  },
  {
   "cell_type": "code",
   "execution_count": 12,
   "id": "640d4d51-e722-4d73-a0cc-892c288743af",
   "metadata": {
    "tags": []
   },
   "outputs": [],
   "source": [
    "df_bw_p = pd.DataFrame.sparse.from_spmatrix(vectores_p,columns = vocabulario_p)\n",
    "df_bw_d = pd.DataFrame.sparse.from_spmatrix(vectores_d,columns = vocabulario_d)"
   ]
  },
  {
   "cell_type": "markdown",
   "id": "b9bd762d-62f0-4d56-8c7a-d089b71d2113",
   "metadata": {},
   "source": [
    "#### **Agregar columna \"clase\"**"
   ]
  },
  {
   "cell_type": "code",
   "execution_count": 13,
   "id": "99b5e523-dfeb-4993-869b-eef4b8e0d7e3",
   "metadata": {
    "tags": []
   },
   "outputs": [],
   "source": [
    "df_bw_p['Clase'] = 'Politica'\n",
    "df_bw_d['Clase'] = 'Deporte'"
   ]
  },
  {
   "cell_type": "code",
   "execution_count": 14,
   "id": "06b81339-997b-43f6-a383-0d8e4b8955ff",
   "metadata": {
    "tags": []
   },
   "outputs": [
    {
     "data": {
      "text/html": [
       "<div>\n",
       "<style scoped>\n",
       "    .dataframe tbody tr th:only-of-type {\n",
       "        vertical-align: middle;\n",
       "    }\n",
       "\n",
       "    .dataframe tbody tr th {\n",
       "        vertical-align: top;\n",
       "    }\n",
       "\n",
       "    .dataframe thead th {\n",
       "        text-align: right;\n",
       "    }\n",
       "</style>\n",
       "<table border=\"1\" class=\"dataframe\">\n",
       "  <thead>\n",
       "    <tr style=\"text-align: right;\">\n",
       "      <th></th>\n",
       "      <th>andrés</th>\n",
       "      <th>anunciar</th>\n",
       "      <th>avance</th>\n",
       "      <th>ayotzinapa</th>\n",
       "      <th>desaparecido</th>\n",
       "      <th>escuela</th>\n",
       "      <th>estudiante</th>\n",
       "      <th>informar</th>\n",
       "      <th>investigación</th>\n",
       "      <th>lópez</th>\n",
       "      <th>manuel</th>\n",
       "      <th>normal</th>\n",
       "      <th>obrador</th>\n",
       "      <th>padre</th>\n",
       "      <th>presidente</th>\n",
       "      <th>reunión</th>\n",
       "      <th>rural</th>\n",
       "      <th>Clase</th>\n",
       "    </tr>\n",
       "  </thead>\n",
       "  <tbody>\n",
       "    <tr>\n",
       "      <th>0</th>\n",
       "      <td>1</td>\n",
       "      <td>1</td>\n",
       "      <td>1</td>\n",
       "      <td>1</td>\n",
       "      <td>1</td>\n",
       "      <td>1</td>\n",
       "      <td>1</td>\n",
       "      <td>1</td>\n",
       "      <td>1</td>\n",
       "      <td>1</td>\n",
       "      <td>1</td>\n",
       "      <td>1</td>\n",
       "      <td>1</td>\n",
       "      <td>1</td>\n",
       "      <td>1</td>\n",
       "      <td>1</td>\n",
       "      <td>1</td>\n",
       "      <td>Politica</td>\n",
       "    </tr>\n",
       "  </tbody>\n",
       "</table>\n",
       "</div>"
      ],
      "text/plain": [
       "   andrés  anunciar  avance  ayotzinapa  desaparecido  escuela  estudiante  \\\n",
       "0       1         1       1           1             1        1           1   \n",
       "\n",
       "   informar  investigación  lópez  manuel  normal  obrador  padre  presidente  \\\n",
       "0         1              1      1       1       1        1      1           1   \n",
       "\n",
       "   reunión  rural     Clase  \n",
       "0        1      1  Politica  "
      ]
     },
     "execution_count": 14,
     "metadata": {},
     "output_type": "execute_result"
    }
   ],
   "source": [
    "df_bw_p.head()"
   ]
  },
  {
   "cell_type": "code",
   "execution_count": 15,
   "id": "428650ad-34e9-4030-80af-eb5f0413a215",
   "metadata": {
    "tags": []
   },
   "outputs": [
    {
     "data": {
      "text/html": [
       "<div>\n",
       "<style scoped>\n",
       "    .dataframe tbody tr th:only-of-type {\n",
       "        vertical-align: middle;\n",
       "    }\n",
       "\n",
       "    .dataframe tbody tr th {\n",
       "        vertical-align: top;\n",
       "    }\n",
       "\n",
       "    .dataframe thead th {\n",
       "        text-align: right;\n",
       "    }\n",
       "</style>\n",
       "<table border=\"1\" class=\"dataframe\">\n",
       "  <thead>\n",
       "    <tr style=\"text-align: right;\">\n",
       "      <th></th>\n",
       "      <th>bolivia</th>\n",
       "      <th>después</th>\n",
       "      <th>eliminatorio</th>\n",
       "      <th>equipo</th>\n",
       "      <th>fc</th>\n",
       "      <th>frente</th>\n",
       "      <th>gerardo</th>\n",
       "      <th>gran</th>\n",
       "      <th>incógnita</th>\n",
       "      <th>lionel</th>\n",
       "      <th>...</th>\n",
       "      <th>partido</th>\n",
       "      <th>perder</th>\n",
       "      <th>presencia</th>\n",
       "      <th>previo</th>\n",
       "      <th>seguir</th>\n",
       "      <th>ser</th>\n",
       "      <th>titular</th>\n",
       "      <th>toronto</th>\n",
       "      <th>él</th>\n",
       "      <th>Clase</th>\n",
       "    </tr>\n",
       "  </thead>\n",
       "  <tbody>\n",
       "    <tr>\n",
       "      <th>0</th>\n",
       "      <td>1</td>\n",
       "      <td>1</td>\n",
       "      <td>1</td>\n",
       "      <td>2</td>\n",
       "      <td>1</td>\n",
       "      <td>1</td>\n",
       "      <td>1</td>\n",
       "      <td>1</td>\n",
       "      <td>1</td>\n",
       "      <td>1</td>\n",
       "      <td>...</td>\n",
       "      <td>2</td>\n",
       "      <td>1</td>\n",
       "      <td>1</td>\n",
       "      <td>1</td>\n",
       "      <td>1</td>\n",
       "      <td>1</td>\n",
       "      <td>1</td>\n",
       "      <td>1</td>\n",
       "      <td>1</td>\n",
       "      <td>Deporte</td>\n",
       "    </tr>\n",
       "  </tbody>\n",
       "</table>\n",
       "<p>1 rows × 22 columns</p>\n",
       "</div>"
      ],
      "text/plain": [
       "   bolivia  después  eliminatorio  equipo  fc  frente  gerardo  gran  \\\n",
       "0        1        1             1       2   1       1        1     1   \n",
       "\n",
       "   incógnita  lionel  ...  partido  perder  presencia  previo  seguir  ser  \\\n",
       "0          1       1  ...        2       1          1       1       1    1   \n",
       "\n",
       "   titular  toronto  él    Clase  \n",
       "0        1        1   1  Deporte  \n",
       "\n",
       "[1 rows x 22 columns]"
      ]
     },
     "execution_count": 15,
     "metadata": {},
     "output_type": "execute_result"
    }
   ],
   "source": [
    "df_bw_d.head()"
   ]
  },
  {
   "cell_type": "code",
   "execution_count": 16,
   "id": "15b035ab-9f5d-4343-8941-7aa181cae7d7",
   "metadata": {
    "tags": []
   },
   "outputs": [
    {
     "name": "stdout",
     "output_type": "stream",
     "text": [
      "   andrés  anunciar  avance  ayotzinapa  desaparecido  escuela  estudiante  \\\n",
      "0     1.0       1.0     1.0         1.0           1.0      1.0         1.0   \n",
      "1     NaN       NaN     NaN         NaN           NaN      NaN         NaN   \n",
      "\n",
      "   informar  investigación  lópez  ...  messi  partido  perder  presencia  \\\n",
      "0       1.0            1.0    1.0  ...    NaN      NaN     NaN        NaN   \n",
      "1       NaN            NaN    NaN  ...    1.0      2.0     1.0        1.0   \n",
      "\n",
      "   previo  seguir  ser titular  toronto   él  \n",
      "0     NaN     NaN  NaN     NaN      NaN  NaN  \n",
      "1     1.0     1.0  1.0     1.0      1.0  1.0  \n",
      "\n",
      "[2 rows x 39 columns]\n"
     ]
    }
   ],
   "source": [
    "df = pd.merge(df_bw_p,df_bw_d, on = 'Clase', how = 'outer')\n",
    "print(df)"
   ]
  },
  {
   "cell_type": "code",
   "execution_count": 17,
   "id": "61d0109a-2ce9-401a-bca9-2a41fb68d50b",
   "metadata": {
    "tags": []
   },
   "outputs": [
    {
     "data": {
      "text/html": [
       "<div>\n",
       "<style scoped>\n",
       "    .dataframe tbody tr th:only-of-type {\n",
       "        vertical-align: middle;\n",
       "    }\n",
       "\n",
       "    .dataframe tbody tr th {\n",
       "        vertical-align: top;\n",
       "    }\n",
       "\n",
       "    .dataframe thead th {\n",
       "        text-align: right;\n",
       "    }\n",
       "</style>\n",
       "<table border=\"1\" class=\"dataframe\">\n",
       "  <thead>\n",
       "    <tr style=\"text-align: right;\">\n",
       "      <th></th>\n",
       "      <th>andrés</th>\n",
       "      <th>anunciar</th>\n",
       "      <th>avance</th>\n",
       "      <th>ayotzinapa</th>\n",
       "      <th>desaparecido</th>\n",
       "      <th>escuela</th>\n",
       "      <th>estudiante</th>\n",
       "      <th>informar</th>\n",
       "      <th>investigación</th>\n",
       "      <th>lópez</th>\n",
       "      <th>...</th>\n",
       "      <th>messi</th>\n",
       "      <th>partido</th>\n",
       "      <th>perder</th>\n",
       "      <th>presencia</th>\n",
       "      <th>previo</th>\n",
       "      <th>seguir</th>\n",
       "      <th>ser</th>\n",
       "      <th>titular</th>\n",
       "      <th>toronto</th>\n",
       "      <th>él</th>\n",
       "    </tr>\n",
       "  </thead>\n",
       "  <tbody>\n",
       "    <tr>\n",
       "      <th>0</th>\n",
       "      <td>1.0</td>\n",
       "      <td>1.0</td>\n",
       "      <td>1.0</td>\n",
       "      <td>1.0</td>\n",
       "      <td>1.0</td>\n",
       "      <td>1.0</td>\n",
       "      <td>1.0</td>\n",
       "      <td>1.0</td>\n",
       "      <td>1.0</td>\n",
       "      <td>1.0</td>\n",
       "      <td>...</td>\n",
       "      <td>0.0</td>\n",
       "      <td>0.0</td>\n",
       "      <td>0.0</td>\n",
       "      <td>0.0</td>\n",
       "      <td>0.0</td>\n",
       "      <td>0.0</td>\n",
       "      <td>0.0</td>\n",
       "      <td>0.0</td>\n",
       "      <td>0.0</td>\n",
       "      <td>0.0</td>\n",
       "    </tr>\n",
       "    <tr>\n",
       "      <th>1</th>\n",
       "      <td>0.0</td>\n",
       "      <td>0.0</td>\n",
       "      <td>0.0</td>\n",
       "      <td>0.0</td>\n",
       "      <td>0.0</td>\n",
       "      <td>0.0</td>\n",
       "      <td>0.0</td>\n",
       "      <td>0.0</td>\n",
       "      <td>0.0</td>\n",
       "      <td>0.0</td>\n",
       "      <td>...</td>\n",
       "      <td>1.0</td>\n",
       "      <td>2.0</td>\n",
       "      <td>1.0</td>\n",
       "      <td>1.0</td>\n",
       "      <td>1.0</td>\n",
       "      <td>1.0</td>\n",
       "      <td>1.0</td>\n",
       "      <td>1.0</td>\n",
       "      <td>1.0</td>\n",
       "      <td>1.0</td>\n",
       "    </tr>\n",
       "  </tbody>\n",
       "</table>\n",
       "<p>2 rows × 39 columns</p>\n",
       "</div>"
      ],
      "text/plain": [
       "   andrés  anunciar  avance  ayotzinapa  desaparecido  escuela  estudiante  \\\n",
       "0     1.0       1.0     1.0         1.0           1.0      1.0         1.0   \n",
       "1     0.0       0.0     0.0         0.0           0.0      0.0         0.0   \n",
       "\n",
       "   informar  investigación  lópez  ...  messi  partido  perder  presencia  \\\n",
       "0       1.0            1.0    1.0  ...    0.0      0.0     0.0        0.0   \n",
       "1       0.0            0.0    0.0  ...    1.0      2.0     1.0        1.0   \n",
       "\n",
       "   previo  seguir  ser titular  toronto   él  \n",
       "0     0.0     0.0  0.0     0.0      0.0  0.0  \n",
       "1     1.0     1.0  1.0     1.0      1.0  1.0  \n",
       "\n",
       "[2 rows x 39 columns]"
      ]
     },
     "execution_count": 17,
     "metadata": {},
     "output_type": "execute_result"
    }
   ],
   "source": [
    "df = df.fillna(0)\n",
    "df.head()\n"
   ]
  },
  {
   "cell_type": "code",
   "execution_count": 18,
   "id": "d7c99c7b-002d-40ae-9a96-3c0980c93f4f",
   "metadata": {
    "tags": []
   },
   "outputs": [
    {
     "data": {
      "text/plain": [
       "Index(['andrés', 'anunciar', 'avance', 'ayotzinapa', 'desaparecido', 'escuela',\n",
       "       'estudiante', 'informar', 'investigación', 'lópez', 'manuel', 'normal',\n",
       "       'obrador', 'padre', 'presidente', 'reunión', 'rural', 'Clase',\n",
       "       'bolivia', 'después', 'eliminatorio', 'equipo', 'fc', 'frente',\n",
       "       'gerardo', 'gran', 'incógnita', 'lionel', 'martino', 'messi', 'partido',\n",
       "       'perder', 'presencia', 'previo', 'seguir', 'ser', 'titular', 'toronto',\n",
       "       'él'],\n",
       "      dtype='object')"
      ]
     },
     "execution_count": 18,
     "metadata": {},
     "output_type": "execute_result"
    }
   ],
   "source": [
    "df.columns   #De esta manera comocemos la posición de la columna Clase "
   ]
  },
  {
   "cell_type": "code",
   "execution_count": 19,
   "id": "9994492e-4b2e-4adf-88a6-7c01a438c8d9",
   "metadata": {
    "tags": []
   },
   "outputs": [
    {
     "data": {
      "text/plain": [
       "17"
      ]
     },
     "execution_count": 19,
     "metadata": {},
     "output_type": "execute_result"
    }
   ],
   "source": [
    "#Obtener la posicion de la columna Clase por medio de get_loc\n",
    "df.columns.get_loc('Clase')\n",
    "#La cual se encuentra en la posición 17 \n",
    "#Y la ultima columna 'el' se ecnuentra en la posición 38\n",
    "#df.columns.get_loc('él')\n"
   ]
  },
  {
   "cell_type": "code",
   "execution_count": null,
   "id": "3963713d-5a08-4ed9-9e0e-e38cc459d564",
   "metadata": {
    "tags": []
   },
   "outputs": [],
   "source": [
    "#Así el resultado es el DataFrame con la columna Clase al final la cual en el primer lugar esta la clase politica y en el segundo lugar la clase deportes\n",
    "\n",
    "column = df.pop('Clase')\n",
    "df.insert(38, 'Clase', column)\n",
    "df.head()"
   ]
  },
  {
   "cell_type": "code",
   "execution_count": null,
   "id": "d345cc39-907f-45d3-b14e-df38646b6f76",
   "metadata": {},
   "outputs": [],
   "source": []
  },
  {
   "cell_type": "code",
   "execution_count": null,
   "id": "bd467a6e-7a95-44b5-85ab-d7a63f24b6f6",
   "metadata": {},
   "outputs": [],
   "source": []
  },
  {
   "cell_type": "code",
   "execution_count": null,
   "id": "6660f583-1a39-44e3-a6bf-5d1c388ae3d1",
   "metadata": {},
   "outputs": [],
   "source": []
  },
  {
   "cell_type": "code",
   "execution_count": null,
   "id": "4267d686-e20f-4e65-860d-01e950dd62ef",
   "metadata": {},
   "outputs": [],
   "source": []
  },
  {
   "cell_type": "code",
   "execution_count": null,
   "id": "e4b1661e-e86e-4b91-bb11-a617b80398f0",
   "metadata": {},
   "outputs": [],
   "source": []
  },
  {
   "cell_type": "code",
   "execution_count": null,
   "id": "36b742d1-7025-4a16-8cbc-0c9278a8932b",
   "metadata": {},
   "outputs": [],
   "source": []
  },
  {
   "cell_type": "code",
   "execution_count": null,
   "id": "31d775ef-ae62-4687-bf90-1ea3026e7fbe",
   "metadata": {},
   "outputs": [],
   "source": []
  },
  {
   "cell_type": "code",
   "execution_count": null,
   "id": "9d3dba4b-f7ce-408e-8c71-35f3db4d2ddd",
   "metadata": {},
   "outputs": [],
   "source": []
  }
 ],
 "metadata": {
  "kernelspec": {
   "display_name": "Python 3 (ipykernel)",
   "language": "python",
   "name": "python3"
  },
  "language_info": {
   "codemirror_mode": {
    "name": "ipython",
    "version": 3
   },
   "file_extension": ".py",
   "mimetype": "text/x-python",
   "name": "python",
   "nbconvert_exporter": "python",
   "pygments_lexer": "ipython3",
   "version": "3.11.4"
  }
 },
 "nbformat": 4,
 "nbformat_minor": 5
}

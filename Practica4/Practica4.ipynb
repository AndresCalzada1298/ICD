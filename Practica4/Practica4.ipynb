{
 "cells": [
  {
   "cell_type": "markdown",
   "id": "fc8bf915-6753-466f-adac-1eab30636bc8",
   "metadata": {},
   "source": [
    "## Calzada Jasso Andres Geovani *<span style = \"color : Blue\" > 23265539 </span>*"
   ]
  },
  {
   "cell_type": "markdown",
   "id": "9fc0a468-6445-43fe-9608-e01497944f9b",
   "metadata": {},
   "source": [
    "### **Practica 4** *<span style = \"color : #E3182E\" >Tarea de clasificación</span>*\n",
    "\n",
    "El hundimiento del Titanic es uno de los naufragios más infames de la historia.\n",
    "\n",
    "El 15 de abril de 1912, durante su viaje inaugural, el RMS Titanic, ampliamente considerado “insumergible”, se hundió después de chocar con un iceberg. Desafortunadamente, no había suficientes botes salvavidas para todos a bordo, lo que provocó la muerte de 1.502 de los 2.224 pasajeros y tripulantes.\n",
    "\n",
    "Si bien hubo algún elemento de suerte involucrado en la supervivencia, parece que algunos grupos de personas tenían más probabilidades de sobrevivir que otros\n",
    "\n",
    "<img src=https://i.blogs.es/4a9cb1/titanic/840_560.jpeg>\n",
    "\n",
    "\n"
   ]
  },
  {
   "cell_type": "code",
   "execution_count": 1,
   "id": "888335e8-07e4-4090-8b5c-48b1059b948f",
   "metadata": {
    "tags": []
   },
   "outputs": [],
   "source": [
    "import pandas as pd\n",
    "import numpy as np\n",
    "import seaborn as sns\n",
    "import matplotlib.pyplot as plt\n",
    "import matplotlib.axes as ax\n",
    "from sklearn.linear_model import LogisticRegression\n",
    "from sklearn.metrics import (confusion_matrix, accuracy_score)\n",
    "import statsmodels.api as sm\n",
    "from sklearn.model_selection import cross_val_predict\n",
    "from sklearn.feature_selection import mutual_info_classif\n",
    "import warnings\n",
    "warnings.simplefilter(\"ignore\")\n",
    "from sklearn.datasets import make_circles, make_classification, make_moons\n",
    "from sklearn.discriminant_analysis import QuadraticDiscriminantAnalysis\n",
    "from sklearn.ensemble import AdaBoostClassifier, RandomForestClassifier\n",
    "from sklearn.gaussian_process import GaussianProcessClassifier\n",
    "from sklearn.gaussian_process.kernels import RBF\n",
    "from sklearn.inspection import DecisionBoundaryDisplay\n",
    "from sklearn.model_selection import train_test_split\n",
    "from sklearn.naive_bayes import GaussianNB\n",
    "from sklearn.neighbors import KNeighborsClassifier\n",
    "from sklearn.neural_network import MLPClassifier\n",
    "from sklearn.pipeline import make_pipeline\n",
    "from sklearn.preprocessing import StandardScaler\n",
    "from sklearn.svm import SVC\n",
    "from sklearn.tree import DecisionTreeClassifier"
   ]
  },
  {
   "cell_type": "code",
   "execution_count": 2,
   "id": "fed42beb-31dc-4f2a-8fa4-ceab7e54a76c",
   "metadata": {
    "tags": []
   },
   "outputs": [
    {
     "data": {
      "text/html": [
       "<div>\n",
       "<style scoped>\n",
       "    .dataframe tbody tr th:only-of-type {\n",
       "        vertical-align: middle;\n",
       "    }\n",
       "\n",
       "    .dataframe tbody tr th {\n",
       "        vertical-align: top;\n",
       "    }\n",
       "\n",
       "    .dataframe thead th {\n",
       "        text-align: right;\n",
       "    }\n",
       "</style>\n",
       "<table border=\"1\" class=\"dataframe\">\n",
       "  <thead>\n",
       "    <tr style=\"text-align: right;\">\n",
       "      <th></th>\n",
       "      <th>PassengerId</th>\n",
       "      <th>Survived</th>\n",
       "      <th>Pclass</th>\n",
       "      <th>Name</th>\n",
       "      <th>Sex</th>\n",
       "      <th>Age</th>\n",
       "      <th>SibSp</th>\n",
       "      <th>Parch</th>\n",
       "      <th>Ticket</th>\n",
       "      <th>Fare</th>\n",
       "      <th>...</th>\n",
       "      <th>Embarked</th>\n",
       "      <th>WikiId</th>\n",
       "      <th>Name_wiki</th>\n",
       "      <th>Age_wiki</th>\n",
       "      <th>Hometown</th>\n",
       "      <th>Boarded</th>\n",
       "      <th>Destination</th>\n",
       "      <th>Lifeboat</th>\n",
       "      <th>Body</th>\n",
       "      <th>Class</th>\n",
       "    </tr>\n",
       "  </thead>\n",
       "  <tbody>\n",
       "    <tr>\n",
       "      <th>0</th>\n",
       "      <td>1</td>\n",
       "      <td>0.0</td>\n",
       "      <td>3</td>\n",
       "      <td>Braund, Mr. Owen Harris</td>\n",
       "      <td>male</td>\n",
       "      <td>22.0</td>\n",
       "      <td>1</td>\n",
       "      <td>0</td>\n",
       "      <td>A/5 21171</td>\n",
       "      <td>7.2500</td>\n",
       "      <td>...</td>\n",
       "      <td>S</td>\n",
       "      <td>691.0</td>\n",
       "      <td>Braund, Mr. Owen Harris</td>\n",
       "      <td>22.0</td>\n",
       "      <td>Bridgerule, Devon, England</td>\n",
       "      <td>Southampton</td>\n",
       "      <td>Qu'Appelle Valley, Saskatchewan, Canada</td>\n",
       "      <td>NaN</td>\n",
       "      <td>NaN</td>\n",
       "      <td>3.0</td>\n",
       "    </tr>\n",
       "    <tr>\n",
       "      <th>1</th>\n",
       "      <td>2</td>\n",
       "      <td>1.0</td>\n",
       "      <td>1</td>\n",
       "      <td>Cumings, Mrs. John Bradley (Florence Briggs Th...</td>\n",
       "      <td>female</td>\n",
       "      <td>38.0</td>\n",
       "      <td>1</td>\n",
       "      <td>0</td>\n",
       "      <td>PC 17599</td>\n",
       "      <td>71.2833</td>\n",
       "      <td>...</td>\n",
       "      <td>C</td>\n",
       "      <td>90.0</td>\n",
       "      <td>Cumings, Mrs. Florence Briggs (née Thayer)</td>\n",
       "      <td>35.0</td>\n",
       "      <td>New York, New York, US</td>\n",
       "      <td>Cherbourg</td>\n",
       "      <td>New York, New York, US</td>\n",
       "      <td>4</td>\n",
       "      <td>NaN</td>\n",
       "      <td>1.0</td>\n",
       "    </tr>\n",
       "    <tr>\n",
       "      <th>2</th>\n",
       "      <td>3</td>\n",
       "      <td>1.0</td>\n",
       "      <td>3</td>\n",
       "      <td>Heikkinen, Miss. Laina</td>\n",
       "      <td>female</td>\n",
       "      <td>26.0</td>\n",
       "      <td>0</td>\n",
       "      <td>0</td>\n",
       "      <td>STON/O2. 3101282</td>\n",
       "      <td>7.9250</td>\n",
       "      <td>...</td>\n",
       "      <td>S</td>\n",
       "      <td>865.0</td>\n",
       "      <td>Heikkinen, Miss Laina</td>\n",
       "      <td>26.0</td>\n",
       "      <td>Jyväskylä, Finland</td>\n",
       "      <td>Southampton</td>\n",
       "      <td>New York City</td>\n",
       "      <td>14?</td>\n",
       "      <td>NaN</td>\n",
       "      <td>3.0</td>\n",
       "    </tr>\n",
       "    <tr>\n",
       "      <th>3</th>\n",
       "      <td>4</td>\n",
       "      <td>1.0</td>\n",
       "      <td>1</td>\n",
       "      <td>Futrelle, Mrs. Jacques Heath (Lily May Peel)</td>\n",
       "      <td>female</td>\n",
       "      <td>35.0</td>\n",
       "      <td>1</td>\n",
       "      <td>0</td>\n",
       "      <td>113803</td>\n",
       "      <td>53.1000</td>\n",
       "      <td>...</td>\n",
       "      <td>S</td>\n",
       "      <td>127.0</td>\n",
       "      <td>Futrelle, Mrs. Lily May (née Peel)</td>\n",
       "      <td>35.0</td>\n",
       "      <td>Scituate, Massachusetts, US</td>\n",
       "      <td>Southampton</td>\n",
       "      <td>Scituate, Massachusetts, US</td>\n",
       "      <td>D</td>\n",
       "      <td>NaN</td>\n",
       "      <td>1.0</td>\n",
       "    </tr>\n",
       "    <tr>\n",
       "      <th>4</th>\n",
       "      <td>5</td>\n",
       "      <td>0.0</td>\n",
       "      <td>3</td>\n",
       "      <td>Allen, Mr. William Henry</td>\n",
       "      <td>male</td>\n",
       "      <td>35.0</td>\n",
       "      <td>0</td>\n",
       "      <td>0</td>\n",
       "      <td>373450</td>\n",
       "      <td>8.0500</td>\n",
       "      <td>...</td>\n",
       "      <td>S</td>\n",
       "      <td>627.0</td>\n",
       "      <td>Allen, Mr. William Henry</td>\n",
       "      <td>35.0</td>\n",
       "      <td>Birmingham, West Midlands, England</td>\n",
       "      <td>Southampton</td>\n",
       "      <td>New York City</td>\n",
       "      <td>NaN</td>\n",
       "      <td>NaN</td>\n",
       "      <td>3.0</td>\n",
       "    </tr>\n",
       "  </tbody>\n",
       "</table>\n",
       "<p>5 rows × 21 columns</p>\n",
       "</div>"
      ],
      "text/plain": [
       "   PassengerId  Survived  Pclass  \\\n",
       "0            1       0.0       3   \n",
       "1            2       1.0       1   \n",
       "2            3       1.0       3   \n",
       "3            4       1.0       1   \n",
       "4            5       0.0       3   \n",
       "\n",
       "                                                Name     Sex   Age  SibSp  \\\n",
       "0                            Braund, Mr. Owen Harris    male  22.0      1   \n",
       "1  Cumings, Mrs. John Bradley (Florence Briggs Th...  female  38.0      1   \n",
       "2                             Heikkinen, Miss. Laina  female  26.0      0   \n",
       "3       Futrelle, Mrs. Jacques Heath (Lily May Peel)  female  35.0      1   \n",
       "4                           Allen, Mr. William Henry    male  35.0      0   \n",
       "\n",
       "   Parch            Ticket     Fare  ... Embarked WikiId  \\\n",
       "0      0         A/5 21171   7.2500  ...        S  691.0   \n",
       "1      0          PC 17599  71.2833  ...        C   90.0   \n",
       "2      0  STON/O2. 3101282   7.9250  ...        S  865.0   \n",
       "3      0            113803  53.1000  ...        S  127.0   \n",
       "4      0            373450   8.0500  ...        S  627.0   \n",
       "\n",
       "                                    Name_wiki Age_wiki  \\\n",
       "0                     Braund, Mr. Owen Harris     22.0   \n",
       "1  Cumings, Mrs. Florence Briggs (née Thayer)     35.0   \n",
       "2                       Heikkinen, Miss Laina     26.0   \n",
       "3          Futrelle, Mrs. Lily May (née Peel)     35.0   \n",
       "4                    Allen, Mr. William Henry     35.0   \n",
       "\n",
       "                             Hometown      Boarded  \\\n",
       "0          Bridgerule, Devon, England  Southampton   \n",
       "1              New York, New York, US    Cherbourg   \n",
       "2                  Jyväskylä, Finland  Southampton   \n",
       "3         Scituate, Massachusetts, US  Southampton   \n",
       "4  Birmingham, West Midlands, England  Southampton   \n",
       "\n",
       "                               Destination Lifeboat Body Class  \n",
       "0  Qu'Appelle Valley, Saskatchewan, Canada      NaN  NaN   3.0  \n",
       "1                   New York, New York, US        4  NaN   1.0  \n",
       "2                            New York City      14?  NaN   3.0  \n",
       "3              Scituate, Massachusetts, US        D  NaN   1.0  \n",
       "4                            New York City      NaN  NaN   3.0  \n",
       "\n",
       "[5 rows x 21 columns]"
      ]
     },
     "execution_count": 2,
     "metadata": {},
     "output_type": "execute_result"
    }
   ],
   "source": [
    "#Cargamos nuestro DataSet y se lo asignamos a la variable df\n",
    "df = pd.read_csv('full.csv')\n",
    "df.head()"
   ]
  },
  {
   "cell_type": "markdown",
   "id": "fb72678c-8ef7-4260-acec-043043b0c572",
   "metadata": {},
   "source": [
    "Como se puede observar, nuestra varibale de clase en este caso se encuentra en la segunda posicion de nuestro DataFrame, por lo que es necesario acomodarla al final para poder tener una mejor estructura de los datos."
   ]
  },
  {
   "cell_type": "code",
   "execution_count": 3,
   "id": "2b9c9435-3aed-4aa2-81e1-67621fe860c1",
   "metadata": {
    "tags": []
   },
   "outputs": [
    {
     "name": "stdout",
     "output_type": "stream",
     "text": [
      "<class 'pandas.core.frame.DataFrame'>\n",
      "RangeIndex: 1309 entries, 0 to 1308\n",
      "Data columns (total 21 columns):\n",
      " #   Column       Non-Null Count  Dtype  \n",
      "---  ------       --------------  -----  \n",
      " 0   PassengerId  1309 non-null   int64  \n",
      " 1   Pclass       1309 non-null   int64  \n",
      " 2   Name         1309 non-null   object \n",
      " 3   Sex          1309 non-null   object \n",
      " 4   Age          1046 non-null   float64\n",
      " 5   SibSp        1309 non-null   int64  \n",
      " 6   Parch        1309 non-null   int64  \n",
      " 7   Ticket       1309 non-null   object \n",
      " 8   Fare         1308 non-null   float64\n",
      " 9   Cabin        295 non-null    object \n",
      " 10  Embarked     1307 non-null   object \n",
      " 11  WikiId       1304 non-null   float64\n",
      " 12  Name_wiki    1304 non-null   object \n",
      " 13  Age_wiki     1302 non-null   float64\n",
      " 14  Hometown     1304 non-null   object \n",
      " 15  Boarded      1304 non-null   object \n",
      " 16  Destination  1304 non-null   object \n",
      " 17  Lifeboat     502 non-null    object \n",
      " 18  Body         130 non-null    object \n",
      " 19  Class        1304 non-null   float64\n",
      " 20  Survived     891 non-null    float64\n",
      "dtypes: float64(6), int64(4), object(11)\n",
      "memory usage: 214.9+ KB\n"
     ]
    }
   ],
   "source": [
    "#Vamos a proceder a colocar nuestra clase al final de nuestro DataFrame \n",
    "column = df.pop('Survived')\n",
    "df.insert(20, 'Survived', column)\n",
    "df.info()"
   ]
  },
  {
   "cell_type": "markdown",
   "id": "c318319c-a9fa-4f03-b590-fa7167e1693f",
   "metadata": {},
   "source": [
    "Algo que podemos observar es que nuestro DataFrame se encuentra con valores nulos (NAN), por lo que el siguiente paso es eliminar estos valores."
   ]
  },
  {
   "cell_type": "code",
   "execution_count": 4,
   "id": "0f257b99-c39e-4145-8291-50b14e76f85c",
   "metadata": {
    "tags": []
   },
   "outputs": [
    {
     "data": {
      "image/png": "[encoded data removed]",
      "text/plain": [
       "<Figure size 640x480 with 2 Axes>"
      ]
     },
     "metadata": {},
     "output_type": "display_data"
    }
   ],
   "source": [
    "sns.heatmap(df.isna());"
   ]
  },
  {
   "cell_type": "code",
   "execution_count": 5,
   "id": "815eaab4-adae-4bf0-bcf5-3805344242b7",
   "metadata": {
    "tags": []
   },
   "outputs": [
    {
     "name": "stdout",
     "output_type": "stream",
     "text": [
      "<class 'pandas.core.frame.DataFrame'>\n",
      "RangeIndex: 1309 entries, 0 to 1308\n",
      "Data columns (total 21 columns):\n",
      " #   Column       Non-Null Count  Dtype  \n",
      "---  ------       --------------  -----  \n",
      " 0   PassengerId  1309 non-null   int64  \n",
      " 1   Pclass       1309 non-null   int64  \n",
      " 2   Name         1309 non-null   object \n",
      " 3   Sex          1309 non-null   object \n",
      " 4   Age          1309 non-null   float64\n",
      " 5   SibSp        1309 non-null   int64  \n",
      " 6   Parch        1309 non-null   int64  \n",
      " 7   Ticket       1309 non-null   object \n",
      " 8   Fare         1309 non-null   float64\n",
      " 9   Cabin        1309 non-null   object \n",
      " 10  Embarked     1309 non-null   object \n",
      " 11  WikiId       1309 non-null   float64\n",
      " 12  Name_wiki    1309 non-null   object \n",
      " 13  Age_wiki     1309 non-null   float64\n",
      " 14  Hometown     1309 non-null   object \n",
      " 15  Boarded      1309 non-null   object \n",
      " 16  Destination  1309 non-null   object \n",
      " 17  Lifeboat     1309 non-null   object \n",
      " 18  Body         1309 non-null   object \n",
      " 19  Class        1309 non-null   float64\n",
      " 20  Survived     1309 non-null   float64\n",
      "dtypes: float64(6), int64(4), object(11)\n",
      "memory usage: 214.9+ KB\n"
     ]
    }
   ],
   "source": [
    "#Eliminamos los datos nulos \n",
    "df = df.fillna(0)\n",
    "\n",
    "#Procedemos a ver la información y conocer si efectivamente se eliminaron estos datos \n",
    "df.info()"
   ]
  },
  {
   "cell_type": "markdown",
   "id": "33ab9fb8-cfeb-42f0-8568-10342567d4ab",
   "metadata": {},
   "source": [
    "#### **Observación**\n",
    "\n",
    "Una observación con respecto a este DataFrame es que las columnas que contengan nombres en este caso para nosotros no es algo relevante\n",
    "ya que no es un factor para determinar si las personas sobrevivieron o no, por lo que vamos a proceder a eliminarla "
   ]
  },
  {
   "cell_type": "code",
   "execution_count": 6,
   "id": "417ba953-d775-4a88-9022-40e17ab724e0",
   "metadata": {
    "tags": []
   },
   "outputs": [],
   "source": [
    "#Eliminamos los atributos que tienen menos importancia por medio de la función .drop\n",
    "df = df.drop(['Name', 'Ticket', 'Name_wiki','Hometown', 'Boarded', 'Destination', 'Sex','Cabin','Embarked','Lifeboat','Body'], axis = 1)"
   ]
  },
  {
   "cell_type": "code",
   "execution_count": 7,
   "id": "6d61ce9a-701e-4b7c-8be8-1597825719e8",
   "metadata": {
    "tags": []
   },
   "outputs": [
    {
     "data": {
      "text/html": [
       "<div>\n",
       "<style scoped>\n",
       "    .dataframe tbody tr th:only-of-type {\n",
       "        vertical-align: middle;\n",
       "    }\n",
       "\n",
       "    .dataframe tbody tr th {\n",
       "        vertical-align: top;\n",
       "    }\n",
       "\n",
       "    .dataframe thead th {\n",
       "        text-align: right;\n",
       "    }\n",
       "</style>\n",
       "<table border=\"1\" class=\"dataframe\">\n",
       "  <thead>\n",
       "    <tr style=\"text-align: right;\">\n",
       "      <th></th>\n",
       "      <th>PassengerId</th>\n",
       "      <th>Pclass</th>\n",
       "      <th>Age</th>\n",
       "      <th>SibSp</th>\n",
       "      <th>Parch</th>\n",
       "      <th>Fare</th>\n",
       "      <th>WikiId</th>\n",
       "      <th>Age_wiki</th>\n",
       "      <th>Class</th>\n",
       "      <th>Survived</th>\n",
       "    </tr>\n",
       "  </thead>\n",
       "  <tbody>\n",
       "    <tr>\n",
       "      <th>0</th>\n",
       "      <td>1</td>\n",
       "      <td>3</td>\n",
       "      <td>22.0</td>\n",
       "      <td>1</td>\n",
       "      <td>0</td>\n",
       "      <td>7.2500</td>\n",
       "      <td>691.0</td>\n",
       "      <td>22.0</td>\n",
       "      <td>3.0</td>\n",
       "      <td>0.0</td>\n",
       "    </tr>\n",
       "    <tr>\n",
       "      <th>1</th>\n",
       "      <td>2</td>\n",
       "      <td>1</td>\n",
       "      <td>38.0</td>\n",
       "      <td>1</td>\n",
       "      <td>0</td>\n",
       "      <td>71.2833</td>\n",
       "      <td>90.0</td>\n",
       "      <td>35.0</td>\n",
       "      <td>1.0</td>\n",
       "      <td>1.0</td>\n",
       "    </tr>\n",
       "    <tr>\n",
       "      <th>2</th>\n",
       "      <td>3</td>\n",
       "      <td>3</td>\n",
       "      <td>26.0</td>\n",
       "      <td>0</td>\n",
       "      <td>0</td>\n",
       "      <td>7.9250</td>\n",
       "      <td>865.0</td>\n",
       "      <td>26.0</td>\n",
       "      <td>3.0</td>\n",
       "      <td>1.0</td>\n",
       "    </tr>\n",
       "    <tr>\n",
       "      <th>3</th>\n",
       "      <td>4</td>\n",
       "      <td>1</td>\n",
       "      <td>35.0</td>\n",
       "      <td>1</td>\n",
       "      <td>0</td>\n",
       "      <td>53.1000</td>\n",
       "      <td>127.0</td>\n",
       "      <td>35.0</td>\n",
       "      <td>1.0</td>\n",
       "      <td>1.0</td>\n",
       "    </tr>\n",
       "    <tr>\n",
       "      <th>4</th>\n",
       "      <td>5</td>\n",
       "      <td>3</td>\n",
       "      <td>35.0</td>\n",
       "      <td>0</td>\n",
       "      <td>0</td>\n",
       "      <td>8.0500</td>\n",
       "      <td>627.0</td>\n",
       "      <td>35.0</td>\n",
       "      <td>3.0</td>\n",
       "      <td>0.0</td>\n",
       "    </tr>\n",
       "  </tbody>\n",
       "</table>\n",
       "</div>"
      ],
      "text/plain": [
       "   PassengerId  Pclass   Age  SibSp  Parch     Fare  WikiId  Age_wiki  Class  \\\n",
       "0            1       3  22.0      1      0   7.2500   691.0      22.0    3.0   \n",
       "1            2       1  38.0      1      0  71.2833    90.0      35.0    1.0   \n",
       "2            3       3  26.0      0      0   7.9250   865.0      26.0    3.0   \n",
       "3            4       1  35.0      1      0  53.1000   127.0      35.0    1.0   \n",
       "4            5       3  35.0      0      0   8.0500   627.0      35.0    3.0   \n",
       "\n",
       "   Survived  \n",
       "0       0.0  \n",
       "1       1.0  \n",
       "2       1.0  \n",
       "3       1.0  \n",
       "4       0.0  "
      ]
     },
     "execution_count": 7,
     "metadata": {},
     "output_type": "execute_result"
    }
   ],
   "source": [
    "#Mostramos nuestro DataFrame como tipo encabezado \n",
    "df.head()"
   ]
  },
  {
   "cell_type": "markdown",
   "id": "ba82f11c-c6c9-496c-a17c-81c1a31b509c",
   "metadata": {},
   "source": [
    "###### *Asignamos nuestros datos de entrenamiento a la varible X_train y nuestra Variable de clase a y_train*"
   ]
  },
  {
   "cell_type": "code",
   "execution_count": 8,
   "id": "d2e7d9ae-f24b-4957-adfd-325be07f1cdc",
   "metadata": {
    "tags": []
   },
   "outputs": [],
   "source": [
    "X_train = df[['PassengerId', 'Pclass', 'Age', 'SibSp','Parch','Fare','WikiId','Age_wiki','Class']]\n",
    "y_train = df[['Survived']]"
   ]
  },
  {
   "cell_type": "markdown",
   "id": "2b7503c1-bc21-4c7e-8054-f077a032944a",
   "metadata": {},
   "source": [
    "#### **<span style=\"color:Blue\">Primer objetivo</span>.**\n",
    "\n",
    "###### construir y evaluar n modelos de clasificación y comparar"
   ]
  },
  {
   "cell_type": "markdown",
   "id": "5ab20bb1-2131-48c9-80c1-b617e78dd6ed",
   "metadata": {},
   "source": [
    "#### **<span style=\"color:purple\">Árboles de decisión</span>.**"
   ]
  },
  {
   "cell_type": "code",
   "execution_count": 9,
   "id": "40fb88cc-97b9-464c-9bfc-1294f01abc95",
   "metadata": {
    "tags": []
   },
   "outputs": [],
   "source": [
    "clasificador1 = DecisionTreeClassifier(max_depth=5, random_state=42)"
   ]
  },
  {
   "cell_type": "code",
   "execution_count": 10,
   "id": "123aad19-a2e1-4628-b4ef-80ab5c8f0b0a",
   "metadata": {
    "tags": []
   },
   "outputs": [
    {
     "name": "stdout",
     "output_type": "stream",
     "text": [
      "Confusion Matrix : \n",
      " [[642 325]\n",
      " [207 135]]\n",
      "Test accuracy =  0.5935828877005348\n",
      "Sensitivity:  0.39473684210526316\n",
      "Specificity:  0.6639089968976215\n"
     ]
    }
   ],
   "source": [
    "#Realizamos la predicción por medio de la validación cruzada con k=10\n",
    "y_pred = cross_val_predict(clasificador1, X_train, y_train, cv=10)\n",
    "\n",
    "#confusion matrix\n",
    "cm = confusion_matrix(y_train, y_pred) \n",
    "print (\"Confusion Matrix : \\n\", cm) \n",
    "  \n",
    "# accuracy score of the model\n",
    "print('Test accuracy = ', accuracy_score(y_train, y_pred))\n",
    "\n",
    "TN, FP, FN, TP = confusion_matrix(y_train, y_pred, labels=[0, 1]).ravel()\n",
    "\n",
    "# Sensitivity, hit rate, recall, or true positive rate\n",
    "TPR = TP/(TP+FN)\n",
    "# Specificity or true negative rate\n",
    "TNR = TN/(TN+FP) \n",
    "\n",
    "print('Sensitivity: ', TPR)\n",
    "print('Specificity: ', TNR)\n"
   ]
  },
  {
   "cell_type": "markdown",
   "id": "68003267-c953-44a9-81ee-39aaa128938e",
   "metadata": {},
   "source": [
    "#### **<span style=\"color:purple\">Naive Bayes</span>.**"
   ]
  },
  {
   "cell_type": "code",
   "execution_count": 11,
   "id": "4d4d2ede-3a95-4903-82d6-5a884db41648",
   "metadata": {
    "tags": []
   },
   "outputs": [],
   "source": [
    "clasificador2 = GaussianNB()"
   ]
  },
  {
   "cell_type": "code",
   "execution_count": 12,
   "id": "65f1857b-791e-4f5e-9047-358cebfbeff8",
   "metadata": {
    "tags": []
   },
   "outputs": [
    {
     "name": "stdout",
     "output_type": "stream",
     "text": [
      "Confusion Matrix : \n",
      " [[804 163]\n",
      " [185 157]]\n",
      "Test accuracy =  0.73414820473644\n",
      "Sensitivity:  0.4590643274853801\n",
      "Specificity:  0.8314374353671148\n"
     ]
    }
   ],
   "source": [
    "#Realizamos la predicción por medio de la validación cruzada con k=10\n",
    "y_pred = cross_val_predict(clasificador2, X_train, y_train, cv=10)\n",
    "\n",
    "cm = confusion_matrix(y_train, y_pred) \n",
    "print (\"Confusion Matrix : \\n\", cm) \n",
    "  \n",
    "# accuracy score of the model\n",
    "print('Test accuracy = ', accuracy_score(y_train, y_pred))\n",
    "\n",
    "TN, FP, FN, TP = confusion_matrix(y_train, y_pred, labels=[0, 1]).ravel()\n",
    "\n",
    "# Sensitivity, hit rate, recall, or true positive rate\n",
    "TPR = TP/(TP+FN)\n",
    "# Specificity or true negative rate\n",
    "TNR = TN/(TN+FP) \n",
    "\n",
    "print('Sensitivity: ', TPR)\n",
    "print('Specificity: ', TNR)\n"
   ]
  },
  {
   "cell_type": "markdown",
   "id": "bb6546cd-13ed-4d26-9c78-fc76ee116412",
   "metadata": {},
   "source": [
    "#### **<span style=\"color:purple\">kNN</span>.**"
   ]
  },
  {
   "cell_type": "code",
   "execution_count": 13,
   "id": "3e53af3f-0b5a-47ff-a7cd-0e76282ce0ba",
   "metadata": {
    "tags": []
   },
   "outputs": [],
   "source": [
    "clasificador3 = KNeighborsClassifier(3)"
   ]
  },
  {
   "cell_type": "code",
   "execution_count": 14,
   "id": "aae7bb42-10c5-4153-93ce-f366e8ba7a1f",
   "metadata": {
    "tags": []
   },
   "outputs": [
    {
     "name": "stdout",
     "output_type": "stream",
     "text": [
      "Confusion Matrix : \n",
      " [[560 407]\n",
      " [237 105]]\n",
      "Test accuracy =  0.5080213903743316\n",
      "Sensitivity:  0.30701754385964913\n",
      "Specificity:  0.5791106514994829\n"
     ]
    }
   ],
   "source": [
    "#Realizamos la predicción por medio de la validación cruzada con k=10\n",
    "y_pred = cross_val_predict(clasificador3, X_train, y_train, cv=10)\n",
    "cm = confusion_matrix(y_train, y_pred) \n",
    "print (\"Confusion Matrix : \\n\", cm) \n",
    "  \n",
    "# accuracy score of the model\n",
    "print('Test accuracy = ', accuracy_score(y_train, y_pred))\n",
    "\n",
    "TN, FP, FN, TP = confusion_matrix(y_train, y_pred, labels=[0, 1]).ravel()\n",
    "\n",
    "# Sensitivity, hit rate, recall, or true positive rate\n",
    "TPR = TP/(TP+FN)\n",
    "# Specificity or true negative rate\n",
    "TNR = TN/(TN+FP) \n",
    "\n",
    "print('Sensitivity: ', TPR)\n",
    "print('Specificity: ', TNR)\n"
   ]
  },
  {
   "cell_type": "markdown",
   "id": "5ebbe734-96c5-4f4e-a1f0-d06e9eaf598e",
   "metadata": {},
   "source": [
    "#### **<span style=\"color:purple\">SVM</span>.**"
   ]
  },
  {
   "cell_type": "code",
   "execution_count": 15,
   "id": "a46c9136-323d-4960-9c2c-0db8bbeba927",
   "metadata": {},
   "outputs": [],
   "source": [
    "clasificador4 = SVC(kernel=\"linear\", C=0.025, random_state=42)"
   ]
  },
  {
   "cell_type": "code",
   "execution_count": 16,
   "id": "99283081-fd35-455b-8aa3-b0bdf0b49051",
   "metadata": {
    "tags": []
   },
   "outputs": [
    {
     "name": "stdout",
     "output_type": "stream",
     "text": [
      "Confusion Matrix : \n",
      " [[868  99]\n",
      " [262  80]]\n",
      "Test accuracy =  0.7242169595110771\n",
      "Sensitivity:  0.23391812865497075\n",
      "Specificity:  0.8976215098241985\n"
     ]
    }
   ],
   "source": [
    "#Realizamos la predicción por medio de la validación cruzada con k=10\n",
    "y_pred = cross_val_predict(clasificador4, X_train, y_train, cv=10)\n",
    "cm = confusion_matrix(y_train, y_pred) \n",
    "print (\"Confusion Matrix : \\n\", cm) \n",
    "  \n",
    "# accuracy score of the model\n",
    "print('Test accuracy = ', accuracy_score(y_train, y_pred))\n",
    "\n",
    "TN, FP, FN, TP = confusion_matrix(y_train, y_pred, labels=[0, 1]).ravel()\n",
    "\n",
    "# Sensitivity, hit rate, recall, or true positive rate\n",
    "TPR = TP/(TP+FN)\n",
    "# Specificity or true negative rate\n",
    "TNR = TN/(TN+FP) \n",
    "\n",
    "print('Sensitivity: ', TPR)\n",
    "print('Specificity: ', TNR)"
   ]
  },
  {
   "cell_type": "markdown",
   "id": "04da31a8-b8d6-4dff-9e74-5efef383a000",
   "metadata": {},
   "source": [
    "#### **<span style=\"color:purple\">Análisis de Discriminante</span>.**"
   ]
  },
  {
   "cell_type": "code",
   "execution_count": 17,
   "id": "d5f19e79-0b06-48e3-b3c3-9f570b54f852",
   "metadata": {
    "tags": []
   },
   "outputs": [],
   "source": [
    "clasificador5 = QuadraticDiscriminantAnalysis()"
   ]
  },
  {
   "cell_type": "code",
   "execution_count": 18,
   "id": "83318877-564b-47dd-9bcc-222fab6090eb",
   "metadata": {
    "tags": []
   },
   "outputs": [
    {
     "name": "stdout",
     "output_type": "stream",
     "text": [
      "Confusion Matrix : \n",
      " [[859 108]\n",
      " [214 128]]\n",
      "Test accuracy =  0.7540106951871658\n",
      "Sensitivity:  0.3742690058479532\n",
      "Specificity:  0.8883143743536711\n"
     ]
    }
   ],
   "source": [
    "#Realizamos la predicción por medio de la validación cruzada con k=10\n",
    "y_pred = cross_val_predict(clasificador5, X_train, y_train, cv=10)\n",
    "cm = confusion_matrix(y_train, y_pred) \n",
    "print (\"Confusion Matrix : \\n\", cm) \n",
    "  \n",
    "# accuracy score of the model\n",
    "print('Test accuracy = ', accuracy_score(y_train, y_pred))\n",
    "\n",
    "TN, FP, FN, TP = confusion_matrix(y_train, y_pred, labels=[0, 1]).ravel()\n",
    "\n",
    "# Sensitivity, hit rate, recall, or true positive rate\n",
    "TPR = TP/(TP+FN)\n",
    "# Specificity or true negative rate\n",
    "TNR = TN/(TN+FP) \n",
    "\n",
    "print('Sensitivity: ', TPR)\n",
    "print('Specificity: ', TNR)"
   ]
  },
  {
   "cell_type": "markdown",
   "id": "0a2f5018-a681-47ea-b8dc-595bd42006db",
   "metadata": {},
   "source": [
    "#### **<span style=\"color:purple\">AdaBoost</span>.**"
   ]
  },
  {
   "cell_type": "code",
   "execution_count": 19,
   "id": "6610e4cd-1d55-4a3c-8a3d-2a1258bb4230",
   "metadata": {
    "tags": []
   },
   "outputs": [],
   "source": [
    " clasificador6 = AdaBoostClassifier(random_state=42)"
   ]
  },
  {
   "cell_type": "code",
   "execution_count": 20,
   "id": "fa565272-5809-4b0c-b30c-5c3c030ff5d2",
   "metadata": {
    "tags": []
   },
   "outputs": [
    {
     "name": "stdout",
     "output_type": "stream",
     "text": [
      "Confusion Matrix : \n",
      " [[478 489]\n",
      " [242 100]]\n",
      "Test accuracy =  0.44155844155844154\n",
      "Sensitivity:  0.29239766081871343\n",
      "Specificity:  0.49431230610134436\n"
     ]
    }
   ],
   "source": [
    "#Realizamos la predicción por medio de la validación cruzada con k=10\n",
    "y_pred = cross_val_predict(clasificador6, X_train, y_train, cv=10)\n",
    "cm = confusion_matrix(y_train, y_pred) \n",
    "print (\"Confusion Matrix : \\n\", cm) \n",
    "  \n",
    "# accuracy score of the model\n",
    "print('Test accuracy = ', accuracy_score(y_train, y_pred))\n",
    "\n",
    "TN, FP, FN, TP = confusion_matrix(y_train, y_pred, labels=[0, 1]).ravel()\n",
    "\n",
    "# Sensitivity, hit rate, recall, or true positive rate\n",
    "TPR = TP/(TP+FN)\n",
    "# Specificity or true negative rate\n",
    "TNR = TN/(TN+FP) \n",
    "\n",
    "print('Sensitivity: ', TPR)\n",
    "print('Specificity: ', TNR)"
   ]
  },
  {
   "cell_type": "markdown",
   "id": "fb6c6939-2e6c-4b80-9565-85875a51dc44",
   "metadata": {},
   "source": [
    "#### **<span style=\"color:purple\">RBF SVM</span>.**"
   ]
  },
  {
   "cell_type": "code",
   "execution_count": 21,
   "id": "c887b8bb-46d2-4e51-8bdf-1e426f20c856",
   "metadata": {
    "tags": []
   },
   "outputs": [],
   "source": [
    "clasificador7 = SVC(gamma=2, C=1, random_state=42)"
   ]
  },
  {
   "cell_type": "code",
   "execution_count": 22,
   "id": "3a434d1d-106d-4e21-99b3-60d849657927",
   "metadata": {
    "tags": []
   },
   "outputs": [
    {
     "name": "stdout",
     "output_type": "stream",
     "text": [
      "Confusion Matrix : \n",
      " [[967   0]\n",
      " [342   0]]\n",
      "Test accuracy =  0.7387318563789153\n",
      "Sensitivity:  0.0\n",
      "Specificity:  1.0\n"
     ]
    }
   ],
   "source": [
    "#Realizamos la predicción por medio de la validación cruzada con k=10\n",
    "y_pred = cross_val_predict(clasificador7, X_train, y_train, cv=10)\n",
    "cm = confusion_matrix(y_train, y_pred) \n",
    "print (\"Confusion Matrix : \\n\", cm) \n",
    "  \n",
    "# accuracy score of the model\n",
    "print('Test accuracy = ', accuracy_score(y_train, y_pred))\n",
    "\n",
    "TN, FP, FN, TP = confusion_matrix(y_train, y_pred, labels=[0, 1]).ravel()\n",
    "\n",
    "# Sensitivity, hit rate, recall, or true positive rate\n",
    "TPR = TP/(TP+FN)\n",
    "# Specificity or true negative rate\n",
    "TNR = TN/(TN+FP) \n",
    "\n",
    "print('Sensitivity: ', TPR)\n",
    "print('Specificity: ', TNR)"
   ]
  },
  {
   "cell_type": "markdown",
   "id": "b9d9f80c-6a52-46af-aec5-50a02b682d92",
   "metadata": {},
   "source": [
    "#### **<span style=\"color:purple\">Random Forest</span>.**"
   ]
  },
  {
   "cell_type": "code",
   "execution_count": 23,
   "id": "d7722690-b113-423f-9052-1278b7876672",
   "metadata": {
    "tags": []
   },
   "outputs": [],
   "source": [
    "clasificador8 = RandomForestClassifier(max_depth=5, n_estimators=10, max_features=1, random_state=42)"
   ]
  },
  {
   "cell_type": "code",
   "execution_count": 24,
   "id": "57667e4c-d4a3-4269-ab20-15e7463cf02e",
   "metadata": {
    "tags": []
   },
   "outputs": [
    {
     "name": "stdout",
     "output_type": "stream",
     "text": [
      "Confusion Matrix : \n",
      " [[917  50]\n",
      " [253  89]]\n",
      "Test accuracy =  0.7685255920550038\n",
      "Sensitivity:  0.260233918128655\n",
      "Specificity:  0.9482936918304034\n"
     ]
    }
   ],
   "source": [
    "#Realizamos la predicción por medio de la validación cruzada con k=10\n",
    "y_pred = cross_val_predict(clasificador8, X_train, y_train, cv=10)\n",
    "cm = confusion_matrix(y_train, y_pred) \n",
    "print (\"Confusion Matrix : \\n\", cm) \n",
    "  \n",
    "# accuracy score of the model\n",
    "print('Test accuracy = ', accuracy_score(y_train, y_pred))\n",
    "\n",
    "TN, FP, FN, TP = confusion_matrix(y_train, y_pred, labels=[0, 1]).ravel()\n",
    "\n",
    "# Sensitivity, hit rate, recall, or true positive rate\n",
    "TPR = TP/(TP+FN)\n",
    "# Specificity or true negative rate\n",
    "TNR = TN/(TN+FP) \n",
    "\n",
    "print('Sensitivity: ', TPR)\n",
    "print('Specificity: ', TNR)"
   ]
  },
  {
   "cell_type": "markdown",
   "id": "8148d052-55b3-4c8e-9bc9-1e1fc27f7660",
   "metadata": {},
   "source": [
    "#### **<span style=\"color:purple\">Neural Net</span>.**"
   ]
  },
  {
   "cell_type": "code",
   "execution_count": 25,
   "id": "942d0335-8c65-417a-beab-cb2c20203fff",
   "metadata": {
    "tags": []
   },
   "outputs": [],
   "source": [
    "clasificador9 = MLPClassifier(alpha=1, max_iter=1000, random_state=42)"
   ]
  },
  {
   "cell_type": "code",
   "execution_count": 26,
   "id": "e73eeca8-2f89-4d5e-b534-97975884897d",
   "metadata": {
    "tags": []
   },
   "outputs": [
    {
     "name": "stdout",
     "output_type": "stream",
     "text": [
      "Confusion Matrix : \n",
      " [[784 183]\n",
      " [226 116]]\n",
      "Test accuracy =  0.6875477463712758\n",
      "Sensitivity:  0.3391812865497076\n",
      "Specificity:  0.8107549120992761\n"
     ]
    }
   ],
   "source": [
    "#Realizamos la predicción por medio de la validación cruzada con k=10\n",
    "y_pred = cross_val_predict(clasificador9, X_train, y_train, cv=10)\n",
    "cm = confusion_matrix(y_train, y_pred) \n",
    "print (\"Confusion Matrix : \\n\", cm) \n",
    "  \n",
    "# accuracy score of the model\n",
    "print('Test accuracy = ', accuracy_score(y_train, y_pred))\n",
    "\n",
    "TN, FP, FN, TP = confusion_matrix(y_train, y_pred, labels=[0, 1]).ravel()\n",
    "\n",
    "# Sensitivity, hit rate, recall, or true positive rate\n",
    "TPR = TP/(TP+FN)\n",
    "# Specificity or true negative rate\n",
    "TNR = TN/(TN+FP) \n",
    "\n",
    "print('Sensitivity: ', TPR)\n",
    "print('Specificity: ', TNR)"
   ]
  },
  {
   "cell_type": "markdown",
   "id": "d82736d8-6621-4f86-8f85-b4c53281fc90",
   "metadata": {},
   "source": [
    "#### **<span style=\"color:purple\">Gaussian Process</span>.**"
   ]
  },
  {
   "cell_type": "code",
   "execution_count": 27,
   "id": "620b6e09-85d2-42d1-bb45-52d5ad77c850",
   "metadata": {
    "tags": []
   },
   "outputs": [],
   "source": [
    "clasificador10 = GaussianProcessClassifier(1.0 * RBF(1.0), random_state=42)"
   ]
  },
  {
   "cell_type": "code",
   "execution_count": 28,
   "id": "424cf02e-abdd-4382-adef-537b8000d313",
   "metadata": {
    "tags": []
   },
   "outputs": [
    {
     "name": "stdout",
     "output_type": "stream",
     "text": [
      "Confusion Matrix : \n",
      " [[815 152]\n",
      " [316  26]]\n",
      "Test accuracy =  0.6424751718869366\n",
      "Sensitivity:  0.07602339181286549\n",
      "Specificity:  0.8428128231644261\n"
     ]
    }
   ],
   "source": [
    "#Realizamos la predicción por medio de la validación cruzada con k=10\n",
    "y_pred = cross_val_predict(clasificador10, X_train, y_train, cv=10)\n",
    "cm = confusion_matrix(y_train, y_pred) \n",
    "print (\"Confusion Matrix : \\n\", cm) \n",
    "  \n",
    "# accuracy score of the model\n",
    "print('Test accuracy = ', accuracy_score(y_train, y_pred))\n",
    "\n",
    "TN, FP, FN, TP = confusion_matrix(y_train, y_pred, labels=[0, 1]).ravel()\n",
    "\n",
    "# Sensitivity, hit rate, recall, or true positive rate\n",
    "TPR = TP/(TP+FN)\n",
    "# Specificity or true negative rate\n",
    "TNR = TN/(TN+FP) \n",
    "\n",
    "print('Sensitivity: ', TPR)\n",
    "print('Specificity: ', TNR)"
   ]
  },
  {
   "cell_type": "markdown",
   "id": "db9cce0b-5e80-47bd-9ffc-b7163bbc81f4",
   "metadata": {},
   "source": [
    "#### **<span style=\"color:orange\">Resultados de los clasificadores</span>.**\n",
    "\n",
    "La siguiente tabla nos muestra el resultado de evaluar los 10 clasificadores de nuestro DataFrame con los datos originales, como podemos observar los resultados no son muy favorables, pero de los clasificadores probados en este código el que nos proporciona un mejor resultado es RandomForest (resaltado con color azul).\n",
    "\n",
    "Por lo que para sa sunfa parte usaremos RandomForest junto con reducción de dimensionalidad para observar si existen cambios favorables.\n",
    "\n",
    "\n",
    "| Clasificador | Accuracy | Sensitivity |Specificity|\n",
    "|----------|----------|----------|--------|\n",
    "| Árbol de desición    | 0.59   | 0.39   | 0.66   |\n",
    "| Naive Bayes   | 0.73   | 0.45   | 0.83  |\n",
    "| KNN    | 0.50   | 0.30   | 0.57  |\n",
    "|SVM     | 0.72 | 0.23 | 0.89|\n",
    "|Análisis de discriminante | 0.75 | 0.37 | 0.88 |\n",
    "| AdaBoost | 0.44 | 0.29 | 0.49| \n",
    "| RBF SVM | 0.73 | 0.0| 1.0|\n",
    "|[Random Forest](dot.com)  | [0.76](dot.com) | [0.26](dot.com) | [0.94](dot.com)|\n",
    "| Neural Net| 0.68| 0.33| 0.81|\n",
    "|Gaussian Process| 0.64| 0.07| 0.84|"
   ]
  },
  {
   "cell_type": "markdown",
   "id": "884be6ad-632f-4864-8e79-79054613fafe",
   "metadata": {
    "tags": []
   },
   "source": [
    "#### **<span style=\"color:Blue\">Segundo objetivo</span>.**\n",
    "\n",
    "###### Comparar el rendimiento de los modelos utilizando los datos en su dominio original, respecto al utilizar los datos en un espacio modificado (e.g. PCA, LDA, t-SNE, UMAP, ...)."
   ]
  },
  {
   "cell_type": "markdown",
   "id": "c09b2930-1bf9-4a21-bd16-e821440957b2",
   "metadata": {
    "tags": []
   },
   "source": [
    "Comenzamos la segunda etapa de esta práctica observando la ganancia de información de cada atributo con respecto a la clase de clasificación. "
   ]
  },
  {
   "cell_type": "code",
   "execution_count": 29,
   "id": "619c4aff-c59b-42f8-a80f-3cba6dac1208",
   "metadata": {
    "tags": []
   },
   "outputs": [
    {
     "data": {
      "image/png": "[encoded data removed]",
      "text/plain": [
       "<Figure size 640x480 with 1 Axes>"
      ]
     },
     "metadata": {},
     "output_type": "display_data"
    }
   ],
   "source": [
    "X_nueva = mutual_info_classif(X_train, y_train)\n",
    "feat_imp = pd.Series(X_nueva, df.columns[0:len(df.columns)-1])\n",
    "feat_imp.plot(title=\"Características con mayor importancia\", kind='barh')\n",
    "plt.show()"
   ]
  },
  {
   "cell_type": "code",
   "execution_count": 30,
   "id": "183e378b-2bc8-47ac-aaf2-cee408fb3578",
   "metadata": {
    "tags": []
   },
   "outputs": [
    {
     "data": {
      "image/png": "[encoded data removed]",
      "text/plain": [
       "<Figure size 640x480 with 1 Axes>"
      ]
     },
     "metadata": {},
     "output_type": "display_data"
    }
   ],
   "source": [
    "#Ahora usamos la función de RandomForestClassifier para conocer cuales son los atributos que tienen una mayor importancia \n",
    "\n",
    "model = RandomForestClassifier(n_estimators=340)\n",
    "model.fit(X_train,y_train)\n",
    "importances = model.feature_importances_\n",
    "\n",
    "feat_df = pd.DataFrame({\"Features\": pd.DataFrame(X_train).columns, \"Importancia\": importances})\n",
    "feat_df.set_index('Importancia')\n",
    "feat_df.plot.barh(title=\"Características con mayor importancia\" ,color = '#290DF7');"
   ]
  },
  {
   "cell_type": "markdown",
   "id": "0bedc624-ff2f-46f2-87b9-925de1896853",
   "metadata": {},
   "source": [
    "Donde es facil observar que los atributos que tiene mayor importancia en nuestro DataFrame es:\n",
    "1. Passerngerid\n",
    "2. Fare\n",
    "3. Wikiid\n",
    "4. Parch \n"
   ]
  },
  {
   "cell_type": "code",
   "execution_count": 31,
   "id": "9c79c3e3-a425-4571-a54d-be36a82371b0",
   "metadata": {
    "tags": []
   },
   "outputs": [],
   "source": [
    "#Importamos los reductores de dimensionalidad PCA TSNE Y UMAP\n",
    "from sklearn.decomposition import PCA\n",
    "from sklearn.manifold import TSNE\n",
    "from umap import UMAP\n"
   ]
  },
  {
   "cell_type": "markdown",
   "id": "e6147cec-2d84-4d6f-bc7b-0ad622ff81f0",
   "metadata": {},
   "source": [
    "### **<span style=\"color:purple\">Usando Random Forest</span>.**\n",
    "\n",
    "#### Como el clasificador Random Forest nos dio el mejor resultado en la primera parte, usaremos este clasificador con el etapa de reducción de dimensionalidad para:\n",
    "1. PCA\n",
    "2. TSNE\n",
    "3. UMAP\n",
    "\n",
    "Cabe mencionar que lo primero que haremos sera usar estos tres reductores de dimensionalidad con los atributos originales usando el clasificador Random Forest. Ya que queremos visualizar si los atributos originales nos generan un cambio significativo."
   ]
  },
  {
   "cell_type": "code",
   "execution_count": 32,
   "id": "af26b7dc-0b90-45d9-bc87-fc0e29139f4a",
   "metadata": {
    "tags": []
   },
   "outputs": [],
   "source": [
    "clasificador = RandomForestClassifier(max_depth=5, n_estimators=10, max_features=1, random_state=42)"
   ]
  },
  {
   "cell_type": "markdown",
   "id": "23e5c014-493b-4b2e-b2d4-1748d1390154",
   "metadata": {},
   "source": [
    "##### **<span style=\"color:purple\">PCA</span>.**"
   ]
  },
  {
   "cell_type": "code",
   "execution_count": 33,
   "id": "504f36a4-5fe7-4247-ad4e-f47a07c3fcec",
   "metadata": {
    "tags": []
   },
   "outputs": [
    {
     "name": "stdout",
     "output_type": "stream",
     "text": [
      "Confusion Matrix : \n",
      " [[786 181]\n",
      " [205 137]]\n",
      "Test accuracy =  0.7051184110007639\n",
      "Sensitivity:  0.40058479532163743\n",
      "Specificity:  0.81282316442606\n"
     ]
    }
   ],
   "source": [
    "X_PCA = PCA(n_components=2).fit_transform(X_train)\n",
    "#Realizamos la predicción por medio de la validación cruzada con k=10\n",
    "y_pred = cross_val_predict(clasificador, X_PCA, y_train, cv=10)\n",
    "cm = confusion_matrix(y_train, y_pred) \n",
    "print (\"Confusion Matrix : \\n\", cm) \n",
    "  \n",
    "# accuracy score of the model\n",
    "print('Test accuracy = ', accuracy_score(y_train, y_pred))\n",
    "\n",
    "TN, FP, FN, TP = confusion_matrix(y_train, y_pred, labels=[0, 1]).ravel()\n",
    "\n",
    "# Sensitivity, hit rate, recall, or true positive rate\n",
    "TPR = TP/(TP+FN)\n",
    "# Specificity or true negative rate\n",
    "TNR = TN/(TN+FP) \n",
    "\n",
    "print('Sensitivity: ', TPR)\n",
    "print('Specificity: ', TNR)"
   ]
  },
  {
   "cell_type": "markdown",
   "id": "bda92926-ff19-46ba-a73b-56ee9a525327",
   "metadata": {},
   "source": [
    "##### **<span style=\"color:purple\">TSNE</span>.**"
   ]
  },
  {
   "cell_type": "code",
   "execution_count": 34,
   "id": "cb4a43e1-928a-416f-97f7-17c45b0affef",
   "metadata": {
    "tags": []
   },
   "outputs": [
    {
     "name": "stdout",
     "output_type": "stream",
     "text": [
      "Confusion Matrix : \n",
      " [[803 164]\n",
      " [238 104]]\n",
      "Test accuracy =  0.6928953399541635\n",
      "Sensitivity:  0.30409356725146197\n",
      "Specificity:  0.8304033092037229\n"
     ]
    }
   ],
   "source": [
    "X_TSNE = TSNE().fit_transform(X_train) \n",
    "#Realizamos la predicción por medio de la validación cruzada con k=10\n",
    "y_pred = cross_val_predict(clasificador, X_TSNE, y_train, cv=10)\n",
    "cm = confusion_matrix(y_train, y_pred) \n",
    "print (\"Confusion Matrix : \\n\", cm) \n",
    "  \n",
    "# accuracy score of the model\n",
    "print('Test accuracy = ', accuracy_score(y_train, y_pred))\n",
    "\n",
    "TN, FP, FN, TP = confusion_matrix(y_train, y_pred, labels=[0, 1]).ravel()\n",
    "\n",
    "# Sensitivity, hit rate, recall, or true positive rate\n",
    "TPR = TP/(TP+FN)\n",
    "# Specificity or true negative rate\n",
    "TNR = TN/(TN+FP) \n",
    "\n",
    "print('Sensitivity: ', TPR)\n",
    "print('Specificity: ', TNR)"
   ]
  },
  {
   "cell_type": "markdown",
   "id": "43d2ea17-ac8d-49e7-b786-e006fe08bff7",
   "metadata": {},
   "source": [
    "##### **<span style=\"color:purple\">UMAP</span>.**"
   ]
  },
  {
   "cell_type": "code",
   "execution_count": null,
   "id": "9b288abd-7ed5-48c7-9c99-2e053d748f52",
   "metadata": {
    "tags": []
   },
   "outputs": [],
   "source": [
    "X_UMAP = UMAP(n_neighbors=2, min_dist=0.1, metric='correlation').fit_transform(X_train)\n",
    "#Realizamos la predicción por medio de la validación cruzada con k=10\n",
    "y_pred = cross_val_predict(clasificador, X_UMAP, y_train, cv=10)\n",
    "cm = confusion_matrix(y_train, y_pred) \n",
    "print (\"Confusion Matrix : \\n\", cm) \n",
    "  \n",
    "# accuracy score of the model\n",
    "print('Test accuracy = ', accuracy_score(y_train, y_pred))\n",
    "\n",
    "TN, FP, FN, TP = confusion_matrix(y_train, y_pred, labels=[0, 1]).ravel()\n",
    "\n",
    "# Sensitivity, hit rate, recall, or true positive rate\n",
    "TPR = TP/(TP+FN)\n",
    "# Specificity or true negative rate\n",
    "TNR = TN/(TN+FP) \n",
    "\n",
    "print('Sensitivity: ', TPR)\n",
    "print('Specificity: ', TNR)"
   ]
  },
  {
   "cell_type": "markdown",
   "id": "4ca1e6e1-abba-41cd-9743-25627e4f4592",
   "metadata": {},
   "source": [
    "##### **<span style=\"color:Orange\">Resultados con los atributos originales usando Random Forest</span>.**\n",
    "\n",
    "Una vez que usamos reducción de dimensionalidad con los datos originales y el clasificador RandomForest. Se genera la siguiente tabla la cual nos propirciona la información de como fue el desempeño de usar nuestro clasificador y  reducción de dimensionalidad. Estos datos nos pueden servir para hacer una comparación justa cuando se tomen los atributos con mayor importancia.\n",
    "\n",
    "\n",
    "| Reductor | Accuracy | Sensitivity |Specificity|\n",
    "|----------|----------|----------|--------|\n",
    "| PCA    | 0.70   | 0.40   | 0.81   |\n",
    "| TSNE   | 0.69   | 0.30   | 0.83  |\n",
    "| UMAP    | 0.73   | 0.09   | 0.95  |\n"
   ]
  },
  {
   "cell_type": "markdown",
   "id": "aee5114e-06c3-4c82-bf5d-90763ea08edc",
   "metadata": {
    "tags": []
   },
   "source": [
    "Una vez que observamos que nuestros resultados no fueron favorales con todos los atributos, vamos a elegir solamente los siguientes \n",
    "1. Passerngerid\n",
    "2. Fare\n",
    "3. Wikiid\n",
    "4. Parch \n"
   ]
  },
  {
   "cell_type": "code",
   "execution_count": null,
   "id": "00d843af-799a-4a93-80a9-0e193a479495",
   "metadata": {},
   "outputs": [],
   "source": [
    "X_train = df[['PassengerId','Parch','Fare','WikiId']]\n",
    "y_train = df[['Survived']]\n",
    "#Observamos el nuevo DataFrame con los atributos de maayor importancia \n",
    "X_train.head()"
   ]
  },
  {
   "cell_type": "markdown",
   "id": "2e10729a-7a19-4f64-953e-9a9eae86c941",
   "metadata": {},
   "source": [
    "Ahora que tenemos nuestro nuevo DataFrame con los atributos de mayor importancia vamos a realizar los mismos pasos para obtener nuestros valores de interés."
   ]
  },
  {
   "cell_type": "markdown",
   "id": "89c73912-3e16-4653-adc0-d8cedf89fa0f",
   "metadata": {
    "tags": []
   },
   "source": [
    "##### **<span style=\"color:Blue\">Llamos de nuevo a nuestro clasificador</span>.**"
   ]
  },
  {
   "cell_type": "code",
   "execution_count": null,
   "id": "1ee57883-3f54-4c91-b179-9683f41dd16d",
   "metadata": {},
   "outputs": [],
   "source": [
    "clasificador = RandomForestClassifier(max_depth=5, n_estimators=10, max_features=1, random_state=42)"
   ]
  },
  {
   "cell_type": "markdown",
   "id": "601a6820-eadf-4d39-929d-f156b7c6d46b",
   "metadata": {
    "tags": []
   },
   "source": [
    "##### **<span style=\"color:purple\">PCA</span>.**"
   ]
  },
  {
   "cell_type": "code",
   "execution_count": null,
   "id": "a96c0b1f-0d07-44c4-bcc0-248dca67888a",
   "metadata": {
    "tags": []
   },
   "outputs": [],
   "source": [
    "X_PCA = PCA(n_components=2).fit_transform(X_train)\n",
    "#Realizamos la predicción por medio de la validación cruzada con k=10\n",
    "y_pred = cross_val_predict(clasificador, X_PCA, y_train, cv=10)\n",
    "cm = confusion_matrix(y_train, y_pred) \n",
    "print (\"Confusion Matrix : \\n\", cm) \n",
    "  \n",
    "# accuracy score of the model\n",
    "print('Test accuracy = ', accuracy_score(y_train, y_pred))\n",
    "\n",
    "TN, FP, FN, TP = confusion_matrix(y_train, y_pred, labels=[0, 1]).ravel()\n",
    "\n",
    "# Sensitivity, hit rate, recall, or true positive rate\n",
    "TPR = TP/(TP+FN)\n",
    "# Specificity or true negative rate\n",
    "TNR = TN/(TN+FP) \n",
    "\n",
    "print('Sensitivity: ', TPR)\n",
    "print('Specificity: ', TNR)"
   ]
  },
  {
   "cell_type": "markdown",
   "id": "7f1b2fce-47c1-4640-a6b4-d0a1cd770513",
   "metadata": {
    "tags": []
   },
   "source": [
    "##### **<span style=\"color:purple\">TSNE</span>.**"
   ]
  },
  {
   "cell_type": "code",
   "execution_count": null,
   "id": "d47c43c9-084a-499c-9987-86da2075f7ec",
   "metadata": {
    "tags": []
   },
   "outputs": [],
   "source": [
    "X_TSNE = TSNE().fit_transform(X_train) \n",
    "#Realizamos la predicción por medio de la validación cruzada con k=10\n",
    "y_pred = cross_val_predict(clasificador, X_TSNE, y_train, cv=10)\n",
    "cm = confusion_matrix(y_train, y_pred) \n",
    "print (\"Confusion Matrix : \\n\", cm) \n",
    "  \n",
    "# accuracy score of the model\n",
    "print('Test accuracy = ', accuracy_score(y_train, y_pred))\n",
    "\n",
    "TN, FP, FN, TP = confusion_matrix(y_train, y_pred, labels=[0, 1]).ravel()\n",
    "\n",
    "# Sensitivity, hit rate, recall, or true positive rate\n",
    "TPR = TP/(TP+FN)\n",
    "# Specificity or true negative rate\n",
    "TNR = TN/(TN+FP) \n",
    "\n",
    "print('Sensitivity: ', TPR)\n",
    "print('Specificity: ', TNR)"
   ]
  },
  {
   "cell_type": "markdown",
   "id": "441b176b-6cfe-43e1-b1c1-5042960f399b",
   "metadata": {
    "tags": []
   },
   "source": [
    "##### **<span style=\"color:purple\">UMAP</span>.**"
   ]
  },
  {
   "cell_type": "code",
   "execution_count": null,
   "id": "75de4c7a-ef4e-4a0f-8973-0fc60d0dcd87",
   "metadata": {
    "tags": []
   },
   "outputs": [],
   "source": [
    "X_UMAP = UMAP(n_neighbors=2, min_dist=0.1, metric='correlation').fit_transform(X_train)\n",
    "#Realizamos la predicción por medio de la validación cruzada con k=10\n",
    "y_pred = cross_val_predict(clasificador, X_UMAP, y_train, cv=10)\n",
    "cm = confusion_matrix(y_train, y_pred) \n",
    "print (\"Confusion Matrix : \\n\", cm) \n",
    "  \n",
    "# accuracy score of the model\n",
    "print('Test accuracy = ', accuracy_score(y_train, y_pred))\n",
    "\n",
    "TN, FP, FN, TP = confusion_matrix(y_train, y_pred, labels=[0, 1]).ravel()\n",
    "\n",
    "# Sensitivity, hit rate, recall, or true positive rate\n",
    "TPR = TP/(TP+FN)\n",
    "# Specificity or true negative rate\n",
    "TNR = TN/(TN+FP) \n",
    "\n",
    "print('Sensitivity: ', TPR)\n",
    "print('Specificity: ', TNR)"
   ]
  },
  {
   "cell_type": "markdown",
   "id": "cfa61f29-2684-4d56-bc94-bd5c60331b9d",
   "metadata": {},
   "source": [
    "##### **<span style=\"color:Orange\">Resultados con los atributos reducidos usando Random Forest</span>.**\n",
    "\n",
    "Como podemos observar, los resultados de tener los datos originales y de aplicar reducción de dimensionalidad en este caso no nos genero un cambio significativo, por lo que vamos a proceder a eliminar más atributos para observar si hay un mejor cambio.\n",
    "\n",
    "| Reductor | Accuracy | Sensitivity |Specificity|\n",
    "|----------|----------|----------|--------|\n",
    "| PCA    | 0.70   | 0.41   | 0.81   |\n",
    "| TSNE   | 0.69   | 0.29   | 0.84  |\n",
    "| UMAP    | 0.73   | 0.07   | 0.97  |"
   ]
  },
  {
   "cell_type": "markdown",
   "id": "a043ba15-8a40-4a10-8717-1845d10d6368",
   "metadata": {
    "tags": []
   },
   "source": [
    "Una vez que observamos que nuestros resultados no fueron favorales con todos los siguientes atributos: \n",
    "1. Passerngerid\n",
    "2. Fare\n",
    "3. Wikiid\n",
    "4. Parch \n",
    "\n",
    "Vamos a proceder a realizar una nueva selección de atributos basandonos en el gráfico de barras \"Características con mayor importancia\" del cual vamos a elegir los siguientes atributos:\n",
    "1. Fare\n",
    "2. Wikiid\n",
    "\n",
    "Y nos vamos a arriesgar a eliminar el atributo que tiene mayor importancia que es:\n",
    "###### *Passerngerid*\n"
   ]
  },
  {
   "cell_type": "code",
   "execution_count": null,
   "id": "c8ef4fbc-d706-46c1-829e-3c5b292aae96",
   "metadata": {
    "tags": []
   },
   "outputs": [],
   "source": [
    "X_train = df[['Fare','WikiId']]\n",
    "y_train = df[['Survived']]\n",
    "#Observamos el nuevo DataFrame con los atributos de maayor importancia \n",
    "X_train.head()"
   ]
  },
  {
   "cell_type": "markdown",
   "id": "78f08127-ac59-4260-af93-abd0d323a90c",
   "metadata": {},
   "source": [
    "##### **<span style=\"color:purple\">PCA</span>.**"
   ]
  },
  {
   "cell_type": "code",
   "execution_count": null,
   "id": "798f6e52-9b2a-4a07-8d91-6187f01eefdb",
   "metadata": {
    "tags": []
   },
   "outputs": [],
   "source": [
    "X_PCA = PCA(n_components=2).fit_transform(X_train)\n",
    "#Realizamos la predicción por medio de la validación cruzada con k=10\n",
    "y_pred = cross_val_predict(clasificador, X_PCA, y_train, cv=10)\n",
    "cm = confusion_matrix(y_train, y_pred) \n",
    "print (\"Confusion Matrix : \\n\", cm) \n",
    "  \n",
    "# accuracy score of the model\n",
    "print('Test accuracy = ', accuracy_score(y_train, y_pred))\n",
    "\n",
    "TN, FP, FN, TP = confusion_matrix(y_train, y_pred, labels=[0, 1]).ravel()\n",
    "\n",
    "# Sensitivity, hit rate, recall, or true positive rate\n",
    "TPR = TP/(TP+FN)\n",
    "# Specificity or true negative rate\n",
    "TNR = TN/(TN+FP) \n",
    "\n",
    "print('Sensitivity: ', TPR)\n",
    "print('Specificity: ', TNR)"
   ]
  },
  {
   "cell_type": "markdown",
   "id": "dc755bb9-9a5e-4876-aa53-1e85ffc79b8b",
   "metadata": {},
   "source": [
    "##### **<span style=\"color:purple\">TSNE</span>.**"
   ]
  },
  {
   "cell_type": "code",
   "execution_count": null,
   "id": "74102cf6-c963-4077-a4b8-19f01bd52487",
   "metadata": {
    "tags": []
   },
   "outputs": [],
   "source": [
    "X_TSNE = TSNE().fit_transform(X_train) \n",
    "#Realizamos la predicción por medio de la validación cruzada con k=10\n",
    "y_pred = cross_val_predict(clasificador, X_TSNE, y_train, cv=10)\n",
    "cm = confusion_matrix(y_train, y_pred) \n",
    "print (\"Confusion Matrix : \\n\", cm) \n",
    "  \n",
    "# accuracy score of the model\n",
    "print('Test accuracy = ', accuracy_score(y_train, y_pred))\n",
    "\n",
    "TN, FP, FN, TP = confusion_matrix(y_train, y_pred, labels=[0, 1]).ravel()\n",
    "\n",
    "# Sensitivity, hit rate, recall, or true positive rate\n",
    "TPR = TP/(TP+FN)\n",
    "# Specificity or true negative rate\n",
    "TNR = TN/(TN+FP) \n",
    "\n",
    "print('Sensitivity: ', TPR)\n",
    "print('Specificity: ', TNR)"
   ]
  },
  {
   "cell_type": "markdown",
   "id": "fddb110a-746f-4851-8e35-aa6b0c5c36e2",
   "metadata": {},
   "source": [
    "##### **<span style=\"color:purple\">UMAP</span>.**"
   ]
  },
  {
   "cell_type": "code",
   "execution_count": null,
   "id": "ff8a6018-f42e-4924-bec6-7023f738e5d4",
   "metadata": {
    "tags": []
   },
   "outputs": [],
   "source": [
    "X_UMAP = UMAP(n_neighbors=2, min_dist=0.1, metric='correlation').fit_transform(X_train)\n",
    "#Realizamos la predicción por medio de la validación cruzada con k=10\n",
    "y_pred = cross_val_predict(clasificador, X_UMAP, y_train, cv=10)\n",
    "cm = confusion_matrix(y_train, y_pred) \n",
    "print (\"Confusion Matrix : \\n\", cm) \n",
    "  \n",
    "# accuracy score of the model\n",
    "print('Test accuracy = ', accuracy_score(y_train, y_pred))\n",
    "\n",
    "TN, FP, FN, TP = confusion_matrix(y_train, y_pred, labels=[0, 1]).ravel()\n",
    "\n",
    "# Sensitivity, hit rate, recall, or true positive rate\n",
    "TPR = TP/(TP+FN)\n",
    "# Specificity or true negative rate\n",
    "TNR = TN/(TN+FP) \n",
    "\n",
    "print('Sensitivity: ', TPR)\n",
    "print('Specificity: ', TNR)"
   ]
  },
  {
   "cell_type": "markdown",
   "id": "73f75d30-133a-44ed-803e-02ca8e32288f",
   "metadata": {},
   "source": [
    "##### **<span style=\"color:Orange\">Resultados obtenidos solamente con Fare y WikiId usando Random Forest</span>.**\n",
    "\n",
    "Sorpresivamente al solamente quedarnos con dos de los atributos con mayor importancia del DataFrame, podemos observar que nuestros resultados tuvieron mejoría, incluso al eliminar el atributo de mayor importancia segun nuestra reducción de atributos. \n",
    "\n",
    "| Reductor | Accuracy | Sensitivity |Specificity|\n",
    "|----------|----------|----------|--------|\n",
    "| PCA    | 0.73   | 0.15   | 0.94   |\n",
    "| TSNE   | 0.74   | 0.18   | 0.94  |\n",
    "| UMAP    | 0.74   | 0.06   | 0.98  |"
   ]
  },
  {
   "cell_type": "markdown",
   "id": "43e3bfdf-bb68-42f9-b6d6-9c9c582a918e",
   "metadata": {},
   "source": [
    "## **<span style=\"color:Blue\">Conclusión</span>.**\n",
    "\n",
    "En esta práctica, se evaluó el comportamiento de diferentes clasificadores en el conjunto de datos del Titanic. Se encontró que, al procesar los datos, se genera un tipo de comportamiento. Sin embargo, al aplicar reducción de dimensionalidad, este comportamiento puede ser similar al que se obtiene con los datos originales. Además, se observó que el clasificador RandomForest y la reducción de dimensionalidad con PCA, TSNE y UMAP tienen un mejor desempeño al elegir los datos más importantes incluso eliminando el que parece ser el atributo más importante.\n",
    "\n",
    "Es interesante notar que, al eliminar el atributo que parece ser el más importante, se observa un mejor desempeño del clasificador. Esto puede deberse a que este atributo, PassengerId, tiene una gran cantidad de valores faltantes. Al eliminar estos valores, todo el peso se asigna a los valores reemplazados con cero. Por lo tanto, es posible que este atributo no sea tan relevante para la predicción."
   ]
  }
 ],
 "metadata": {
  "kernelspec": {
   "display_name": "Python 3 (ipykernel)",
   "language": "python",
   "name": "python3"
  },
  "language_info": {
   "codemirror_mode": {
    "name": "ipython",
    "version": 3
   },
   "file_extension": ".py",
   "mimetype": "text/x-python",
   "name": "python",
   "nbconvert_exporter": "python",
   "pygments_lexer": "ipython3",
   "version": "3.11.4"
  }
 },
 "nbformat": 4,
 "nbformat_minor": 5
}

{
 "cells": [
  {
   "cell_type": "markdown",
   "id": "dc358b38-ad84-43b5-ad0e-6432d106e39f",
   "metadata": {},
   "source": [
    "## Calzada Jasso Andres Geovani *<span style = \"color : Blue\" > 23265539 </span>*"
   ]
  },
  {
   "cell_type": "markdown",
   "id": "7041bc0a-60d9-44fa-b98e-11586d52db88",
   "metadata": {},
   "source": [
    "### **Practica 4** *<span style = \"color : #E3182E\" >Tarea de clasificación</span>*\n",
    "\n",
    "El hundimiento del Titanic es uno de los naufragios más infames de la historia.\n",
    "\n",
    "El 15 de abril de 1912, durante su viaje inaugural, el RMS Titanic, ampliamente considerado “insumergible”, se hundió después de chocar con un iceberg. Desafortunadamente, no había suficientes botes salvavidas para todos a bordo, lo que provocó la muerte de 1.502 de los 2.224 pasajeros y tripulantes.\n",
    "\n",
    "Si bien hubo algún elemento de suerte involucrado en la supervivencia, parece que algunos grupos de personas tenían más probabilidades de sobrevivir que otros\n",
    "\n",
    "<img src=https://i.blogs.es/4a9cb1/titanic/840_560.jpeg>\n",
    "\n",
    "\n"
   ]
  },
  {
   "cell_type": "code",
   "execution_count": 1,
   "id": "857368a4-209c-450f-904d-f3005b0d8e4e",
   "metadata": {
    "tags": []
   },
   "outputs": [],
   "source": [
    "import pandas as pd\n",
    "import numpy as np\n",
    "import seaborn as sns\n",
    "import matplotlib.pyplot as plt\n",
    "import matplotlib.axes as ax\n",
    "from sklearn.linear_model import LogisticRegression\n",
    "from sklearn.metrics import (confusion_matrix, accuracy_score)\n",
    "import statsmodels.api as sm\n",
    "from sklearn.model_selection import cross_val_predict\n",
    "from sklearn.model_selection import cross_val_score\n",
    "from sklearn.feature_selection import mutual_info_classif\n",
    "import warnings\n",
    "warnings.simplefilter(\"ignore\")\n",
    "from sklearn.datasets import make_circles, make_classification, make_moons\n",
    "from sklearn.discriminant_analysis import QuadraticDiscriminantAnalysis\n",
    "from sklearn.ensemble import AdaBoostClassifier, RandomForestClassifier\n",
    "from sklearn.gaussian_process import GaussianProcessClassifier\n",
    "from sklearn.gaussian_process.kernels import RBF\n",
    "from sklearn.inspection import DecisionBoundaryDisplay\n",
    "from sklearn.model_selection import train_test_split\n",
    "from sklearn.naive_bayes import GaussianNB\n",
    "from sklearn.neighbors import KNeighborsClassifier\n",
    "from sklearn.neural_network import MLPClassifier\n",
    "from sklearn.pipeline import make_pipeline\n",
    "from sklearn.preprocessing import StandardScaler\n",
    "from sklearn.svm import SVC\n",
    "from sklearn import svm\n",
    "\n",
    "from sklearn.tree import DecisionTreeClassifier\n",
    "from sklearn.ensemble import GradientBoostingClassifier\n",
    "from sklearn.ensemble import BaggingClassifier\n",
    "from mlxtend.classifier import StackingCVClassifier\n",
    "from sklearn.ensemble import VotingClassifier"
   ]
  },
  {
   "cell_type": "code",
   "execution_count": 2,
   "id": "c523ef92-855a-4c66-ad14-5e9126314772",
   "metadata": {
    "tags": []
   },
   "outputs": [
    {
     "data": {
      "text/html": [
       "<div>\n",
       "<style scoped>\n",
       "    .dataframe tbody tr th:only-of-type {\n",
       "        vertical-align: middle;\n",
       "    }\n",
       "\n",
       "    .dataframe tbody tr th {\n",
       "        vertical-align: top;\n",
       "    }\n",
       "\n",
       "    .dataframe thead th {\n",
       "        text-align: right;\n",
       "    }\n",
       "</style>\n",
       "<table border=\"1\" class=\"dataframe\">\n",
       "  <thead>\n",
       "    <tr style=\"text-align: right;\">\n",
       "      <th></th>\n",
       "      <th>PassengerId</th>\n",
       "      <th>Survived</th>\n",
       "      <th>Pclass</th>\n",
       "      <th>Name</th>\n",
       "      <th>Sex</th>\n",
       "      <th>Age</th>\n",
       "      <th>SibSp</th>\n",
       "      <th>Parch</th>\n",
       "      <th>Ticket</th>\n",
       "      <th>Fare</th>\n",
       "      <th>...</th>\n",
       "      <th>Embarked</th>\n",
       "      <th>WikiId</th>\n",
       "      <th>Name_wiki</th>\n",
       "      <th>Age_wiki</th>\n",
       "      <th>Hometown</th>\n",
       "      <th>Boarded</th>\n",
       "      <th>Destination</th>\n",
       "      <th>Lifeboat</th>\n",
       "      <th>Body</th>\n",
       "      <th>Class</th>\n",
       "    </tr>\n",
       "  </thead>\n",
       "  <tbody>\n",
       "    <tr>\n",
       "      <th>0</th>\n",
       "      <td>1</td>\n",
       "      <td>0.0</td>\n",
       "      <td>3</td>\n",
       "      <td>Braund, Mr. Owen Harris</td>\n",
       "      <td>male</td>\n",
       "      <td>22.0</td>\n",
       "      <td>1</td>\n",
       "      <td>0</td>\n",
       "      <td>A/5 21171</td>\n",
       "      <td>7.2500</td>\n",
       "      <td>...</td>\n",
       "      <td>S</td>\n",
       "      <td>691.0</td>\n",
       "      <td>Braund, Mr. Owen Harris</td>\n",
       "      <td>22.0</td>\n",
       "      <td>Bridgerule, Devon, England</td>\n",
       "      <td>Southampton</td>\n",
       "      <td>Qu'Appelle Valley, Saskatchewan, Canada</td>\n",
       "      <td>NaN</td>\n",
       "      <td>NaN</td>\n",
       "      <td>3.0</td>\n",
       "    </tr>\n",
       "    <tr>\n",
       "      <th>1</th>\n",
       "      <td>2</td>\n",
       "      <td>1.0</td>\n",
       "      <td>1</td>\n",
       "      <td>Cumings, Mrs. John Bradley (Florence Briggs Th...</td>\n",
       "      <td>female</td>\n",
       "      <td>38.0</td>\n",
       "      <td>1</td>\n",
       "      <td>0</td>\n",
       "      <td>PC 17599</td>\n",
       "      <td>71.2833</td>\n",
       "      <td>...</td>\n",
       "      <td>C</td>\n",
       "      <td>90.0</td>\n",
       "      <td>Cumings, Mrs. Florence Briggs (née Thayer)</td>\n",
       "      <td>35.0</td>\n",
       "      <td>New York, New York, US</td>\n",
       "      <td>Cherbourg</td>\n",
       "      <td>New York, New York, US</td>\n",
       "      <td>4</td>\n",
       "      <td>NaN</td>\n",
       "      <td>1.0</td>\n",
       "    </tr>\n",
       "    <tr>\n",
       "      <th>2</th>\n",
       "      <td>3</td>\n",
       "      <td>1.0</td>\n",
       "      <td>3</td>\n",
       "      <td>Heikkinen, Miss. Laina</td>\n",
       "      <td>female</td>\n",
       "      <td>26.0</td>\n",
       "      <td>0</td>\n",
       "      <td>0</td>\n",
       "      <td>STON/O2. 3101282</td>\n",
       "      <td>7.9250</td>\n",
       "      <td>...</td>\n",
       "      <td>S</td>\n",
       "      <td>865.0</td>\n",
       "      <td>Heikkinen, Miss Laina</td>\n",
       "      <td>26.0</td>\n",
       "      <td>Jyväskylä, Finland</td>\n",
       "      <td>Southampton</td>\n",
       "      <td>New York City</td>\n",
       "      <td>14?</td>\n",
       "      <td>NaN</td>\n",
       "      <td>3.0</td>\n",
       "    </tr>\n",
       "    <tr>\n",
       "      <th>3</th>\n",
       "      <td>4</td>\n",
       "      <td>1.0</td>\n",
       "      <td>1</td>\n",
       "      <td>Futrelle, Mrs. Jacques Heath (Lily May Peel)</td>\n",
       "      <td>female</td>\n",
       "      <td>35.0</td>\n",
       "      <td>1</td>\n",
       "      <td>0</td>\n",
       "      <td>113803</td>\n",
       "      <td>53.1000</td>\n",
       "      <td>...</td>\n",
       "      <td>S</td>\n",
       "      <td>127.0</td>\n",
       "      <td>Futrelle, Mrs. Lily May (née Peel)</td>\n",
       "      <td>35.0</td>\n",
       "      <td>Scituate, Massachusetts, US</td>\n",
       "      <td>Southampton</td>\n",
       "      <td>Scituate, Massachusetts, US</td>\n",
       "      <td>D</td>\n",
       "      <td>NaN</td>\n",
       "      <td>1.0</td>\n",
       "    </tr>\n",
       "    <tr>\n",
       "      <th>4</th>\n",
       "      <td>5</td>\n",
       "      <td>0.0</td>\n",
       "      <td>3</td>\n",
       "      <td>Allen, Mr. William Henry</td>\n",
       "      <td>male</td>\n",
       "      <td>35.0</td>\n",
       "      <td>0</td>\n",
       "      <td>0</td>\n",
       "      <td>373450</td>\n",
       "      <td>8.0500</td>\n",
       "      <td>...</td>\n",
       "      <td>S</td>\n",
       "      <td>627.0</td>\n",
       "      <td>Allen, Mr. William Henry</td>\n",
       "      <td>35.0</td>\n",
       "      <td>Birmingham, West Midlands, England</td>\n",
       "      <td>Southampton</td>\n",
       "      <td>New York City</td>\n",
       "      <td>NaN</td>\n",
       "      <td>NaN</td>\n",
       "      <td>3.0</td>\n",
       "    </tr>\n",
       "  </tbody>\n",
       "</table>\n",
       "<p>5 rows × 21 columns</p>\n",
       "</div>"
      ],
      "text/plain": [
       "   PassengerId  Survived  Pclass  \\\n",
       "0            1       0.0       3   \n",
       "1            2       1.0       1   \n",
       "2            3       1.0       3   \n",
       "3            4       1.0       1   \n",
       "4            5       0.0       3   \n",
       "\n",
       "                                                Name     Sex   Age  SibSp  \\\n",
       "0                            Braund, Mr. Owen Harris    male  22.0      1   \n",
       "1  Cumings, Mrs. John Bradley (Florence Briggs Th...  female  38.0      1   \n",
       "2                             Heikkinen, Miss. Laina  female  26.0      0   \n",
       "3       Futrelle, Mrs. Jacques Heath (Lily May Peel)  female  35.0      1   \n",
       "4                           Allen, Mr. William Henry    male  35.0      0   \n",
       "\n",
       "   Parch            Ticket     Fare  ... Embarked WikiId  \\\n",
       "0      0         A/5 21171   7.2500  ...        S  691.0   \n",
       "1      0          PC 17599  71.2833  ...        C   90.0   \n",
       "2      0  STON/O2. 3101282   7.9250  ...        S  865.0   \n",
       "3      0            113803  53.1000  ...        S  127.0   \n",
       "4      0            373450   8.0500  ...        S  627.0   \n",
       "\n",
       "                                    Name_wiki Age_wiki  \\\n",
       "0                     Braund, Mr. Owen Harris     22.0   \n",
       "1  Cumings, Mrs. Florence Briggs (née Thayer)     35.0   \n",
       "2                       Heikkinen, Miss Laina     26.0   \n",
       "3          Futrelle, Mrs. Lily May (née Peel)     35.0   \n",
       "4                    Allen, Mr. William Henry     35.0   \n",
       "\n",
       "                             Hometown      Boarded  \\\n",
       "0          Bridgerule, Devon, England  Southampton   \n",
       "1              New York, New York, US    Cherbourg   \n",
       "2                  Jyväskylä, Finland  Southampton   \n",
       "3         Scituate, Massachusetts, US  Southampton   \n",
       "4  Birmingham, West Midlands, England  Southampton   \n",
       "\n",
       "                               Destination Lifeboat Body Class  \n",
       "0  Qu'Appelle Valley, Saskatchewan, Canada      NaN  NaN   3.0  \n",
       "1                   New York, New York, US        4  NaN   1.0  \n",
       "2                            New York City      14?  NaN   3.0  \n",
       "3              Scituate, Massachusetts, US        D  NaN   1.0  \n",
       "4                            New York City      NaN  NaN   3.0  \n",
       "\n",
       "[5 rows x 21 columns]"
      ]
     },
     "execution_count": 2,
     "metadata": {},
     "output_type": "execute_result"
    }
   ],
   "source": [
    "#Cargamos nuestro DataSet y se lo asignamos a la variable df\n",
    "df = pd.read_csv('full.csv')\n",
    "df.head()"
   ]
  },
  {
   "cell_type": "markdown",
   "id": "cfe1a8c7-a685-4af5-9b53-a67e170dc37f",
   "metadata": {},
   "source": [
    "Como se puede observar, nuestra varibale de clase en este caso se encuentra en la segunda posicion de nuestro DataFrame, por lo que es necesario acomodarla al final para poder tener una mejor estructura de los datos."
   ]
  },
  {
   "cell_type": "code",
   "execution_count": 3,
   "id": "a6964288-bc5e-4dfe-8bd3-aa66d74c005c",
   "metadata": {
    "tags": []
   },
   "outputs": [
    {
     "name": "stdout",
     "output_type": "stream",
     "text": [
      "<class 'pandas.core.frame.DataFrame'>\n",
      "RangeIndex: 1309 entries, 0 to 1308\n",
      "Data columns (total 21 columns):\n",
      " #   Column       Non-Null Count  Dtype  \n",
      "---  ------       --------------  -----  \n",
      " 0   PassengerId  1309 non-null   int64  \n",
      " 1   Pclass       1309 non-null   int64  \n",
      " 2   Name         1309 non-null   object \n",
      " 3   Sex          1309 non-null   object \n",
      " 4   Age          1046 non-null   float64\n",
      " 5   SibSp        1309 non-null   int64  \n",
      " 6   Parch        1309 non-null   int64  \n",
      " 7   Ticket       1309 non-null   object \n",
      " 8   Fare         1308 non-null   float64\n",
      " 9   Cabin        295 non-null    object \n",
      " 10  Embarked     1307 non-null   object \n",
      " 11  WikiId       1304 non-null   float64\n",
      " 12  Name_wiki    1304 non-null   object \n",
      " 13  Age_wiki     1302 non-null   float64\n",
      " 14  Hometown     1304 non-null   object \n",
      " 15  Boarded      1304 non-null   object \n",
      " 16  Destination  1304 non-null   object \n",
      " 17  Lifeboat     502 non-null    object \n",
      " 18  Body         130 non-null    object \n",
      " 19  Class        1304 non-null   float64\n",
      " 20  Survived     891 non-null    float64\n",
      "dtypes: float64(6), int64(4), object(11)\n",
      "memory usage: 214.9+ KB\n"
     ]
    }
   ],
   "source": [
    "#Vamos a proceder a colocar nuestra clase al final de nuestro DataFrame \n",
    "column = df.pop('Survived')\n",
    "df.insert(20, 'Survived', column)\n",
    "df.info()"
   ]
  },
  {
   "cell_type": "markdown",
   "id": "d0de8b30-fa79-4ecf-9fca-ac668a0d8b0a",
   "metadata": {},
   "source": [
    "Algo que podemos observar es que nuestro DataFrame se encuentra con valores nulos (NAN), por lo que el siguiente paso es eliminar estos valores."
   ]
  },
  {
   "cell_type": "code",
   "execution_count": 4,
   "id": "46fafde2-69fe-4db4-a64f-5e123d00b97f",
   "metadata": {
    "tags": []
   },
   "outputs": [
    {
     "data": {
      "image/png": "[encoded data removed]",
      "text/plain": [
       "<Figure size 640x480 with 2 Axes>"
      ]
     },
     "metadata": {},
     "output_type": "display_data"
    }
   ],
   "source": [
    "sns.heatmap(df.isna());"
   ]
  },
  {
   "cell_type": "code",
   "execution_count": 5,
   "id": "216337d3-2cdd-44a6-8ff8-5761cae2b9e1",
   "metadata": {
    "tags": []
   },
   "outputs": [
    {
     "name": "stdout",
     "output_type": "stream",
     "text": [
      "<class 'pandas.core.frame.DataFrame'>\n",
      "RangeIndex: 1309 entries, 0 to 1308\n",
      "Data columns (total 21 columns):\n",
      " #   Column       Non-Null Count  Dtype  \n",
      "---  ------       --------------  -----  \n",
      " 0   PassengerId  1309 non-null   int64  \n",
      " 1   Pclass       1309 non-null   int64  \n",
      " 2   Name         1309 non-null   object \n",
      " 3   Sex          1309 non-null   object \n",
      " 4   Age          1309 non-null   float64\n",
      " 5   SibSp        1309 non-null   int64  \n",
      " 6   Parch        1309 non-null   int64  \n",
      " 7   Ticket       1309 non-null   object \n",
      " 8   Fare         1309 non-null   float64\n",
      " 9   Cabin        1309 non-null   object \n",
      " 10  Embarked     1309 non-null   object \n",
      " 11  WikiId       1309 non-null   float64\n",
      " 12  Name_wiki    1309 non-null   object \n",
      " 13  Age_wiki     1309 non-null   float64\n",
      " 14  Hometown     1309 non-null   object \n",
      " 15  Boarded      1309 non-null   object \n",
      " 16  Destination  1309 non-null   object \n",
      " 17  Lifeboat     1309 non-null   object \n",
      " 18  Body         1309 non-null   object \n",
      " 19  Class        1309 non-null   float64\n",
      " 20  Survived     1309 non-null   float64\n",
      "dtypes: float64(6), int64(4), object(11)\n",
      "memory usage: 214.9+ KB\n"
     ]
    }
   ],
   "source": [
    "#Eliminamos los datos nulos \n",
    "df = df.fillna(0)\n",
    "\n",
    "#Procedemos a ver la información y conocer si efectivamente se eliminaron estos datos \n",
    "df.info()"
   ]
  },
  {
   "cell_type": "markdown",
   "id": "c93594f4-8721-415e-8c25-7d2414f3f81e",
   "metadata": {},
   "source": [
    "#### **Observación**\n",
    "\n",
    "Una observación con respecto a este DataFrame es que las columnas que contengan nombres en este caso para nosotros no es algo relevante\n",
    "ya que no es un factor para determinar si las personas sobrevivieron o no, por lo que vamos a proceder a eliminarla "
   ]
  },
  {
   "cell_type": "code",
   "execution_count": 6,
   "id": "acc8f814-43a9-417b-a5e3-2f3f4b11664d",
   "metadata": {
    "tags": []
   },
   "outputs": [],
   "source": [
    "#Eliminamos los atributos que tienen menos importancia por medio de la función .drop\n",
    "df = df.drop(['Name', 'Ticket', 'Name_wiki','Hometown', 'Boarded', 'Destination', 'Sex','Cabin','Embarked','Lifeboat','Body'], axis = 1)\n"
   ]
  },
  {
   "cell_type": "code",
   "execution_count": 7,
   "id": "c76ee612-1e4f-4c0a-a9fe-023b865edc57",
   "metadata": {
    "tags": []
   },
   "outputs": [
    {
     "data": {
      "text/html": [
       "<div>\n",
       "<style scoped>\n",
       "    .dataframe tbody tr th:only-of-type {\n",
       "        vertical-align: middle;\n",
       "    }\n",
       "\n",
       "    .dataframe tbody tr th {\n",
       "        vertical-align: top;\n",
       "    }\n",
       "\n",
       "    .dataframe thead th {\n",
       "        text-align: right;\n",
       "    }\n",
       "</style>\n",
       "<table border=\"1\" class=\"dataframe\">\n",
       "  <thead>\n",
       "    <tr style=\"text-align: right;\">\n",
       "      <th></th>\n",
       "      <th>PassengerId</th>\n",
       "      <th>Pclass</th>\n",
       "      <th>Age</th>\n",
       "      <th>SibSp</th>\n",
       "      <th>Parch</th>\n",
       "      <th>Fare</th>\n",
       "      <th>WikiId</th>\n",
       "      <th>Age_wiki</th>\n",
       "      <th>Class</th>\n",
       "      <th>Survived</th>\n",
       "    </tr>\n",
       "  </thead>\n",
       "  <tbody>\n",
       "    <tr>\n",
       "      <th>0</th>\n",
       "      <td>1</td>\n",
       "      <td>3</td>\n",
       "      <td>22.0</td>\n",
       "      <td>1</td>\n",
       "      <td>0</td>\n",
       "      <td>7.2500</td>\n",
       "      <td>691.0</td>\n",
       "      <td>22.0</td>\n",
       "      <td>3.0</td>\n",
       "      <td>0.0</td>\n",
       "    </tr>\n",
       "    <tr>\n",
       "      <th>1</th>\n",
       "      <td>2</td>\n",
       "      <td>1</td>\n",
       "      <td>38.0</td>\n",
       "      <td>1</td>\n",
       "      <td>0</td>\n",
       "      <td>71.2833</td>\n",
       "      <td>90.0</td>\n",
       "      <td>35.0</td>\n",
       "      <td>1.0</td>\n",
       "      <td>1.0</td>\n",
       "    </tr>\n",
       "    <tr>\n",
       "      <th>2</th>\n",
       "      <td>3</td>\n",
       "      <td>3</td>\n",
       "      <td>26.0</td>\n",
       "      <td>0</td>\n",
       "      <td>0</td>\n",
       "      <td>7.9250</td>\n",
       "      <td>865.0</td>\n",
       "      <td>26.0</td>\n",
       "      <td>3.0</td>\n",
       "      <td>1.0</td>\n",
       "    </tr>\n",
       "    <tr>\n",
       "      <th>3</th>\n",
       "      <td>4</td>\n",
       "      <td>1</td>\n",
       "      <td>35.0</td>\n",
       "      <td>1</td>\n",
       "      <td>0</td>\n",
       "      <td>53.1000</td>\n",
       "      <td>127.0</td>\n",
       "      <td>35.0</td>\n",
       "      <td>1.0</td>\n",
       "      <td>1.0</td>\n",
       "    </tr>\n",
       "    <tr>\n",
       "      <th>4</th>\n",
       "      <td>5</td>\n",
       "      <td>3</td>\n",
       "      <td>35.0</td>\n",
       "      <td>0</td>\n",
       "      <td>0</td>\n",
       "      <td>8.0500</td>\n",
       "      <td>627.0</td>\n",
       "      <td>35.0</td>\n",
       "      <td>3.0</td>\n",
       "      <td>0.0</td>\n",
       "    </tr>\n",
       "  </tbody>\n",
       "</table>\n",
       "</div>"
      ],
      "text/plain": [
       "   PassengerId  Pclass   Age  SibSp  Parch     Fare  WikiId  Age_wiki  Class  \\\n",
       "0            1       3  22.0      1      0   7.2500   691.0      22.0    3.0   \n",
       "1            2       1  38.0      1      0  71.2833    90.0      35.0    1.0   \n",
       "2            3       3  26.0      0      0   7.9250   865.0      26.0    3.0   \n",
       "3            4       1  35.0      1      0  53.1000   127.0      35.0    1.0   \n",
       "4            5       3  35.0      0      0   8.0500   627.0      35.0    3.0   \n",
       "\n",
       "   Survived  \n",
       "0       0.0  \n",
       "1       1.0  \n",
       "2       1.0  \n",
       "3       1.0  \n",
       "4       0.0  "
      ]
     },
     "execution_count": 7,
     "metadata": {},
     "output_type": "execute_result"
    }
   ],
   "source": [
    "#Mostramos nuestro DataFrame como tipo encabezado \n",
    "df.head()"
   ]
  },
  {
   "cell_type": "markdown",
   "id": "f27b3731-f3de-4a3e-80f4-cb745611bc98",
   "metadata": {},
   "source": [
    "###### *Asignamos nuestros datos de entrenamiento a la varible X_train y nuestra Variable de clase a y_train*"
   ]
  },
  {
   "cell_type": "code",
   "execution_count": 8,
   "id": "e89c09a6-bd03-466a-b840-ee72bff6661a",
   "metadata": {
    "tags": []
   },
   "outputs": [],
   "source": [
    "X_train = df[['PassengerId', 'Pclass', 'Age', 'SibSp','Parch','Fare','WikiId','Age_wiki','Class']]\n",
    "y_train = df[['Survived']]"
   ]
  },
  {
   "cell_type": "markdown",
   "id": "ea6996c0-4746-4c20-8e9e-1b4ec20bae90",
   "metadata": {},
   "source": [
    "#### **<span style=\"color:Blue\">Primer objetivo</span>.**\n",
    "\n",
    "###### construir y evaluar n modelos de clasificación y comparar"
   ]
  },
  {
   "cell_type": "markdown",
   "id": "72649a88-56db-4033-889a-7fb0d409c66d",
   "metadata": {},
   "source": [
    "#### **<span style=\"color:purple\">Árboles de decisión</span>.**"
   ]
  },
  {
   "cell_type": "code",
   "execution_count": 9,
   "id": "dbce9889-936e-4e2f-8350-e9e19a2992e6",
   "metadata": {
    "tags": []
   },
   "outputs": [],
   "source": [
    "clasificador1 = DecisionTreeClassifier(max_depth=5, random_state=42)"
   ]
  },
  {
   "cell_type": "code",
   "execution_count": 10,
   "id": "17338c13-e00a-420e-83fb-413a700babdb",
   "metadata": {
    "tags": []
   },
   "outputs": [
    {
     "name": "stdout",
     "output_type": "stream",
     "text": [
      "Confusion Matrix : \n",
      " [[642 325]\n",
      " [207 135]]\n",
      "Test accuracy =  0.5935828877005348\n",
      "Sensitivity:  0.39473684210526316\n",
      "Specificity:  0.6639089968976215\n"
     ]
    }
   ],
   "source": [
    "#Realizamos la predicción por medio de la validación cruzada con k=10\n",
    "y_pred = cross_val_predict(clasificador1, X_train, y_train, cv=10)\n",
    "\n",
    "#confusion matrix\n",
    "cm = confusion_matrix(y_train, y_pred) \n",
    "print (\"Confusion Matrix : \\n\", cm) \n",
    "  \n",
    "# accuracy score of the model\n",
    "print('Test accuracy = ', accuracy_score(y_train, y_pred))\n",
    "\n",
    "TN, FP, FN, TP = confusion_matrix(y_train, y_pred, labels=[0, 1]).ravel()\n",
    "\n",
    "# Sensitivity, hit rate, recall, or true positive rate\n",
    "TPR = TP/(TP+FN)\n",
    "# Specificity or true negative rate\n",
    "TNR = TN/(TN+FP) \n",
    "\n",
    "print('Sensitivity: ', TPR)\n",
    "print('Specificity: ', TNR)\n"
   ]
  },
  {
   "cell_type": "markdown",
   "id": "8c7727ef-2a69-45eb-bd7c-2aa9a85f83cf",
   "metadata": {},
   "source": [
    "#### **<span style=\"color:purple\">Naive Bayes</span>.**"
   ]
  },
  {
   "cell_type": "code",
   "execution_count": 11,
   "id": "83c9200c-0356-4b55-9c34-af2d4f410a05",
   "metadata": {
    "tags": []
   },
   "outputs": [],
   "source": [
    "clasificador2 = GaussianNB()"
   ]
  },
  {
   "cell_type": "code",
   "execution_count": 12,
   "id": "96dd2636-1dc5-4365-8702-93e83fd2031e",
   "metadata": {
    "tags": []
   },
   "outputs": [
    {
     "name": "stdout",
     "output_type": "stream",
     "text": [
      "Confusion Matrix : \n",
      " [[804 163]\n",
      " [185 157]]\n",
      "Test accuracy =  0.73414820473644\n",
      "Sensitivity:  0.4590643274853801\n",
      "Specificity:  0.8314374353671148\n"
     ]
    }
   ],
   "source": [
    "#Realizamos la predicción por medio de la validación cruzada con k=10\n",
    "y_pred = cross_val_predict(clasificador2, X_train, y_train, cv=10)\n",
    "\n",
    "cm = confusion_matrix(y_train, y_pred) \n",
    "print (\"Confusion Matrix : \\n\", cm) \n",
    "  \n",
    "# accuracy score of the model\n",
    "print('Test accuracy = ', accuracy_score(y_train, y_pred))\n",
    "\n",
    "TN, FP, FN, TP = confusion_matrix(y_train, y_pred, labels=[0, 1]).ravel()\n",
    "\n",
    "# Sensitivity, hit rate, recall, or true positive rate\n",
    "TPR = TP/(TP+FN)\n",
    "# Specificity or true negative rate\n",
    "TNR = TN/(TN+FP) \n",
    "\n",
    "print('Sensitivity: ', TPR)\n",
    "print('Specificity: ', TNR)\n"
   ]
  },
  {
   "cell_type": "markdown",
   "id": "3fac5b04-740f-4d5f-88bb-fa053a4926a5",
   "metadata": {},
   "source": [
    "#### **<span style=\"color:purple\">kNN</span>.**"
   ]
  },
  {
   "cell_type": "code",
   "execution_count": 13,
   "id": "73f80b6b-8f6e-4ae3-8571-a8df6f850796",
   "metadata": {
    "tags": []
   },
   "outputs": [],
   "source": [
    "clasificador3 = KNeighborsClassifier(3)"
   ]
  },
  {
   "cell_type": "code",
   "execution_count": 14,
   "id": "39e94cbf-28af-4954-a9c9-38f40f09c392",
   "metadata": {
    "tags": []
   },
   "outputs": [
    {
     "name": "stdout",
     "output_type": "stream",
     "text": [
      "Confusion Matrix : \n",
      " [[560 407]\n",
      " [237 105]]\n",
      "Test accuracy =  0.5080213903743316\n",
      "Sensitivity:  0.30701754385964913\n",
      "Specificity:  0.5791106514994829\n"
     ]
    }
   ],
   "source": [
    "#Realizamos la predicción por medio de la validación cruzada con k=10\n",
    "y_pred = cross_val_predict(clasificador3, X_train, y_train, cv=10)\n",
    "cm = confusion_matrix(y_train, y_pred) \n",
    "print (\"Confusion Matrix : \\n\", cm) \n",
    "  \n",
    "# accuracy score of the model\n",
    "print('Test accuracy = ', accuracy_score(y_train, y_pred))\n",
    "\n",
    "TN, FP, FN, TP = confusion_matrix(y_train, y_pred, labels=[0, 1]).ravel()\n",
    "\n",
    "# Sensitivity, hit rate, recall, or true positive rate\n",
    "TPR = TP/(TP+FN)\n",
    "# Specificity or true negative rate\n",
    "TNR = TN/(TN+FP) \n",
    "\n",
    "print('Sensitivity: ', TPR)\n",
    "print('Specificity: ', TNR)\n"
   ]
  },
  {
   "cell_type": "markdown",
   "id": "a67aefb6-106c-406f-973a-3c2d142245ae",
   "metadata": {},
   "source": [
    "#### **<span style=\"color:purple\">SVM</span>.**"
   ]
  },
  {
   "cell_type": "code",
   "execution_count": 15,
   "id": "27bb3a70-32dd-4c19-a390-84f6e65c7ce2",
   "metadata": {},
   "outputs": [],
   "source": [
    "clasificador4 = SVC(kernel=\"linear\", C=0.025, random_state=42)"
   ]
  },
  {
   "cell_type": "code",
   "execution_count": null,
   "id": "2982e6f6-a28e-4665-bb99-0ec76346d907",
   "metadata": {
    "tags": []
   },
   "outputs": [],
   "source": [
    "#Realizamos la predicción por medio de la validación cruzada con k=10\n",
    "y_pred = cross_val_predict(clasificador4, X_train, y_train, cv=10)\n",
    "cm = confusion_matrix(y_train, y_pred) \n",
    "print (\"Confusion Matrix : \\n\", cm) \n",
    "  \n",
    "# accuracy score of the model\n",
    "print('Test accuracy = ', accuracy_score(y_train, y_pred))\n",
    "\n",
    "TN, FP, FN, TP = confusion_matrix(y_train, y_pred, labels=[0, 1]).ravel()\n",
    "\n",
    "# Sensitivity, hit rate, recall, or true positive rate\n",
    "TPR = TP/(TP+FN)\n",
    "# Specificity or true negative rate\n",
    "TNR = TN/(TN+FP) \n",
    "\n",
    "print('Sensitivity: ', TPR)\n",
    "print('Specificity: ', TNR)"
   ]
  },
  {
   "cell_type": "markdown",
   "id": "76bd1112-a82f-44d3-ae81-c70cf8d7a04f",
   "metadata": {},
   "source": [
    "#### **<span style=\"color:purple\">Análisis de Discriminante</span>.**"
   ]
  },
  {
   "cell_type": "code",
   "execution_count": null,
   "id": "00ba387c-e111-452f-bb7b-a8ce40c9a3d5",
   "metadata": {
    "tags": []
   },
   "outputs": [],
   "source": [
    "clasificador5 = QuadraticDiscriminantAnalysis()"
   ]
  },
  {
   "cell_type": "code",
   "execution_count": null,
   "id": "ad7aaf5e-bb1d-495a-9c03-19372dbcebeb",
   "metadata": {
    "tags": []
   },
   "outputs": [],
   "source": [
    "#Realizamos la predicción por medio de la validación cruzada con k=10\n",
    "y_pred = cross_val_predict(clasificador5, X_train, y_train, cv=10)\n",
    "cm = confusion_matrix(y_train, y_pred) \n",
    "print (\"Confusion Matrix : \\n\", cm) \n",
    "  \n",
    "# accuracy score of the model\n",
    "print('Test accuracy = ', accuracy_score(y_train, y_pred))\n",
    "\n",
    "TN, FP, FN, TP = confusion_matrix(y_train, y_pred, labels=[0, 1]).ravel()\n",
    "\n",
    "# Sensitivity, hit rate, recall, or true positive rate\n",
    "TPR = TP/(TP+FN)\n",
    "# Specificity or true negative rate\n",
    "TNR = TN/(TN+FP) \n",
    "\n",
    "print('Sensitivity: ', TPR)\n",
    "print('Specificity: ', TNR)"
   ]
  },
  {
   "cell_type": "markdown",
   "id": "1d357aba-ceb2-4263-8681-5a415a7bdd42",
   "metadata": {},
   "source": [
    "#### **<span style=\"color:purple\">AdaBoost</span>.**"
   ]
  },
  {
   "cell_type": "code",
   "execution_count": null,
   "id": "4737f0a0-1e84-4f0a-95de-31319b9e6e8e",
   "metadata": {
    "tags": []
   },
   "outputs": [],
   "source": [
    " clasificador6 = AdaBoostClassifier(random_state=42)"
   ]
  },
  {
   "cell_type": "code",
   "execution_count": null,
   "id": "bee53517-9013-4097-8c69-ad7385cbef79",
   "metadata": {
    "tags": []
   },
   "outputs": [],
   "source": [
    "#Realizamos la predicción por medio de la validación cruzada con k=10\n",
    "y_pred = cross_val_predict(clasificador6, X_train, y_train, cv=10)\n",
    "cm = confusion_matrix(y_train, y_pred) \n",
    "print (\"Confusion Matrix : \\n\", cm) \n",
    "  \n",
    "# accuracy score of the model\n",
    "print('Test accuracy = ', accuracy_score(y_train, y_pred))\n",
    "\n",
    "TN, FP, FN, TP = confusion_matrix(y_train, y_pred, labels=[0, 1]).ravel()\n",
    "\n",
    "# Sensitivity, hit rate, recall, or true positive rate\n",
    "TPR = TP/(TP+FN)\n",
    "# Specificity or true negative rate\n",
    "TNR = TN/(TN+FP) \n",
    "\n",
    "print('Sensitivity: ', TPR)\n",
    "print('Specificity: ', TNR)"
   ]
  },
  {
   "cell_type": "markdown",
   "id": "812d4d8a-ec05-43bd-a589-2fedd20e5390",
   "metadata": {},
   "source": [
    "#### **<span style=\"color:purple\">RBF SVM</span>.**"
   ]
  },
  {
   "cell_type": "code",
   "execution_count": null,
   "id": "bf503160-c628-4a76-a3a4-74c8648ebd81",
   "metadata": {
    "tags": []
   },
   "outputs": [],
   "source": [
    "clasificador7 = SVC(gamma=2, C=1, random_state=42)"
   ]
  },
  {
   "cell_type": "code",
   "execution_count": null,
   "id": "b6069985-24c3-45f3-9623-18b0756a4afc",
   "metadata": {
    "tags": []
   },
   "outputs": [],
   "source": [
    "#Realizamos la predicción por medio de la validación cruzada con k=10\n",
    "y_pred = cross_val_predict(clasificador7, X_train, y_train, cv=10)\n",
    "cm = confusion_matrix(y_train, y_pred) \n",
    "print (\"Confusion Matrix : \\n\", cm) \n",
    "  \n",
    "# accuracy score of the model\n",
    "print('Test accuracy = ', accuracy_score(y_train, y_pred))\n",
    "\n",
    "TN, FP, FN, TP = confusion_matrix(y_train, y_pred, labels=[0, 1]).ravel()\n",
    "\n",
    "# Sensitivity, hit rate, recall, or true positive rate\n",
    "TPR = TP/(TP+FN)\n",
    "# Specificity or true negative rate\n",
    "TNR = TN/(TN+FP) \n",
    "\n",
    "print('Sensitivity: ', TPR)\n",
    "print('Specificity: ', TNR)"
   ]
  },
  {
   "cell_type": "markdown",
   "id": "0993bbfc-1f36-4015-886f-0328f04b7734",
   "metadata": {},
   "source": [
    "#### **<span style=\"color:purple\">Random Forest</span>.**"
   ]
  },
  {
   "cell_type": "code",
   "execution_count": null,
   "id": "31798ef6-e3c2-4da4-9175-933543ea6a37",
   "metadata": {
    "tags": []
   },
   "outputs": [],
   "source": [
    "clasificador8 = RandomForestClassifier(max_depth=5, n_estimators=10, max_features=1, random_state=42)"
   ]
  },
  {
   "cell_type": "code",
   "execution_count": null,
   "id": "e5e78d52-81a7-4a89-b834-978af747751a",
   "metadata": {
    "tags": []
   },
   "outputs": [],
   "source": [
    "#Realizamos la predicción por medio de la validación cruzada con k=10\n",
    "y_pred = cross_val_predict(clasificador8, X_train, y_train, cv=10)\n",
    "cm = confusion_matrix(y_train, y_pred) \n",
    "print (\"Confusion Matrix : \\n\", cm) \n",
    "  \n",
    "# accuracy score of the model\n",
    "print('Test accuracy = ', accuracy_score(y_train, y_pred))\n",
    "\n",
    "TN, FP, FN, TP = confusion_matrix(y_train, y_pred, labels=[0, 1]).ravel()\n",
    "\n",
    "# Sensitivity, hit rate, recall, or true positive rate\n",
    "TPR = TP/(TP+FN)\n",
    "# Specificity or true negative rate\n",
    "TNR = TN/(TN+FP) \n",
    "\n",
    "print('Sensitivity: ', TPR)\n",
    "print('Specificity: ', TNR)"
   ]
  },
  {
   "cell_type": "markdown",
   "id": "0b3f3a9e-8712-4ae1-b14b-73492406b359",
   "metadata": {},
   "source": [
    "#### **<span style=\"color:purple\">Neural Net</span>.**"
   ]
  },
  {
   "cell_type": "code",
   "execution_count": null,
   "id": "54f599ee-ac37-4160-8a0d-ae51cc004df8",
   "metadata": {
    "tags": []
   },
   "outputs": [],
   "source": [
    "clasificador9 = MLPClassifier(alpha=1, max_iter=1000, random_state=42)"
   ]
  },
  {
   "cell_type": "code",
   "execution_count": null,
   "id": "b25ef614-2fc8-45fd-b413-448b81ca5948",
   "metadata": {
    "tags": []
   },
   "outputs": [],
   "source": [
    "#Realizamos la predicción por medio de la validación cruzada con k=10\n",
    "y_pred = cross_val_predict(clasificador9, X_train, y_train, cv=10)\n",
    "cm = confusion_matrix(y_train, y_pred) \n",
    "print (\"Confusion Matrix : \\n\", cm) \n",
    "  \n",
    "# accuracy score of the model\n",
    "print('Test accuracy = ', accuracy_score(y_train, y_pred))\n",
    "\n",
    "TN, FP, FN, TP = confusion_matrix(y_train, y_pred, labels=[0, 1]).ravel()\n",
    "\n",
    "# Sensitivity, hit rate, recall, or true positive rate\n",
    "TPR = TP/(TP+FN)\n",
    "# Specificity or true negative rate\n",
    "TNR = TN/(TN+FP) \n",
    "\n",
    "print('Sensitivity: ', TPR)\n",
    "print('Specificity: ', TNR)"
   ]
  },
  {
   "cell_type": "markdown",
   "id": "32e9859a-7826-4db1-bb1a-ea22622110fa",
   "metadata": {},
   "source": [
    "#### **<span style=\"color:purple\">Gaussian Process</span>.**"
   ]
  },
  {
   "cell_type": "code",
   "execution_count": null,
   "id": "4203b801-f8f6-4d49-af98-48eef902b820",
   "metadata": {
    "tags": []
   },
   "outputs": [],
   "source": [
    "clasificador10 = GaussianProcessClassifier(1.0 * RBF(1.0), random_state=42)"
   ]
  },
  {
   "cell_type": "code",
   "execution_count": null,
   "id": "80843192-13b1-4e95-949b-9a557bc88aca",
   "metadata": {
    "tags": []
   },
   "outputs": [],
   "source": [
    "#Realizamos la predicción por medio de la validación cruzada con k=10\n",
    "y_pred = cross_val_predict(clasificador10, X_train, y_train, cv=10)\n",
    "cm = confusion_matrix(y_train, y_pred) \n",
    "print (\"Confusion Matrix : \\n\", cm) \n",
    "  \n",
    "# accuracy score of the model\n",
    "print('Test accuracy = ', accuracy_score(y_train, y_pred))\n",
    "\n",
    "TN, FP, FN, TP = confusion_matrix(y_train, y_pred, labels=[0, 1]).ravel()\n",
    "\n",
    "# Sensitivity, hit rate, recall, or true positive rate\n",
    "TPR = TP/(TP+FN)\n",
    "# Specificity or true negative rate\n",
    "TNR = TN/(TN+FP) \n",
    "\n",
    "print('Sensitivity: ', TPR)\n",
    "print('Specificity: ', TNR)"
   ]
  },
  {
   "cell_type": "markdown",
   "id": "7545fe6b-e98b-4d81-ac06-0ddf34662133",
   "metadata": {},
   "source": [
    "#### **<span style=\"color:orange\">Resultados de los clasificadores</span>.**\n",
    "\n",
    "La siguiente tabla nos muestra el resultado de evaluar los 10 clasificadores de nuestro DataFrame con los datos originales, como podemos observar los resultados no son muy favorables, pero de los clasificadores probados en este código el que nos proporciona un mejor resultado es RandomForest (resaltado con color azul).\n",
    "\n",
    "Por lo que para sa sunfa parte usaremos RandomForest junto con reducción de dimensionalidad para observar si existen cambios favorables.\n",
    "\n",
    "\n",
    "| Clasificador | Accuracy | Sensitivity |Specificity|\n",
    "|----------|----------|----------|--------|\n",
    "| Árbol de desición    | 0.59   | 0.39   | 0.66   |\n",
    "| Naive Bayes   | 0.73   | 0.45   | 0.83  |\n",
    "| KNN    | 0.50   | 0.30   | 0.57  |\n",
    "|SVM     | 0.72 | 0.23 | 0.89|\n",
    "|Análisis de discriminante | 0.75 | 0.37 | 0.88 |\n",
    "| AdaBoost | 0.44 | 0.29 | 0.49| \n",
    "| RBF SVM | 0.73 | 0.0| 1.0|\n",
    "|[Random Forest](dot.com)  | [0.76](dot.com) | [0.26](dot.com) | [0.94](dot.com)|\n",
    "| Neural Net| 0.68| 0.33| 0.81|\n",
    "|Gaussian Process| 0.64| 0.07| 0.84|"
   ]
  },
  {
   "cell_type": "markdown",
   "id": "4db2614b-1ed4-494f-8867-32014467d56c",
   "metadata": {},
   "source": [
    "# **<span style=\"color:Red\">Comparamos contra MetaApredizaje</span>.**\n",
    "\n",
    "\n",
    "###### Una vez que seleccionamos nuestros clasificadores en los que obtuvimos mejores resultados previos los cuales fueron \n",
    "\n",
    "|Clasificador | Accuracy | Sensitivity |Specificity|\n",
    "|----------|----------|----------|--------|\n",
    "| Naive Bayes   | 0.73   | 0.45   | 0.83  |\n",
    "|SVM     | 0.72 | 0.23 | 0.89|\n",
    "|Random Forest| 0.76 | 0.26 | 0.94|\n",
    "\n",
    "###### Dados estos resultados, los tomaremos como punto de comparación cuando realicemos Meta Aprendizaje con nuestro DataSet "
   ]
  },
  {
   "cell_type": "markdown",
   "id": "74cab568-5e7a-4c4d-bf69-761f4634c832",
   "metadata": {
    "tags": []
   },
   "source": [
    "###### Imprimimos nuestro DataSet procesado "
   ]
  },
  {
   "cell_type": "code",
   "execution_count": null,
   "id": "1e4565e6-e978-4cb2-9285-a78ba0af2c91",
   "metadata": {
    "tags": []
   },
   "outputs": [],
   "source": [
    "df.head()"
   ]
  },
  {
   "cell_type": "markdown",
   "id": "26a8d5b5-a307-483b-a546-f9c0ecfda7e4",
   "metadata": {},
   "source": [
    "De este DataSet vamos a proceder a separar nuestra clase y nuestro conjunto de entrenamiento. Así también vamos a proceder a mostrar para corroborar cuales son los atributos que estan en ellos."
   ]
  },
  {
   "cell_type": "code",
   "execution_count": null,
   "id": "785f1189-de53-438c-9b87-144d8e70b200",
   "metadata": {
    "tags": []
   },
   "outputs": [],
   "source": [
    "X = df.iloc[:, 0:-1]\n",
    "y = df.iloc[:, -1]\n",
    "\n",
    "X.head()"
   ]
  },
  {
   "cell_type": "code",
   "execution_count": null,
   "id": "cb2cd898-32dd-484a-a73d-deacf514a4fc",
   "metadata": {
    "tags": []
   },
   "outputs": [],
   "source": [
    "y.head()"
   ]
  },
  {
   "cell_type": "markdown",
   "id": "6fc09a24-7f3a-48e7-a731-6f5ee994a06b",
   "metadata": {},
   "source": [
    "Una vez que nuestros datos estan separados y listos para ser trabajados se realizará un escalado para que úeda ser ejecutado en los modelos "
   ]
  },
  {
   "cell_type": "code",
   "execution_count": null,
   "id": "bcbdbffa-67f7-45a1-95f7-817be202133d",
   "metadata": {
    "tags": []
   },
   "outputs": [],
   "source": [
    "from sklearn import preprocessing\n",
    "X = preprocessing.StandardScaler().fit(X).transform(X)"
   ]
  },
  {
   "cell_type": "markdown",
   "id": "c2bd5199-b7c7-406c-b447-08452e496711",
   "metadata": {},
   "source": [
    "#### Una vez que se realiza esta parte vamos a realizar un <span style=\"color:Blue\">Modelo Base</span> con el cual vamos a comparar nuestros resultados. \n",
    "#### Para esto vamos a hacer uso de nuestro método de validación por medio de la funcion \"StratifiedShuffleSplit\".\n",
    "#### Así también ahora nuestros resultados lo vamos a presentar por medio de f1_score"
   ]
  },
  {
   "cell_type": "code",
   "execution_count": null,
   "id": "ddf5d8bc-821f-4f7f-ab2a-94ee53b04fc6",
   "metadata": {
    "tags": []
   },
   "outputs": [],
   "source": [
    "#Método de validación\n",
    "from sklearn.model_selection import StratifiedShuffleSplit\n",
    "\n",
    "from sklearn.metrics import f1_score #Conocer la precisión de nuestros modelos \n",
    "\n",
    "from numpy import mean #Conocer la media o promedio de los 5 conjuntos "
   ]
  },
  {
   "cell_type": "markdown",
   "id": "5c1dd05e-11e6-4f23-923e-f7eef5c0d2bf",
   "metadata": {},
   "source": [
    "###### Vamos a proceder a dividir los datos en 5 conjuntos de los cuales vamos a tomar el 20 porciento para la prueba y vamos a elegir que este modelo sea determinista."
   ]
  },
  {
   "cell_type": "code",
   "execution_count": null,
   "id": "1c9a9193-4326-4876-af00-23bb2e46169f",
   "metadata": {
    "tags": []
   },
   "outputs": [],
   "source": [
    "sss = StratifiedShuffleSplit(n_splits=5, test_size=0.2, random_state=0)"
   ]
  },
  {
   "cell_type": "markdown",
   "id": "3fb756ad-1e1d-470e-a774-0525c59f792d",
   "metadata": {},
   "source": [
    "###### Una vez elegido nuestro modelo determinista vamos a proceder a realizar nuestro clasificador Naive Bayes para determinar nuestro modelo base"
   ]
  },
  {
   "cell_type": "code",
   "execution_count": null,
   "id": "d3dbd326-d936-4848-8401-1cfd2a5a7925",
   "metadata": {
    "tags": []
   },
   "outputs": [],
   "source": [
    "clf_nb = GaussianNB()\n",
    "scores = []\n",
    "\n",
    "for train_index, test_index in sss.split(X, y):\n",
    "    X_train, X_test = X[train_index], X[test_index]\n",
    "    y_train, y_test = y[train_index], y[test_index]\n",
    "    clf_nb.fit(X_train, y_train)\n",
    "    y_pred = clf_nb.predict(X_test)\n",
    "    scores.append(f1_score(y_test, y_pred, average='weighted'))\n",
    "\n",
    "print(scores)\n",
    "print(mean(scores))"
   ]
  },
  {
   "cell_type": "code",
   "execution_count": null,
   "id": "cc1a2394-eea9-4000-917a-7a44c75056c8",
   "metadata": {
    "tags": []
   },
   "outputs": [],
   "source": [
    "clf_ddt = DecisionTreeClassifier()\n",
    "scores = []\n",
    "\n",
    "for train_index, test_index in sss.split(X, y):\n",
    "    X_train, X_test = X[train_index], X[test_index]\n",
    "    y_train, y_test = y[train_index], y[test_index]\n",
    "    clf_ddt.fit(X_train, y_train)\n",
    "    y_pred = clf_ddt.predict(X_test)\n",
    "    scores.append(f1_score(y_test, y_pred, average='weighted'))\n",
    "\n",
    "print(scores)\n",
    "print(mean(scores))"
   ]
  },
  {
   "cell_type": "markdown",
   "id": "02be9a3c-50b9-4434-ad4f-9a76bbd0d4af",
   "metadata": {},
   "source": [
    "###### En este caso podemos observar que para Naive Bayes la precisión es de 0.74 y para Árboles de Desición es de 0.74 por lo que tenemos que tratar de ganarle a Naive Bayes así como árboles de desición, <span style=\"color:Blue\">sino el profe nos regaña</span>.\n",
    "\n",
    "###### Para esta práctica vamos a ocupar los siguientes meta-modelos\n",
    "\n",
    "1. Random Forest\n",
    "2. Adaboost\n",
    "3. Boosting\n",
    "4. Baging\n",
    "5. Stacking\n",
    "6. Voting\n",
    "\n",
    "###### De estos modelos se elegira el mejor para la segunda parte de la práctica "
   ]
  },
  {
   "cell_type": "markdown",
   "id": "2a1ee323-8781-4f25-878b-a27781b5aed3",
   "metadata": {},
   "source": [
    "#### <span style=\"color:yellow\">Random Forest</span>"
   ]
  },
  {
   "cell_type": "code",
   "execution_count": null,
   "id": "0570ea73-583f-44e7-9e62-b55d9bdd336e",
   "metadata": {
    "tags": []
   },
   "outputs": [],
   "source": [
    "clf_rf = RandomForestClassifier(n_estimators=10, random_state=0)\n",
    "scores = []\n",
    "\n",
    "for train_index, test_index in sss.split(X, y):\n",
    "    X_train, X_test = X[train_index], X[test_index]\n",
    "    y_train, y_test = y[train_index], y[test_index]\n",
    "    clf_rf.fit(X_train, y_train)\n",
    "    y_pred = clf_rf.predict(X_test)\n",
    "    scores.append(f1_score(y_test, y_pred, average='weighted'))\n",
    "\n",
    "print(scores)\n",
    "print(mean(scores))"
   ]
  },
  {
   "cell_type": "markdown",
   "id": "3dd012d1-868b-4e8e-a7d0-f9a608fd0563",
   "metadata": {},
   "source": [
    "#### <span style=\"color:yellow\">Adaboost</span>"
   ]
  },
  {
   "cell_type": "code",
   "execution_count": null,
   "id": "d76a89ae-0fdd-45b9-8e74-acf04636e015",
   "metadata": {
    "tags": []
   },
   "outputs": [],
   "source": [
    "clf_ab = AdaBoostClassifier(n_estimators=5, random_state=0)\n",
    "scores = []\n",
    "\n",
    "for train_index, test_index in sss.split(X, y):\n",
    "    X_train, X_test = X[train_index], X[test_index]\n",
    "    y_train, y_test = y[train_index], y[test_index]\n",
    "    clf_ab.fit(X_train, y_train)\n",
    "    y_pred = clf_ab.predict(X_test)\n",
    "    scores.append(f1_score(y_test, y_pred, average='weighted'))\n",
    "\n",
    "print(scores)\n",
    "print(mean(scores))"
   ]
  },
  {
   "cell_type": "markdown",
   "id": "afded5d0-e2d0-4e33-8dbb-8abfe3ed4ca5",
   "metadata": {},
   "source": [
    "#### <span style=\"color:yellow\">Boosting</span>"
   ]
  },
  {
   "cell_type": "code",
   "execution_count": null,
   "id": "2107c80c-28fe-4d54-bc95-e11a4a048b69",
   "metadata": {
    "tags": []
   },
   "outputs": [],
   "source": [
    "clf = GradientBoostingClassifier(n_estimators=10) #n_estimadores es la cantidad de los clasificadores, en este caso son 3, pero es mejor clasificarlos \n",
    "scores = cross_val_score(clf, X, y, cv=10) #No se le dice cuales son los clasificadores base \n",
    "print(scores)\n",
    "print(scores.mean())"
   ]
  },
  {
   "cell_type": "markdown",
   "id": "4561d7d0-715d-4628-abcb-feaa56885597",
   "metadata": {},
   "source": [
    "#### <span style=\"color:yellow\">Baging</span>"
   ]
  },
  {
   "cell_type": "code",
   "execution_count": null,
   "id": "e9258269-387f-4e5e-96c2-551b43129de7",
   "metadata": {
    "tags": []
   },
   "outputs": [],
   "source": [
    "clf = BaggingClassifier(n_estimators=10)\n",
    "scores = cross_val_score(clf, X, y, cv=10)\n",
    "print(scores)\n",
    "print(scores.mean())"
   ]
  },
  {
   "cell_type": "markdown",
   "id": "f05ad748-063b-4761-82fd-39c0ace23e23",
   "metadata": {},
   "source": [
    "#### <span style=\"color:yellow\">Voting</span>"
   ]
  },
  {
   "cell_type": "code",
   "execution_count": null,
   "id": "ffc61088-4cf9-4037-a899-a3e47d3de749",
   "metadata": {
    "tags": []
   },
   "outputs": [],
   "source": [
    "clf1 = DecisionTreeClassifier()\n",
    "clf2 = GaussianNB()\n",
    "clf3 = KNeighborsClassifier(n_neighbors=3)\n",
    "clf4 = svm.SVC()"
   ]
  },
  {
   "cell_type": "code",
   "execution_count": null,
   "id": "fbdc945b-4abb-40cb-9d36-ddcb85b7e8ad",
   "metadata": {
    "tags": []
   },
   "outputs": [],
   "source": [
    "eclf = VotingClassifier(\n",
    "     estimators=[('dt', clf1), ('nb', clf2), ('kNN', clf3), ('svm', clf4)],\n",
    "     voting='hard')"
   ]
  },
  {
   "cell_type": "code",
   "execution_count": null,
   "id": "f1e6bc23-192f-4ac5-97d0-d533d844010b",
   "metadata": {
    "tags": []
   },
   "outputs": [],
   "source": [
    "for clf, label in zip([clf1, clf2, clf3, clf4, eclf], ['dt', 'nb', 'kNN', 'svm', 'Ensemble']):\n",
    "    scores = cross_val_score(clf, X, y, scoring='accuracy', cv=10)\n",
    "    print(\"Accuracy: %0.2f (+/- %0.2f) [%s]\" % (scores.mean(), scores.std(), label))"
   ]
  },
  {
   "cell_type": "markdown",
   "id": "91547add-8485-4c94-8afb-597596b2546b",
   "metadata": {},
   "source": [
    "### <span style=\"color:Orange\">Resultados</span>\n",
    "\n",
    "Los resultados obtenidos con los 5 meta-modelos son lo que se muestra a continuación.\n",
    "\n",
    "|Meta-Modelos | Precision|\n",
    "|------------|----------|\n",
    "| Random Forest   | 0.78   |\n",
    "|Adaboost     | 0.76 |\n",
    "|Boosting | 0.63 |\n",
    "|Baging | 0.53 |\n",
    "|Voting | 0.77 | \n",
    "\n",
    "De los cuales podemos observar que a los Meta-Modelos que mejor les fue son los siguientes:\n",
    "\n",
    "1. Random Forest \n",
    "2. Adaboost\n",
    "3. Votign \n",
    "\n",
    "Para segunda parte, vamos a usar estos tres Meta-Modelos y vamos a modificar los parametros de cada función para saber si podemos mejorar el Meta-Modelo.\n",
    "\n"
   ]
  },
  {
   "cell_type": "markdown",
   "id": "e4d5bef8-0f15-4949-952a-886b5f5ee9cd",
   "metadata": {},
   "source": [
    "#### <span style=\"color:yellow\">Random Forest</span>"
   ]
  },
  {
   "cell_type": "markdown",
   "id": "e9b51fa0-fae3-4b1d-9ea2-ca9337d26f47",
   "metadata": {},
   "source": [
    "Usamos Random Forest con el numero de estimadores n=10"
   ]
  },
  {
   "cell_type": "code",
   "execution_count": null,
   "id": "25ffe83a-aaff-4dcd-a5ed-dd5daf85ecc2",
   "metadata": {
    "tags": []
   },
   "outputs": [],
   "source": [
    "clf_rf = RandomForestClassifier(n_estimators=10, random_state=0)\n",
    "scores = []\n",
    "\n",
    "for train_index, test_index in sss.split(X, y):\n",
    "    X_train, X_test = X[train_index], X[test_index]\n",
    "    y_train, y_test = y[train_index], y[test_index]\n",
    "    clf_rf.fit(X_train, y_train)\n",
    "    y_pred = clf_rf.predict(X_test)\n",
    "    scores.append(f1_score(y_test, y_pred, average='weighted'))\n",
    "\n",
    "print(scores)\n",
    "print(mean(scores))"
   ]
  },
  {
   "cell_type": "markdown",
   "id": "eb6d94e8-b84d-4ea5-b943-bde3b45bebdb",
   "metadata": {},
   "source": [
    "Usamos Random Forest con el numero de estimadores n=50"
   ]
  },
  {
   "cell_type": "code",
   "execution_count": null,
   "id": "c8596ec7-9e54-48ae-9802-06b4c964f8d7",
   "metadata": {
    "tags": []
   },
   "outputs": [],
   "source": [
    "clf_rf = RandomForestClassifier(n_estimators=50, random_state=0)\n",
    "scores = []\n",
    "\n",
    "for train_index, test_index in sss.split(X, y):\n",
    "    X_train, X_test = X[train_index], X[test_index]\n",
    "    y_train, y_test = y[train_index], y[test_index]\n",
    "    clf_rf.fit(X_train, y_train)\n",
    "    y_pred = clf_rf.predict(X_test)\n",
    "    scores.append(f1_score(y_test, y_pred, average='weighted'))\n",
    "\n",
    "print(scores)\n",
    "print(mean(scores))"
   ]
  },
  {
   "cell_type": "markdown",
   "id": "ecbad742-6fe0-4ecd-88ac-db7a8cc68972",
   "metadata": {},
   "source": [
    "Usamos Random Forest con el numero de estimadores n=100"
   ]
  },
  {
   "cell_type": "code",
   "execution_count": null,
   "id": "b967c5cc-5ecb-4f64-bd8d-d8f3d7de9ed4",
   "metadata": {
    "tags": []
   },
   "outputs": [],
   "source": [
    "clf_rf = RandomForestClassifier(n_estimators=100, random_state=0)\n",
    "scores = []\n",
    "\n",
    "for train_index, test_index in sss.split(X, y):\n",
    "    X_train, X_test = X[train_index], X[test_index]\n",
    "    y_train, y_test = y[train_index], y[test_index]\n",
    "    clf_rf.fit(X_train, y_train)\n",
    "    y_pred = clf_rf.predict(X_test)\n",
    "    scores.append(f1_score(y_test, y_pred, average='weighted'))\n",
    "\n",
    "print(scores)\n",
    "print(mean(scores))"
   ]
  },
  {
   "cell_type": "markdown",
   "id": "2c889674-b3ad-4f4e-87b3-6b1f0650d91f",
   "metadata": {},
   "source": [
    "Usamos Random Forest con el numero de estimadores n=500"
   ]
  },
  {
   "cell_type": "code",
   "execution_count": null,
   "id": "1f7adf81-ff23-41ac-8af8-c9cd18c0689a",
   "metadata": {
    "tags": []
   },
   "outputs": [],
   "source": [
    "clf_rf = RandomForestClassifier(n_estimators=500, random_state=0)\n",
    "scores = []\n",
    "\n",
    "for train_index, test_index in sss.split(X, y):\n",
    "    X_train, X_test = X[train_index], X[test_index]\n",
    "    y_train, y_test = y[train_index], y[test_index]\n",
    "    clf_rf.fit(X_train, y_train)\n",
    "    y_pred = clf_rf.predict(X_test)\n",
    "    scores.append(f1_score(y_test, y_pred, average='weighted'))\n",
    "\n",
    "print(scores)\n",
    "print(mean(scores))"
   ]
  },
  {
   "cell_type": "markdown",
   "id": "a25ecb33-0b24-4f1b-a3cd-a31e2637cd6c",
   "metadata": {},
   "source": [
    "#### <span style=\"color:Orange\">Resultados con Random Forest</span>\n",
    "\n",
    "\n",
    "|Meta-Modelo | Número de estimadores| Precisión|\n",
    "|------------|---------------------|----------|\n",
    "| Random Forest   | 10|0.78   |\n",
    "| Random Forest | 50| 0.80|\n",
    "| Random Forest | 100| 0.81|\n",
    "| Random Forest | 500| 0.81|\n",
    "\n",
    "De la tabla anterior podemos observar que al modificar el valor del número de estimadores en RandomForest podemos notar que nuestra precisión mejoró, ya que nuestros modelos base los cuales eran Naive Bayes y Árboles de desición ambos con un valor de precisión de 0.74. Por lo que podemos concluir que si pudimos mejorar la precisión del Meta-Modelo"
   ]
  },
  {
   "cell_type": "markdown",
   "id": "a3b0e287-085b-4236-a4b2-186d87f24517",
   "metadata": {
    "tags": []
   },
   "source": [
    "#### <span style=\"color:yellow\">Adaboost</span>"
   ]
  },
  {
   "cell_type": "markdown",
   "id": "309d7935-43d4-4f41-b8fc-192d5f96b27d",
   "metadata": {},
   "source": [
    "Usamos Adaboost con el numero de estimadores n=5"
   ]
  },
  {
   "cell_type": "code",
   "execution_count": null,
   "id": "1c61e19d-a359-42bb-866b-29e4f6a36178",
   "metadata": {
    "tags": []
   },
   "outputs": [],
   "source": [
    "clf_ab = AdaBoostClassifier(n_estimators=5, random_state=0)\n",
    "scores = []\n",
    "\n",
    "for train_index, test_index in sss.split(X, y):\n",
    "    X_train, X_test = X[train_index], X[test_index]\n",
    "    y_train, y_test = y[train_index], y[test_index]\n",
    "    clf_ab.fit(X_train, y_train)\n",
    "    y_pred = clf_ab.predict(X_test)\n",
    "    scores.append(f1_score(y_test, y_pred, average='weighted'))\n",
    "\n",
    "print(scores)\n",
    "print(mean(scores))"
   ]
  },
  {
   "cell_type": "markdown",
   "id": "4e66b76d-8b4b-4c46-81c4-a74721113340",
   "metadata": {},
   "source": [
    "Usamos Adaboost con el numero de estimadores n=10"
   ]
  },
  {
   "cell_type": "code",
   "execution_count": null,
   "id": "3979d131-54ac-44d8-a00d-146b8671b976",
   "metadata": {
    "tags": []
   },
   "outputs": [],
   "source": [
    "clf_ab = AdaBoostClassifier(n_estimators=10, random_state=0)\n",
    "scores = []\n",
    "\n",
    "for train_index, test_index in sss.split(X, y):\n",
    "    X_train, X_test = X[train_index], X[test_index]\n",
    "    y_train, y_test = y[train_index], y[test_index]\n",
    "    clf_ab.fit(X_train, y_train)\n",
    "    y_pred = clf_ab.predict(X_test)\n",
    "    scores.append(f1_score(y_test, y_pred, average='weighted'))\n",
    "\n",
    "print(scores)\n",
    "print(mean(scores))"
   ]
  },
  {
   "cell_type": "markdown",
   "id": "d6b0379b-d046-446a-98ad-268d7d942dab",
   "metadata": {},
   "source": [
    "Usamos Adaboost con el numero de estimadores n=20"
   ]
  },
  {
   "cell_type": "code",
   "execution_count": null,
   "id": "0091aa0e-3260-4177-86db-c453f4ad9aa8",
   "metadata": {
    "tags": []
   },
   "outputs": [],
   "source": [
    "clf_ab = AdaBoostClassifier(n_estimators=20, random_state=0)\n",
    "scores = []\n",
    "\n",
    "for train_index, test_index in sss.split(X, y):\n",
    "    X_train, X_test = X[train_index], X[test_index]\n",
    "    y_train, y_test = y[train_index], y[test_index]\n",
    "    clf_ab.fit(X_train, y_train)\n",
    "    y_pred = clf_ab.predict(X_test)\n",
    "    scores.append(f1_score(y_test, y_pred, average='weighted'))\n",
    "\n",
    "print(scores)\n",
    "print(mean(scores))"
   ]
  },
  {
   "cell_type": "markdown",
   "id": "87b371cf-8ca3-4991-ac0e-8ee48682430b",
   "metadata": {},
   "source": [
    "Usamos Adaboost con el numero de estimadores n=5"
   ]
  },
  {
   "cell_type": "code",
   "execution_count": null,
   "id": "b358e4f6-ebcf-4a6d-ad1e-9399424def1d",
   "metadata": {
    "tags": []
   },
   "outputs": [],
   "source": [
    "clf_ab = AdaBoostClassifier(n_estimators=50, random_state=0)\n",
    "scores = []\n",
    "\n",
    "for train_index, test_index in sss.split(X, y):\n",
    "    X_train, X_test = X[train_index], X[test_index]\n",
    "    y_train, y_test = y[train_index], y[test_index]\n",
    "    clf_ab.fit(X_train, y_train)\n",
    "    y_pred = clf_ab.predict(X_test)\n",
    "    scores.append(f1_score(y_test, y_pred, average='weighted'))\n",
    "\n",
    "print(scores)\n",
    "print(mean(scores))"
   ]
  },
  {
   "cell_type": "markdown",
   "id": "76ac0c16-48a6-46da-a272-3a8a08e921c2",
   "metadata": {},
   "source": [
    "#### <span style=\"color:Orange\">Resultados con Adaboost</span>\n",
    "\n",
    "\n",
    "|Meta-Modelo | Número de estimadores| Precisión|\n",
    "|------------|---------------------|----------|\n",
    "| Adaboost   | 5|0.76|\n",
    "| Adaboost | 10| 0.77|\n",
    "| Adaboost | 20| 0.79|\n",
    "| Adaboost | 50| 0.79|\n",
    "\n",
    "De la tabla anterior podemos observar que al modificar el valor del número de estimadores en Voting podemos notar que nuestra precisión mejoró, ya que nuestros modelos base los cuales eran Naive Bayes y Árboles de desición ambos con un valor de precisión de 0.74. Por lo que podemos concluir que si pudimos mejorar la precisión del Meta-Modelo. Aunque no mejorará con respecto a RandomForest podemos notar que si mejoramos con respecto a nuestro modelos base."
   ]
  },
  {
   "cell_type": "markdown",
   "id": "b2818b96-14ea-4d4d-9b4b-5b2c719a3179",
   "metadata": {},
   "source": [
    "#### <span style=\"color:yellow\">Voting</span>"
   ]
  },
  {
   "cell_type": "markdown",
   "id": "f7d70929-1a4f-47ff-926c-94e0ce1d7dd7",
   "metadata": {},
   "source": [
    "Usamos Voting con los clasificadores \n",
    "\n",
    "1. Árboles de desición\n",
    "2. Naive Bayes\n",
    "3. KNN\n",
    "4. SVM"
   ]
  },
  {
   "cell_type": "code",
   "execution_count": null,
   "id": "f3fd5d2e-4d0b-42aa-baad-29039819898f",
   "metadata": {
    "tags": []
   },
   "outputs": [],
   "source": [
    "clf1 = DecisionTreeClassifier()\n",
    "clf2 = GaussianNB()\n",
    "clf3 = KNeighborsClassifier(n_neighbors=3)\n",
    "clf4 = svm.SVC()\n",
    "\n",
    "eclf = VotingClassifier(\n",
    "     estimators=[('dt', clf1), ('nb', clf2), ('kNN', clf3), ('svm', clf4)],\n",
    "     voting='hard')\n",
    "\n",
    "for clf, label in zip([clf1, clf2, clf3, clf4, eclf], ['dt', 'nb', 'kNN', 'svm', 'Ensemble']):\n",
    "    scores = cross_val_score(clf, X, y, scoring='accuracy', cv=10)\n",
    "    print(\"Accuracy: %0.2f (+/- %0.2f) [%s]\" % (scores.mean(), scores.std(), label))"
   ]
  },
  {
   "cell_type": "markdown",
   "id": "15bc55e0-272c-45cd-b221-10137aeee79a",
   "metadata": {},
   "source": [
    "Usamos Voting con los clasificadores \n",
    "\n",
    "1. Árboles de desición\n",
    "2. Árboles de desición \n",
    "3. KNN\n",
    "4. SVM"
   ]
  },
  {
   "cell_type": "code",
   "execution_count": null,
   "id": "fcb92aad-de6e-4146-ac92-8fe838e96d42",
   "metadata": {
    "tags": []
   },
   "outputs": [],
   "source": [
    "clf1 = DecisionTreeClassifier()\n",
    "clf2 = DecisionTreeClassifier()\n",
    "clf3 = KNeighborsClassifier(n_neighbors=3)\n",
    "clf4 = svm.SVC()\n",
    "\n",
    "eclf = VotingClassifier(\n",
    "     estimators=[('dt', clf1), ('nb', clf2), ('kNN', clf3), ('svm', clf4)],\n",
    "     voting='hard')\n",
    "\n",
    "for clf, label in zip([clf1, clf2, clf3, clf4, eclf], ['dt', 'dt', 'kNN', 'svm', 'Ensemble']):\n",
    "    scores = cross_val_score(clf, X, y, scoring='accuracy', cv=10)\n",
    "    print(\"Accuracy: %0.2f (+/- %0.2f) [%s]\" % (scores.mean(), scores.std(), label))"
   ]
  },
  {
   "cell_type": "markdown",
   "id": "e005286c-e061-4899-8a42-739ecadd39c4",
   "metadata": {},
   "source": [
    "Usamos Voting con los clasificadores y modificamos el clasificador de KNN con n=10\n",
    "\n",
    "1. Árboles de desición\n",
    "2. Naive Bayes\n",
    "3. KNN\n",
    "4. SVM"
   ]
  },
  {
   "cell_type": "code",
   "execution_count": null,
   "id": "49506fc1-670c-4ab9-8e58-7bdf6ce18df5",
   "metadata": {
    "tags": []
   },
   "outputs": [],
   "source": [
    "clf1 = DecisionTreeClassifier()\n",
    "clf2 = GaussianNB()\n",
    "clf3 = KNeighborsClassifier(n_neighbors=10)\n",
    "clf4 = svm.SVC()\n",
    "\n",
    "eclf = VotingClassifier(\n",
    "     estimators=[('dt', clf1), ('nb', clf2), ('kNN', clf3), ('svm', clf4)],\n",
    "     voting='hard')\n",
    "\n",
    "for clf, label in zip([clf1, clf2, clf3, clf4, eclf], ['dt', 'nb', 'kNN', 'svm', 'Ensemble']):\n",
    "    scores = cross_val_score(clf, X, y, scoring='accuracy', cv=10)\n",
    "    print(\"Accuracy: %0.2f (+/- %0.2f) [%s]\" % (scores.mean(), scores.std(), label))"
   ]
  },
  {
   "cell_type": "markdown",
   "id": "f338dcad-4de9-4304-908e-4509caf3d5bf",
   "metadata": {},
   "source": [
    "#### <span style=\"color:Orange\">Resultados con Voting</span>\n",
    "\n",
    "Para el Meta-Modelo de Voting podemos observar que al modificar los clasificadores que fueron \n",
    "\n",
    "1. Árboles de desición\n",
    "2. Naive Bayes\n",
    "3. KNN\n",
    "4. SVM \n",
    "\n",
    "Obteniendo un valor de precisión <span style=\"color:Blue\">0.77</span>\n",
    "\n",
    "Se realiza el cambio de estos clasificadores por:\n",
    "\n",
    "1. Árboles de desición\n",
    "2. Árboles de desición\n",
    "3. KNN\n",
    "4. SVM \n",
    "\n",
    "Obteniendo un valor de precisión  <span style=\"color:Blue\">0.70</span>, por lo que podemos notar que al realizar esta acción de poner dos clasificadores iguales nos proporciona un menor valor en nuestra precisión.\n",
    "\n",
    "Y el último intento que se realizó fue mantener el mismo orden que al incio solamente cambiando al valor de los estimadores. \n",
    "\n",
    "1. Árboles de desición\n",
    "2. Naive Bayes\n",
    "3. KNN  n=10\n",
    "4. SVM \n",
    "\n",
    "Con está configuración se obtuvo una precisón de <span style=\"color:Blue\">0.77</span>"
   ]
  },
  {
   "cell_type": "markdown",
   "id": "7b9f6e6d-3555-480d-884c-9e62c2852f65",
   "metadata": {},
   "source": [
    "## <span style=\"color:Red\">Conlcusiones</span>\n",
    "\n"
   ]
  },
  {
   "cell_type": "markdown",
   "id": "2e4f82c1-8403-4666-bbbd-46cf58946e23",
   "metadata": {},
   "source": [
    "En esta práctica se evaluaron los Meta-Modelos en los cuales se obtuvieron mejores resultados para el primer objetivo, los cuales fueron; RandomForest, Adaboost y Voting. Al hacer uso de estos Meta-Modelos de manera \"stock\" se supero el modelo base sin ningun problema con los tres Meta-Modelos. \n",
    "Y para la segunda parte al optimizar los Modelos pudimos observar que se mejoro aún más el resultado de la precisón para estos Meta-Modelos. "
   ]
  },
  {
   "cell_type": "code",
   "execution_count": null,
   "id": "6c9839df-d050-43fd-9330-eab68dc6cdc5",
   "metadata": {},
   "outputs": [],
   "source": []
  }
 ],
 "metadata": {
  "kernelspec": {
   "display_name": "Python 3 (ipykernel)",
   "language": "python",
   "name": "python3"
  },
  "language_info": {
   "codemirror_mode": {
    "name": "ipython",
    "version": 3
   },
   "file_extension": ".py",
   "mimetype": "text/x-python",
   "name": "python",
   "nbconvert_exporter": "python",
   "pygments_lexer": "ipython3",
   "version": "3.11.4"
  }
 },
 "nbformat": 4,
 "nbformat_minor": 5
}

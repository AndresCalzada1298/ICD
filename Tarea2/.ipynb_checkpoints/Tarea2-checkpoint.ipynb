{
 "cells": [
  {
   "cell_type": "markdown",
   "id": "2972c713-6067-4ee7-9e9a-5145e3ff3d65",
   "metadata": {},
   "source": [
    "### Tarea 2\n",
    "\n",
    "\n",
    "### Calzada Jasso Andres Geovani 23265539\n",
    "\n",
    "#### 3 Types of Data Cleaning You Must Know in Python\n"
   ]
  },
  {
   "cell_type": "markdown",
   "id": "dbb7b65e-1b9a-4e20-ac74-ed202b9dd574",
   "metadata": {},
   "source": [
    "La limpieza de datos es una de las tareas que consumen más tiempo en el análisis de datos, aunado a ello los datos en la mayoria de las ocasiones viene de una manera incorrecta.  \n",
    "Contiene nombres de columnas incorrectos o abreviados, datos faltantes, tipos de datos incorrectos, demasiada información en una sola columna, etc.\n",
    "Es importante solucionar estos problemas antes de procesar los datos. En última instancia, los datos limpios siempre aumentan la productividad y le permiten crear conocimientos mejores y más precisos.\n",
    "En este ejemplo se muestran 3 tipos de limpieza de datos que nos ayudarán a mejorar la información con la que se quiera trabajar en un futuro.\n",
    "Lo primero que debemos hacer es importar las librerias "
   ]
  },
  {
   "cell_type": "code",
   "execution_count": 1,
   "id": "67ce80c7-868f-4b4b-83a8-82efeb29923f",
   "metadata": {
    "tags": []
   },
   "outputs": [],
   "source": [
    "import pandas as pd\n",
    "import numpy as np\n",
    "import seaborn as sns\n",
    "import matplotlib.pyplot as plt"
   ]
  },
  {
   "cell_type": "code",
   "execution_count": 2,
   "id": "6687290c-ba8e-42b9-8fdb-0f740189af63",
   "metadata": {
    "tags": []
   },
   "outputs": [
    {
     "name": "stdout",
     "output_type": "stream",
     "text": [
      "<class 'pandas.core.frame.DataFrame'>\n",
      "RangeIndex: 1309 entries, 0 to 1308\n",
      "Data columns (total 21 columns):\n",
      " #   Column       Non-Null Count  Dtype  \n",
      "---  ------       --------------  -----  \n",
      " 0   PassengerId  1309 non-null   int64  \n",
      " 1   Survived     891 non-null    float64\n",
      " 2   Pclass       1309 non-null   int64  \n",
      " 3   Name         1309 non-null   object \n",
      " 4   Sex          1309 non-null   object \n",
      " 5   Age          1046 non-null   float64\n",
      " 6   SibSp        1309 non-null   int64  \n",
      " 7   Parch        1309 non-null   int64  \n",
      " 8   Ticket       1309 non-null   object \n",
      " 9   Fare         1308 non-null   float64\n",
      " 10  Cabin        295 non-null    object \n",
      " 11  Embarked     1307 non-null   object \n",
      " 12  WikiId       1304 non-null   float64\n",
      " 13  Name_wiki    1304 non-null   object \n",
      " 14  Age_wiki     1302 non-null   float64\n",
      " 15  Hometown     1304 non-null   object \n",
      " 16  Boarded      1304 non-null   object \n",
      " 17  Destination  1304 non-null   object \n",
      " 18  Lifeboat     502 non-null    object \n",
      " 19  Body         130 non-null    object \n",
      " 20  Class        1304 non-null   float64\n",
      "dtypes: float64(6), int64(4), object(11)\n",
      "memory usage: 214.9+ KB\n"
     ]
    }
   ],
   "source": [
    "#Obtenemos una descripción general de lo que contiene nuestro archivo .csv\n",
    "\n",
    "df = pd.read_csv(\"archive/full.csv\") \n",
    "df.info()\n"
   ]
  },
  {
   "cell_type": "markdown",
   "id": "acf1d043-d58f-40eb-a381-598fc635c96c",
   "metadata": {},
   "source": [
    "Comencemos primero con los pasos de limpieza más sencillos, lo que puede ahorrar algo de memoria y tiempo a medida que avanza con el procesamiento.\n",
    "\n",
    "## *Eliminar columnas irrelevantes y no utilizadas* \n",
    "\n",
    "En esta base de datos se tiene 21 columnas, de las cuales no se hara uso de todas \n",
    "\n",
    "Todo lo que necesita hacer es crear una lista de estos nombres de columnas y usarla en la df.drop() función como se muestra a continuación\n"
   ]
  },
  {
   "cell_type": "code",
   "execution_count": 3,
   "id": "0f5c1345-7dd7-47d9-9314-d7f70e7084ae",
   "metadata": {
    "tags": []
   },
   "outputs": [
    {
     "data": {
      "text/html": [
       "<div>\n",
       "<style scoped>\n",
       "    .dataframe tbody tr th:only-of-type {\n",
       "        vertical-align: middle;\n",
       "    }\n",
       "\n",
       "    .dataframe tbody tr th {\n",
       "        vertical-align: top;\n",
       "    }\n",
       "\n",
       "    .dataframe thead th {\n",
       "        text-align: right;\n",
       "    }\n",
       "</style>\n",
       "<table border=\"1\" class=\"dataframe\">\n",
       "  <thead>\n",
       "    <tr style=\"text-align: right;\">\n",
       "      <th></th>\n",
       "      <th>Survived</th>\n",
       "      <th>Pclass</th>\n",
       "      <th>Name</th>\n",
       "      <th>Sex</th>\n",
       "      <th>Age</th>\n",
       "      <th>Ticket</th>\n",
       "      <th>Fare</th>\n",
       "      <th>Cabin</th>\n",
       "      <th>Embarked</th>\n",
       "      <th>Hometown</th>\n",
       "      <th>Boarded</th>\n",
       "      <th>Destination</th>\n",
       "      <th>Lifeboat</th>\n",
       "      <th>Body</th>\n",
       "      <th>Class</th>\n",
       "    </tr>\n",
       "  </thead>\n",
       "  <tbody>\n",
       "    <tr>\n",
       "      <th>0</th>\n",
       "      <td>0.0</td>\n",
       "      <td>3</td>\n",
       "      <td>Braund, Mr. Owen Harris</td>\n",
       "      <td>male</td>\n",
       "      <td>22.0</td>\n",
       "      <td>A/5 21171</td>\n",
       "      <td>7.2500</td>\n",
       "      <td>NaN</td>\n",
       "      <td>S</td>\n",
       "      <td>Bridgerule, Devon, England</td>\n",
       "      <td>Southampton</td>\n",
       "      <td>Qu'Appelle Valley, Saskatchewan, Canada</td>\n",
       "      <td>NaN</td>\n",
       "      <td>NaN</td>\n",
       "      <td>3.0</td>\n",
       "    </tr>\n",
       "    <tr>\n",
       "      <th>1</th>\n",
       "      <td>1.0</td>\n",
       "      <td>1</td>\n",
       "      <td>Cumings, Mrs. John Bradley (Florence Briggs Th...</td>\n",
       "      <td>female</td>\n",
       "      <td>38.0</td>\n",
       "      <td>PC 17599</td>\n",
       "      <td>71.2833</td>\n",
       "      <td>C85</td>\n",
       "      <td>C</td>\n",
       "      <td>New York, New York, US</td>\n",
       "      <td>Cherbourg</td>\n",
       "      <td>New York, New York, US</td>\n",
       "      <td>4</td>\n",
       "      <td>NaN</td>\n",
       "      <td>1.0</td>\n",
       "    </tr>\n",
       "    <tr>\n",
       "      <th>2</th>\n",
       "      <td>1.0</td>\n",
       "      <td>3</td>\n",
       "      <td>Heikkinen, Miss. Laina</td>\n",
       "      <td>female</td>\n",
       "      <td>26.0</td>\n",
       "      <td>STON/O2. 3101282</td>\n",
       "      <td>7.9250</td>\n",
       "      <td>NaN</td>\n",
       "      <td>S</td>\n",
       "      <td>Jyväskylä, Finland</td>\n",
       "      <td>Southampton</td>\n",
       "      <td>New York City</td>\n",
       "      <td>14?</td>\n",
       "      <td>NaN</td>\n",
       "      <td>3.0</td>\n",
       "    </tr>\n",
       "    <tr>\n",
       "      <th>3</th>\n",
       "      <td>1.0</td>\n",
       "      <td>1</td>\n",
       "      <td>Futrelle, Mrs. Jacques Heath (Lily May Peel)</td>\n",
       "      <td>female</td>\n",
       "      <td>35.0</td>\n",
       "      <td>113803</td>\n",
       "      <td>53.1000</td>\n",
       "      <td>C123</td>\n",
       "      <td>S</td>\n",
       "      <td>Scituate, Massachusetts, US</td>\n",
       "      <td>Southampton</td>\n",
       "      <td>Scituate, Massachusetts, US</td>\n",
       "      <td>D</td>\n",
       "      <td>NaN</td>\n",
       "      <td>1.0</td>\n",
       "    </tr>\n",
       "    <tr>\n",
       "      <th>4</th>\n",
       "      <td>0.0</td>\n",
       "      <td>3</td>\n",
       "      <td>Allen, Mr. William Henry</td>\n",
       "      <td>male</td>\n",
       "      <td>35.0</td>\n",
       "      <td>373450</td>\n",
       "      <td>8.0500</td>\n",
       "      <td>NaN</td>\n",
       "      <td>S</td>\n",
       "      <td>Birmingham, West Midlands, England</td>\n",
       "      <td>Southampton</td>\n",
       "      <td>New York City</td>\n",
       "      <td>NaN</td>\n",
       "      <td>NaN</td>\n",
       "      <td>3.0</td>\n",
       "    </tr>\n",
       "  </tbody>\n",
       "</table>\n",
       "</div>"
      ],
      "text/plain": [
       "   Survived  Pclass                                               Name  \\\n",
       "0       0.0       3                            Braund, Mr. Owen Harris   \n",
       "1       1.0       1  Cumings, Mrs. John Bradley (Florence Briggs Th...   \n",
       "2       1.0       3                             Heikkinen, Miss. Laina   \n",
       "3       1.0       1       Futrelle, Mrs. Jacques Heath (Lily May Peel)   \n",
       "4       0.0       3                           Allen, Mr. William Henry   \n",
       "\n",
       "      Sex   Age            Ticket     Fare Cabin Embarked  \\\n",
       "0    male  22.0         A/5 21171   7.2500   NaN        S   \n",
       "1  female  38.0          PC 17599  71.2833   C85        C   \n",
       "2  female  26.0  STON/O2. 3101282   7.9250   NaN        S   \n",
       "3  female  35.0            113803  53.1000  C123        S   \n",
       "4    male  35.0            373450   8.0500   NaN        S   \n",
       "\n",
       "                             Hometown      Boarded  \\\n",
       "0          Bridgerule, Devon, England  Southampton   \n",
       "1              New York, New York, US    Cherbourg   \n",
       "2                  Jyväskylä, Finland  Southampton   \n",
       "3         Scituate, Massachusetts, US  Southampton   \n",
       "4  Birmingham, West Midlands, England  Southampton   \n",
       "\n",
       "                               Destination Lifeboat Body  Class  \n",
       "0  Qu'Appelle Valley, Saskatchewan, Canada      NaN  NaN    3.0  \n",
       "1                   New York, New York, US        4  NaN    1.0  \n",
       "2                            New York City      14?  NaN    3.0  \n",
       "3              Scituate, Massachusetts, US        D  NaN    1.0  \n",
       "4                            New York City      NaN  NaN    3.0  "
      ]
     },
     "execution_count": 3,
     "metadata": {},
     "output_type": "execute_result"
    }
   ],
   "source": [
    "'''\n",
    "Se eliminan las columnas que seran inecesarias durantes el procesamiento, para ellos se hace uso de la función mostrada \n",
    "poniendo como argumento la lista de columnas a remover\n",
    "'''\n",
    "\n",
    "columns_to_drop = ['PassengerId', 'SibSp', \n",
    "                   'Parch', 'WikiId', \n",
    "                   'Name_wiki', 'Age_wiki']\n",
    "df.drop(columns_to_drop, inplace=True, axis = 1) #Un inconveniente menor de eliminar las columnas usando el método .drop()es que altera el DataFrame \n",
    "                                                 #original cuando usas inplace = True\n",
    "df.head()"
   ]
  },
  {
   "cell_type": "markdown",
   "id": "64e7a97b-ec8b-4712-a410-05ae46a4af89",
   "metadata": {},
   "source": [
    "Alternativamente, puede surgir un escenario en el que desee eliminar una gran cantidad de columnas y conservar solo entre 4 y 5 columnas. En ese caso, en lugar de usar, df.drop() debes usar df.copy() con un número seleccionado de columnas.\n",
    "\n",
    "Por ejemplo, si desea utilizar solo las columnas Nombre, Sexo, Edad y Sobrevivientes del conjunto de datos, puede crear subconjuntos del conjunto de datos original df.copy() como se muestra a continuación."
   ]
  },
  {
   "cell_type": "code",
   "execution_count": null,
   "id": "cc4a16be-ef42-4494-84b5-452383c9f247",
   "metadata": {
    "tags": []
   },
   "outputs": [],
   "source": [
    "df1 = df[[\"Name\",\"Age\",\"Sex\",\"Survived\"]].copy()\n",
    "df1.head()"
   ]
  },
  {
   "cell_type": "markdown",
   "id": "bd80a1cb-1871-47ea-9a2b-fb4a77f0f8fb",
   "metadata": {},
   "source": [
    "Dependiendo de cuáles sean los requisitos reales de su tarea, puede utilizar cualquiera de los métodos anteriores para elegir solo las columnas relevantes.\n",
    "\n",
    "## **Manejo de valores faltantes o NaN**\n",
    "\n",
    "En la mayoría de los conjuntos de datos, se hace inevitable enfrentarse a valores faltantes, lo cual constituye una de las tareas más desafiantes en el proceso de limpieza de datos. Es crucial tener en cuenta que, si tiene la intención de emplear estos datos en tareas de aprendizaje automático, es importante destacar que la mayoría de los modelos no admiten valores faltantes.\n",
    "\n",
    "##### *¿Pero cómo encontrar los datos que faltan?*\n",
    "\n",
    "Hay varias formas de averiguar en qué sección o columnas del conjunto de datos faltan los valores. A continuación se presentan las cuatro técnicas comúnmente utilizadas para descubrir los datos faltantes.\n",
    "\n",
    "#####  **El método .info()**\n",
    "\n",
    "Esta es una de las formas más sencillas de saber si faltan valores en alguna columna. Cuando lo utilice, df.info() podrá ver una descripción general rápida del DataFrame df como se muestra a continuación."
   ]
  },
  {
   "cell_type": "code",
   "execution_count": 6,
   "id": "77658653-0590-482a-a611-60e5eb748885",
   "metadata": {
    "tags": []
   },
   "outputs": [
    {
     "name": "stdout",
     "output_type": "stream",
     "text": [
      "<class 'pandas.core.frame.DataFrame'>\n",
      "RangeIndex: 1309 entries, 0 to 1308\n",
      "Data columns (total 15 columns):\n",
      " #   Column       Non-Null Count  Dtype  \n",
      "---  ------       --------------  -----  \n",
      " 0   Survived     891 non-null    float64\n",
      " 1   Pclass       1309 non-null   int64  \n",
      " 2   Name         1309 non-null   object \n",
      " 3   Sex          1309 non-null   object \n",
      " 4   Age          1046 non-null   float64\n",
      " 5   Ticket       1309 non-null   object \n",
      " 6   Fare         1308 non-null   float64\n",
      " 7   Cabin        295 non-null    object \n",
      " 8   Embarked     1307 non-null   object \n",
      " 9   Hometown     1304 non-null   object \n",
      " 10  Boarded      1304 non-null   object \n",
      " 11  Destination  1304 non-null   object \n",
      " 12  Lifeboat     502 non-null    object \n",
      " 13  Body         130 non-null    object \n",
      " 14  Class        1304 non-null   float64\n",
      "dtypes: float64(4), int64(1), object(10)\n",
      "memory usage: 153.5+ KB\n"
     ]
    }
   ],
   "source": [
    "df.info()\n",
    "#Como se puede notar que en la fila 1, 4, 7, 12, 13 se encunetran datos faltantes en la base de datos "
   ]
  },
  {
   "cell_type": "markdown",
   "id": "70a6b2dc-880d-4311-afe0-219141cc5e46",
   "metadata": {},
   "source": [
    "Los números de las columnas que se muestran arriba son aquellos en los que faltan varios valores. Idealmente, cada columna de este conjunto de datos debería contener 1309 valores, pero este resultado muestra que la mayoría de las columnas contienen valores inferiores a 1309. Si observamos la clase \"Class\" menciona que todos los valores se encuentrane en el DataFrame, en comparación de los datos mencionados con los números 1, 4, 7, 12, 13. Ya que son los datos a los cuales les fantan datos \n",
    "\n",
    "##### **Heatmap of missing data**\n",
    "\n",
    "Es una de las formas comunes de visualizar los datos faltantes. Puede crear un mapa de calor de datos codificando los datos como valores booleanos, es decir, 1 o 0, y puede usar la función pandas .isna() para ello.\n",
    "\n",
    "##### *¿Qué hay .isna() en los pandas?*\n",
    "\n",
    "El método isna() devuelve un objeto DataFrame donde todos los valores se reemplazan con un valor booleano Verdadero NaN y, en caso contrario, Falso.\n",
    "\n",
    "Lo que necesita hacer es escribir solo una línea de código como se muestra a continuación."
   ]
  },
  {
   "cell_type": "code",
   "execution_count": 8,
   "id": "71f82b24-113a-4e99-96f5-410d0ae28a29",
   "metadata": {
    "tags": []
   },
   "outputs": [
    {
     "data": {
      "image/png": "[encoded data removed]",
      "text/plain": [
       "<Figure size 640x480 with 2 Axes>"
      ]
     },
     "metadata": {},
     "output_type": "display_data"
    }
   ],
   "source": [
    "sns.heatmap(df.isna());\n",
    "\n",
    "#Es obvio darse cuenta que usando esta función "
   ]
  },
  {
   "cell_type": "markdown",
   "id": "dd8cb082-2bb2-460a-b029-090f576ddb5a",
   "metadata": {},
   "source": [
    "El eje X en el gráfico anterior muestra todos los nombres de las columnas, mientras que el eje Y representa los números de índice o fila. La leyenda del lado derecho informa sobre los valores booleanos utilizados para indicar los datos faltantes.\n",
    "Esto es util para comprender en qué parte o entre qué números de índice faltan datos en una columna específica.\n",
    "Aunque existe otra manera para visualizar los datos de otra manera con la misma función, por lo que se puede utilizar.\n"
   ]
  },
  {
   "cell_type": "code",
   "execution_count": 10,
   "id": "42540b26-a1b9-4b04-84e9-f32565d41ff2",
   "metadata": {
    "tags": []
   },
   "outputs": [
    {
     "data": {
      "image/png": "[encoded data removed]",
      "text/plain": [
       "<Figure size 640x480 with 2 Axes>"
      ]
     },
     "metadata": {},
     "output_type": "display_data"
    }
   ],
   "source": [
    "sns.heatmap(df.isna().transpose());\n",
    "\n",
    "# Donde simplemente se usa la función 'transpose' para visualizar la gráfica de la misma manera "
   ]
  },
  {
   "cell_type": "markdown",
   "id": "4a1f16f2-462d-41f3-9385-691e9398f8db",
   "metadata": {},
   "source": [
    "Aunque los mapas de calor proporcionan una idea sobre la ubicación de los datos faltantes, no le informan sobre la cantidad de datos faltantes. Y puedes obtenerlo usando el siguiente método.\n",
    "\n",
    "##### **Missing data as a percentage of total data**"
   ]
  },
  {
   "cell_type": "code",
   "execution_count": 11,
   "id": "879a6140-ecbd-40a6-ad58-09d7449df4da",
   "metadata": {
    "tags": []
   },
   "outputs": [
    {
     "name": "stdout",
     "output_type": "stream",
     "text": [
      "Amount of missing values in - \n",
      "Survived : 32%\n",
      "Pclass : 0%\n",
      "Name : 0%\n",
      "Sex : 0%\n",
      "Age : 20%\n",
      "Ticket : 0%\n",
      "Fare : 0%\n",
      "Cabin : 77%\n",
      "Embarked : 0%\n",
      "Hometown : 0%\n",
      "Boarded : 0%\n",
      "Destination : 0%\n",
      "Lifeboat : 62%\n",
      "Body : 90%\n",
      "Class : 0%\n"
     ]
    }
   ],
   "source": [
    "print(\"Amount of missing values in - \")\n",
    "for column in df.columns:\n",
    "    percentage_missing = np.mean(df[column].isna())\n",
    "    print(f'{column} : {round(percentage_missing*100)}%')"
   ]
  },
  {
   "cell_type": "markdown",
   "id": "13fc60df-d249-4c3c-bd7a-b8550678a09b",
   "metadata": {},
   "source": [
    "De esta manera se puede ver (en porcentajes) faltan valores en las columnas individuales. Esto puede resultar útil al manejar estos valores faltantes.\n",
    "\n",
    "No existe una forma estándar de tratar los datos faltantes. La única forma es observar la columna individual, la cantidad de valores que faltan en ella y la importancia de esa columna en el futuro.\n",
    "\n",
    "Según las observaciones anteriores, puede utilizar cualquiera de los 3 métodos siguientes para manejar los datos faltantes.\n",
    "\n",
    "1. Eliminar el registro : eliminar un registro completo en un índice, cuando a una columna específica le falta un valor o NaN en él. Se debe tener en cuenta que esta técnica puede reducir drásticamente la cantidad de registros en el conjunto de datos si la columna mencionada tiene una gran cantidad de valores faltantes.\n",
    "\n",
    "2. Suelte la columna o característica : esto requiere una buena investigación de una columna específica para comprender su importancia en el futuro. Puede hacer esto solo cuando esté seguro de que esta función no proporciona ninguna información útil, por ejemplo, PassengerIduna función en este conjunto de datos.\n",
    "\n",
    "3. Imputar datos faltantes : en esta técnica, puede sustituir los valores faltantes NaN por la media, la mediana o la moda de la misma columna.\n",
    "\n",
    "\n",
    "##### **Corregir los tipos de datos**\n",
    "\n",
    "El tipo de datos de cada columna debe ser correcto y apropiado para su uso futuro.\n",
    "Por ejemplo, en el conjunto de datos de Titanic puede ver los tipos de datos de columna .info ()como se muestra a continuación."
   ]
  },
  {
   "cell_type": "code",
   "execution_count": 12,
   "id": "8ce762c8-a64c-4601-b31b-de8e9d37157e",
   "metadata": {
    "tags": []
   },
   "outputs": [
    {
     "name": "stdout",
     "output_type": "stream",
     "text": [
      "<class 'pandas.core.frame.DataFrame'>\n",
      "RangeIndex: 1309 entries, 0 to 1308\n",
      "Data columns (total 15 columns):\n",
      " #   Column       Non-Null Count  Dtype  \n",
      "---  ------       --------------  -----  \n",
      " 0   Survived     891 non-null    float64\n",
      " 1   Pclass       1309 non-null   int64  \n",
      " 2   Name         1309 non-null   object \n",
      " 3   Sex          1309 non-null   object \n",
      " 4   Age          1046 non-null   float64\n",
      " 5   Ticket       1309 non-null   object \n",
      " 6   Fare         1308 non-null   float64\n",
      " 7   Cabin        295 non-null    object \n",
      " 8   Embarked     1307 non-null   object \n",
      " 9   Hometown     1304 non-null   object \n",
      " 10  Boarded      1304 non-null   object \n",
      " 11  Destination  1304 non-null   object \n",
      " 12  Lifeboat     502 non-null    object \n",
      " 13  Body         130 non-null    object \n",
      " 14  Class        1304 non-null   float64\n",
      "dtypes: float64(4), int64(1), object(10)\n",
      "memory usage: 153.5+ KB\n"
     ]
    }
   ],
   "source": [
    "df.info()"
   ]
  },
  {
   "cell_type": "markdown",
   "id": "ba6b2f88-e374-48d0-aa74-18f74e68cfc5",
   "metadata": {},
   "source": [
    "Observe que para los datos en las columnas Edad y Sobrevivientes se tiene el tipo de dato float64, sin embargo, Edad siempre debe ser un número entero y Survived debe tener solo dos tipos de valores: Sí o No.\n",
    "\n",
    "Para entenderlo mejor, veamos 5 valores aleatorios en estas columnas."
   ]
  },
  {
   "cell_type": "code",
   "execution_count": 13,
   "id": "f36941d5-808b-4766-87ff-e42c0e147bf2",
   "metadata": {
    "tags": []
   },
   "outputs": [
    {
     "data": {
      "text/html": [
       "<div>\n",
       "<style scoped>\n",
       "    .dataframe tbody tr th:only-of-type {\n",
       "        vertical-align: middle;\n",
       "    }\n",
       "\n",
       "    .dataframe tbody tr th {\n",
       "        vertical-align: top;\n",
       "    }\n",
       "\n",
       "    .dataframe thead th {\n",
       "        text-align: right;\n",
       "    }\n",
       "</style>\n",
       "<table border=\"1\" class=\"dataframe\">\n",
       "  <thead>\n",
       "    <tr style=\"text-align: right;\">\n",
       "      <th></th>\n",
       "      <th>Name</th>\n",
       "      <th>Sex</th>\n",
       "      <th>Survived</th>\n",
       "      <th>Age</th>\n",
       "    </tr>\n",
       "  </thead>\n",
       "  <tbody>\n",
       "    <tr>\n",
       "      <th>958</th>\n",
       "      <td>Moore, Mr. Clarence Bloomfield</td>\n",
       "      <td>male</td>\n",
       "      <td>NaN</td>\n",
       "      <td>47.0</td>\n",
       "    </tr>\n",
       "    <tr>\n",
       "      <th>993</th>\n",
       "      <td>Foley, Mr. William</td>\n",
       "      <td>male</td>\n",
       "      <td>NaN</td>\n",
       "      <td>NaN</td>\n",
       "    </tr>\n",
       "    <tr>\n",
       "      <th>402</th>\n",
       "      <td>Jussila, Miss. Mari Aina</td>\n",
       "      <td>female</td>\n",
       "      <td>0.0</td>\n",
       "      <td>21.0</td>\n",
       "    </tr>\n",
       "    <tr>\n",
       "      <th>1058</th>\n",
       "      <td>Ford, Mr. Edward Watson</td>\n",
       "      <td>male</td>\n",
       "      <td>NaN</td>\n",
       "      <td>18.0</td>\n",
       "    </tr>\n",
       "    <tr>\n",
       "      <th>1025</th>\n",
       "      <td>Dintcheff, Mr. Valtcho</td>\n",
       "      <td>male</td>\n",
       "      <td>NaN</td>\n",
       "      <td>43.0</td>\n",
       "    </tr>\n",
       "  </tbody>\n",
       "</table>\n",
       "</div>"
      ],
      "text/plain": [
       "                                Name     Sex  Survived   Age\n",
       "958   Moore, Mr. Clarence Bloomfield    male       NaN  47.0\n",
       "993               Foley, Mr. William    male       NaN   NaN\n",
       "402         Jussila, Miss. Mari Aina  female       0.0  21.0\n",
       "1058         Ford, Mr. Edward Watson    male       NaN  18.0\n",
       "1025          Dintcheff, Mr. Valtcho    male       NaN  43.0"
      ]
     },
     "execution_count": 13,
     "metadata": {},
     "output_type": "execute_result"
    }
   ],
   "source": [
    "df[[\"Name\",\"Sex\",\"Survived\",\"Age\"]].sample(5)"
   ]
  },
  {
   "cell_type": "markdown",
   "id": "d9500d14-0d0b-4074-9ea5-5b55c869e0f7",
   "metadata": {},
   "source": [
    "Además de los valores faltantes, la columna survived se tienen dos valores, 0.0 & 1.0, que idealmente deberían ser 0 y 1 como booleanos para No & Yes, respectivamente. Además, la columna Edad contiene valores en formato decimal.\n",
    "\n",
    "Además de los pasos de limpieza de datos anteriores, es posible que también se necesiten algunas de las siguientes formas de limpieza de datos, según su caso de uso.\n",
    "\n",
    "1. Reemplazar valores en una columna : a veces, las columnas de su conjunto de datos contienen valores como Verdadero – Falso, Sí – No, que se pueden reemplazar fácilmente con 1& 0para que el conjunto de datos se pueda utilizar para aplicaciones de aprendizaje automático.\n",
    "\n",
    "2. Eliminar valores atípicos : los valores atípicos son puntos de datos que difieren significativamente de otras observaciones. Sin embargo, no siempre es una buena idea descartar un valor atípico. Se necesita una evaluación cuidadosa de estos puntos de datos significativamente diferentes. \n",
    "\n",
    "3. Eliminar duplicados : puede considerar datos duplicados cuando todos los valores en todas las columnas dentro de los registros son iguales. Y el método Pandas DataFrame .drop_duplicates() es bastante útil para eliminar duplicados."
   ]
  },
  {
   "cell_type": "markdown",
   "id": "4be9aeb3-86a2-4ecb-a021-64dd4e75c861",
   "metadata": {},
   "source": [
    "### **Conlcusión**\n",
    "\n",
    "A medida que hemos analizado a lo largo del artículo, respaldado por ejemplos concretos en el código, es innegable que llevar a cabo una correcta limpieza de datos es un paso crítico para evitar que información problemática nos cause dificultades en el futuro. Más allá de depender exclusivamente de una computadora para facilitar este proceso, es esencial para comprender mejor los datos y asegurar una interpretación precisa. La persistencia de datos problemáticos puede tener un impacto considerable.\n",
    "Por lo tanto, es altamente beneficioso realizar una limpieza exhaustiva de los datos, lo que nos permitirá trabajar de manera más eficiente y, sobre todo, precisa. "
   ]
  },
  {
   "cell_type": "code",
   "execution_count": null,
   "id": "422697c4-c83c-486c-862a-9084aff4fff7",
   "metadata": {},
   "outputs": [],
   "source": []
  }
 ],
 "metadata": {
  "kernelspec": {
   "display_name": "Python 3 (ipykernel)",
   "language": "python",
   "name": "python3"
  },
  "language_info": {
   "codemirror_mode": {
    "name": "ipython",
    "version": 3
   },
   "file_extension": ".py",
   "mimetype": "text/x-python",
   "name": "python",
   "nbconvert_exporter": "python",
   "pygments_lexer": "ipython3",
   "version": "3.11.4"
  }
 },
 "nbformat": 4,
 "nbformat_minor": 5
}
